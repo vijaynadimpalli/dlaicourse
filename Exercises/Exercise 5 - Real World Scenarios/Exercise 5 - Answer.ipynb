{
  "nbformat": 4,
  "nbformat_minor": 0,
  "metadata": {
    "accelerator": "GPU",
    "colab": {
      "name": "Exercise 5 - Answer.ipynb",
      "provenance": [],
      "toc_visible": true,
      "include_colab_link": true
    },
    "kernelspec": {
      "display_name": "Python 3",
      "name": "python3"
    }
  },
  "cells": [
    {
      "cell_type": "markdown",
      "metadata": {
        "id": "view-in-github",
        "colab_type": "text"
      },
      "source": [
        "<a href=\"https://colab.research.google.com/github/vijaynadimpalli/dlaicourse/blob/master/Exercises/Exercise%205%20-%20Real%20World%20Scenarios/Exercise%205%20-%20Answer.ipynb\" target=\"_parent\"><img src=\"https://colab.research.google.com/assets/colab-badge.svg\" alt=\"Open In Colab\"/></a>"
      ]
    },
    {
      "cell_type": "code",
      "metadata": {
        "id": "zX4Kg8DUTKWO"
      },
      "source": [
        "#@title Licensed under the Apache License, Version 2.0 (the \"License\");\n",
        "# you may not use this file except in compliance with the License.\n",
        "# You may obtain a copy of the License at\n",
        "#\n",
        "# https://www.apache.org/licenses/LICENSE-2.0\n",
        "#\n",
        "# Unless required by applicable law or agreed to in writing, software\n",
        "# distributed under the License is distributed on an \"AS IS\" BASIS,\n",
        "# WITHOUT WARRANTIES OR CONDITIONS OF ANY KIND, either express or implied.\n",
        "# See the License for the specific language governing permissions and\n",
        "# limitations under the License."
      ],
      "execution_count": 1,
      "outputs": []
    },
    {
      "cell_type": "code",
      "metadata": {
        "id": "dn-6c02VmqiN"
      },
      "source": [
        "import os\n",
        "import zipfile\n",
        "import random\n",
        "import tensorflow as tf\n",
        "from tensorflow.keras.optimizers import RMSprop\n",
        "from tensorflow.keras.preprocessing.image import ImageDataGenerator\n",
        "from shutil import copyfile"
      ],
      "execution_count": 2,
      "outputs": []
    },
    {
      "cell_type": "code",
      "metadata": {
        "id": "3sd9dQWa23aj",
        "outputId": "3722bbb7-9c24-4709-da08-9d41138fce0a",
        "colab": {
          "base_uri": "https://localhost:8080/",
          "height": 202
        }
      },
      "source": [
        "# If the URL doesn't work, visit https://www.microsoft.com/en-us/download/confirmation.aspx?id=54765\n",
        "# And right click on the 'Download Manually' link to get a new URL to the dataset\n",
        "\n",
        "# Note: This is a very large dataset and will take time to download\n",
        "\n",
        "!wget --no-check-certificate \\\n",
        "    \"https://download.microsoft.com/download/3/E/1/3E1C3F21-ECDB-4869-8368-6DEBA77B919F/kagglecatsanddogs_3367a.zip\" \\\n",
        "    -O \"/tmp/cats-and-dogs.zip\"\n",
        "\n",
        "local_zip = '/tmp/cats-and-dogs.zip'\n",
        "zip_ref   = zipfile.ZipFile(local_zip, 'r')\n",
        "zip_ref.extractall('/tmp')\n",
        "zip_ref.close()\n"
      ],
      "execution_count": 3,
      "outputs": [
        {
          "output_type": "stream",
          "text": [
            "--2020-10-03 05:42:22--  https://download.microsoft.com/download/3/E/1/3E1C3F21-ECDB-4869-8368-6DEBA77B919F/kagglecatsanddogs_3367a.zip\n",
            "Resolving download.microsoft.com (download.microsoft.com)... 173.222.228.51, 2600:1409:6800:19a::e59, 2600:1409:6800:19c::e59\n",
            "Connecting to download.microsoft.com (download.microsoft.com)|173.222.228.51|:443... connected.\n",
            "HTTP request sent, awaiting response... 200 OK\n",
            "Length: 824894548 (787M) [application/octet-stream]\n",
            "Saving to: ‘/tmp/cats-and-dogs.zip’\n",
            "\n",
            "/tmp/cats-and-dogs. 100%[===================>] 786.68M   111MB/s    in 7.6s    \n",
            "\n",
            "2020-10-03 05:42:29 (104 MB/s) - ‘/tmp/cats-and-dogs.zip’ saved [824894548/824894548]\n",
            "\n"
          ],
          "name": "stdout"
        }
      ]
    },
    {
      "cell_type": "code",
      "metadata": {
        "id": "DM851ZmN28J3",
        "outputId": "9dd3a947-d22a-45d9-98f3-beddb82af2d7",
        "colab": {
          "base_uri": "https://localhost:8080/",
          "height": 50
        }
      },
      "source": [
        "print(len(os.listdir('/tmp/PetImages/Cat/')))\n",
        "print(len(os.listdir('/tmp/PetImages/Dog/')))\n",
        "\n",
        "# Expected Output:\n",
        "# 12501\n",
        "# 12501"
      ],
      "execution_count": 4,
      "outputs": [
        {
          "output_type": "stream",
          "text": [
            "12501\n",
            "12501\n"
          ],
          "name": "stdout"
        }
      ]
    },
    {
      "cell_type": "code",
      "metadata": {
        "id": "F-QkLjxpmyK2"
      },
      "source": [
        "try:\n",
        "    os.mkdir('/tmp/cats-v-dogs')\n",
        "    os.mkdir('/tmp/cats-v-dogs/training')\n",
        "    os.mkdir('/tmp/cats-v-dogs/testing')\n",
        "    os.mkdir('/tmp/cats-v-dogs/training/cats')\n",
        "    os.mkdir('/tmp/cats-v-dogs/training/dogs')\n",
        "    os.mkdir('/tmp/cats-v-dogs/testing/cats')\n",
        "    os.mkdir('/tmp/cats-v-dogs/testing/dogs')\n",
        "except OSError:\n",
        "    pass"
      ],
      "execution_count": 5,
      "outputs": []
    },
    {
      "cell_type": "code",
      "metadata": {
        "id": "zvSODo0f9LaU",
        "outputId": "c44b2aa2-3b27-4aa3-c487-0b535d29b274",
        "colab": {
          "base_uri": "https://localhost:8080/",
          "height": 50
        }
      },
      "source": [
        "def split_data(SOURCE, TRAINING, TESTING, SPLIT_SIZE):\n",
        "    files = []\n",
        "    for filename in os.listdir(SOURCE):\n",
        "        file = SOURCE + filename\n",
        "        if os.path.getsize(file) > 0:\n",
        "            files.append(filename)\n",
        "        else:\n",
        "            print(filename + \" is zero length, so ignoring.\")\n",
        "\n",
        "    training_length = int(len(files) * SPLIT_SIZE)\n",
        "    testing_length = int(len(files) - training_length)\n",
        "    shuffled_set = random.sample(files, len(files))\n",
        "    training_set = shuffled_set[0:training_length]\n",
        "    testing_set = shuffled_set[-testing_length:]\n",
        "\n",
        "    for filename in training_set:\n",
        "        this_file = SOURCE + filename\n",
        "        destination = TRAINING + filename\n",
        "        copyfile(this_file, destination)\n",
        "\n",
        "    for filename in testing_set:\n",
        "        this_file = SOURCE + filename\n",
        "        destination = TESTING + filename\n",
        "        copyfile(this_file, destination)\n",
        "\n",
        "\n",
        "CAT_SOURCE_DIR = \"/tmp/PetImages/Cat/\"\n",
        "TRAINING_CATS_DIR = \"/tmp/cats-v-dogs/training/cats/\"\n",
        "TESTING_CATS_DIR = \"/tmp/cats-v-dogs/testing/cats/\"\n",
        "DOG_SOURCE_DIR = \"/tmp/PetImages/Dog/\"\n",
        "TRAINING_DOGS_DIR = \"/tmp/cats-v-dogs/training/dogs/\"\n",
        "TESTING_DOGS_DIR = \"/tmp/cats-v-dogs/testing/dogs/\"\n",
        "\n",
        "split_size = .9\n",
        "split_data(CAT_SOURCE_DIR, TRAINING_CATS_DIR, TESTING_CATS_DIR, split_size)\n",
        "split_data(DOG_SOURCE_DIR, TRAINING_DOGS_DIR, TESTING_DOGS_DIR, split_size)\n",
        "\n",
        "# Expected output\n",
        "# 666.jpg is zero length, so ignoring\n",
        "# 11702.jpg is zero length, so ignoring"
      ],
      "execution_count": 6,
      "outputs": [
        {
          "output_type": "stream",
          "text": [
            "666.jpg is zero length, so ignoring.\n",
            "11702.jpg is zero length, so ignoring.\n"
          ],
          "name": "stdout"
        }
      ]
    },
    {
      "cell_type": "code",
      "metadata": {
        "id": "hwHXFhVG3786",
        "outputId": "55659f66-b082-4690-c71b-d5363479f216",
        "colab": {
          "base_uri": "https://localhost:8080/",
          "height": 84
        }
      },
      "source": [
        "print(len(os.listdir('/tmp/cats-v-dogs/training/cats/')))\n",
        "print(len(os.listdir('/tmp/cats-v-dogs/training/dogs/')))\n",
        "print(len(os.listdir('/tmp/cats-v-dogs/testing/cats/')))\n",
        "print(len(os.listdir('/tmp/cats-v-dogs/testing/dogs/')))\n",
        "\n",
        "# Expected output:\n",
        "# 11250\n",
        "# 11250\n",
        "# 1250\n",
        "# 1250"
      ],
      "execution_count": 7,
      "outputs": [
        {
          "output_type": "stream",
          "text": [
            "11250\n",
            "11250\n",
            "1250\n",
            "1250\n"
          ],
          "name": "stdout"
        }
      ]
    },
    {
      "cell_type": "code",
      "metadata": {
        "id": "-BQrav4anTmj"
      },
      "source": [
        "model = tf.keras.models.Sequential([\n",
        "    tf.keras.layers.Conv2D(16, (3, 3), activation='relu', input_shape=(150, 150, 3)),\n",
        "    tf.keras.layers.MaxPooling2D(2, 2),\n",
        "    tf.keras.layers.Conv2D(32, (3, 3), activation='relu'),\n",
        "    tf.keras.layers.MaxPooling2D(2, 2),\n",
        "    tf.keras.layers.Conv2D(64, (3, 3), activation='relu'),\n",
        "    tf.keras.layers.MaxPooling2D(2, 2),\n",
        "    tf.keras.layers.Flatten(),\n",
        "    tf.keras.layers.Dense(512, activation='relu'),\n",
        "    tf.keras.layers.Dense(1, activation='sigmoid')\n",
        "])\n",
        "\n",
        "model.compile(optimizer=RMSprop(lr=0.001), loss='binary_crossentropy', metrics=['accuracy'])\n"
      ],
      "execution_count": 8,
      "outputs": []
    },
    {
      "cell_type": "code",
      "metadata": {
        "id": "fQrZfVgz4j2g",
        "outputId": "4d7d2e1a-0bab-4bb3-a3cc-d65b64327d73",
        "colab": {
          "base_uri": "https://localhost:8080/",
          "height": 50
        }
      },
      "source": [
        "TRAINING_DIR = \"/tmp/cats-v-dogs/training/\"\n",
        "train_datagen = ImageDataGenerator(rescale=1.0/255.)\n",
        "train_generator = train_datagen.flow_from_directory(TRAINING_DIR,\n",
        "                                                    batch_size=100,\n",
        "                                                    class_mode='binary',\n",
        "                                                    target_size=(150, 150))\n",
        "\n",
        "VALIDATION_DIR = \"/tmp/cats-v-dogs/testing/\"\n",
        "validation_datagen = ImageDataGenerator(rescale=1.0/255.)\n",
        "validation_generator = validation_datagen.flow_from_directory(VALIDATION_DIR,\n",
        "                                                              batch_size=100,\n",
        "                                                              class_mode='binary',\n",
        "                                                              target_size=(150, 150))\n",
        "\n",
        "# Expected Output:\n",
        "# Found 22498 images belonging to 2 classes.\n",
        "# Found 2500 images belonging to 2 classes."
      ],
      "execution_count": 9,
      "outputs": [
        {
          "output_type": "stream",
          "text": [
            "Found 22498 images belonging to 2 classes.\n",
            "Found 2500 images belonging to 2 classes.\n"
          ],
          "name": "stdout"
        }
      ]
    },
    {
      "cell_type": "code",
      "metadata": {
        "id": "5qE1G6JB4fMn",
        "outputId": "42c69ac9-9e92-4e17-9220-dfb3b70d21b6",
        "colab": {
          "base_uri": "https://localhost:8080/",
          "height": 1000
        }
      },
      "source": [
        "# Note that this may take some time.\n",
        "history = model.fit(train_generator,\n",
        "                              epochs=50,\n",
        "                              verbose=1,\n",
        "                              validation_data=validation_generator)"
      ],
      "execution_count": 10,
      "outputs": [
        {
          "output_type": "stream",
          "text": [
            "Epoch 1/50\n",
            "199/225 [=========================>....] - ETA: 7s - loss: 0.6919 - accuracy: 0.6573"
          ],
          "name": "stdout"
        },
        {
          "output_type": "stream",
          "text": [
            "/usr/local/lib/python3.6/dist-packages/PIL/TiffImagePlugin.py:770: UserWarning: Possibly corrupt EXIF data.  Expecting to read 32 bytes but only got 0. Skipping tag 270\n",
            "  \" Skipping tag %s\" % (size, len(data), tag)\n",
            "/usr/local/lib/python3.6/dist-packages/PIL/TiffImagePlugin.py:770: UserWarning: Possibly corrupt EXIF data.  Expecting to read 5 bytes but only got 0. Skipping tag 271\n",
            "  \" Skipping tag %s\" % (size, len(data), tag)\n",
            "/usr/local/lib/python3.6/dist-packages/PIL/TiffImagePlugin.py:770: UserWarning: Possibly corrupt EXIF data.  Expecting to read 8 bytes but only got 0. Skipping tag 272\n",
            "  \" Skipping tag %s\" % (size, len(data), tag)\n",
            "/usr/local/lib/python3.6/dist-packages/PIL/TiffImagePlugin.py:770: UserWarning: Possibly corrupt EXIF data.  Expecting to read 8 bytes but only got 0. Skipping tag 282\n",
            "  \" Skipping tag %s\" % (size, len(data), tag)\n",
            "/usr/local/lib/python3.6/dist-packages/PIL/TiffImagePlugin.py:770: UserWarning: Possibly corrupt EXIF data.  Expecting to read 8 bytes but only got 0. Skipping tag 283\n",
            "  \" Skipping tag %s\" % (size, len(data), tag)\n",
            "/usr/local/lib/python3.6/dist-packages/PIL/TiffImagePlugin.py:770: UserWarning: Possibly corrupt EXIF data.  Expecting to read 20 bytes but only got 0. Skipping tag 306\n",
            "  \" Skipping tag %s\" % (size, len(data), tag)\n",
            "/usr/local/lib/python3.6/dist-packages/PIL/TiffImagePlugin.py:770: UserWarning: Possibly corrupt EXIF data.  Expecting to read 48 bytes but only got 0. Skipping tag 532\n",
            "  \" Skipping tag %s\" % (size, len(data), tag)\n",
            "/usr/local/lib/python3.6/dist-packages/PIL/TiffImagePlugin.py:788: UserWarning: Corrupt EXIF data.  Expecting to read 2 bytes but only got 0. \n",
            "  warnings.warn(str(msg))\n"
          ],
          "name": "stderr"
        },
        {
          "output_type": "stream",
          "text": [
            "225/225 [==============================] - 73s 323ms/step - loss: 0.6768 - accuracy: 0.6633 - val_loss: 0.5653 - val_accuracy: 0.7104\n",
            "Epoch 2/50\n",
            "225/225 [==============================] - 70s 310ms/step - loss: 0.5042 - accuracy: 0.7542 - val_loss: 0.5445 - val_accuracy: 0.7396\n",
            "Epoch 3/50\n",
            "225/225 [==============================] - 69s 308ms/step - loss: 0.4310 - accuracy: 0.7999 - val_loss: 0.4661 - val_accuracy: 0.7832\n",
            "Epoch 4/50\n",
            "225/225 [==============================] - 69s 307ms/step - loss: 0.3747 - accuracy: 0.8315 - val_loss: 0.4010 - val_accuracy: 0.8156\n",
            "Epoch 5/50\n",
            "225/225 [==============================] - 69s 307ms/step - loss: 0.3167 - accuracy: 0.8633 - val_loss: 0.6099 - val_accuracy: 0.7548\n",
            "Epoch 6/50\n",
            "225/225 [==============================] - 69s 307ms/step - loss: 0.2549 - accuracy: 0.8940 - val_loss: 0.5497 - val_accuracy: 0.7752\n",
            "Epoch 7/50\n",
            "225/225 [==============================] - 69s 307ms/step - loss: 0.1925 - accuracy: 0.9221 - val_loss: 0.4606 - val_accuracy: 0.8180\n",
            "Epoch 8/50\n",
            "225/225 [==============================] - 69s 308ms/step - loss: 0.1285 - accuracy: 0.9511 - val_loss: 0.6529 - val_accuracy: 0.8148\n",
            "Epoch 9/50\n",
            "225/225 [==============================] - 69s 307ms/step - loss: 0.0942 - accuracy: 0.9681 - val_loss: 0.7308 - val_accuracy: 0.8156\n",
            "Epoch 10/50\n",
            "225/225 [==============================] - 70s 309ms/step - loss: 0.0646 - accuracy: 0.9787 - val_loss: 0.8279 - val_accuracy: 0.8052\n",
            "Epoch 11/50\n",
            "225/225 [==============================] - 69s 308ms/step - loss: 0.0520 - accuracy: 0.9831 - val_loss: 0.9771 - val_accuracy: 0.8044\n",
            "Epoch 12/50\n",
            "225/225 [==============================] - 69s 307ms/step - loss: 0.0470 - accuracy: 0.9857 - val_loss: 0.9538 - val_accuracy: 0.8136\n",
            "Epoch 13/50\n",
            "225/225 [==============================] - 69s 309ms/step - loss: 0.0279 - accuracy: 0.9920 - val_loss: 1.1729 - val_accuracy: 0.8100\n",
            "Epoch 14/50\n",
            "225/225 [==============================] - 70s 311ms/step - loss: 0.0400 - accuracy: 0.9884 - val_loss: 1.1347 - val_accuracy: 0.8152\n",
            "Epoch 15/50\n",
            "225/225 [==============================] - 70s 311ms/step - loss: 0.0305 - accuracy: 0.9910 - val_loss: 1.2877 - val_accuracy: 0.8108\n",
            "Epoch 16/50\n",
            "225/225 [==============================] - 69s 307ms/step - loss: 0.0337 - accuracy: 0.9906 - val_loss: 1.2619 - val_accuracy: 0.8124\n",
            "Epoch 17/50\n",
            "225/225 [==============================] - 70s 309ms/step - loss: 0.0403 - accuracy: 0.9883 - val_loss: 1.0174 - val_accuracy: 0.7988\n",
            "Epoch 18/50\n",
            "225/225 [==============================] - 69s 306ms/step - loss: 0.0274 - accuracy: 0.9914 - val_loss: 2.2330 - val_accuracy: 0.7864\n",
            "Epoch 19/50\n",
            "225/225 [==============================] - 69s 308ms/step - loss: 0.0306 - accuracy: 0.9908 - val_loss: 1.3707 - val_accuracy: 0.8060\n",
            "Epoch 20/50\n",
            "225/225 [==============================] - 69s 306ms/step - loss: 0.0328 - accuracy: 0.9906 - val_loss: 1.4918 - val_accuracy: 0.8088\n",
            "Epoch 21/50\n",
            "225/225 [==============================] - 69s 306ms/step - loss: 0.0240 - accuracy: 0.9934 - val_loss: 1.7958 - val_accuracy: 0.8156\n",
            "Epoch 22/50\n",
            "225/225 [==============================] - 69s 305ms/step - loss: 0.0380 - accuracy: 0.9898 - val_loss: 1.8800 - val_accuracy: 0.8072\n",
            "Epoch 23/50\n",
            "225/225 [==============================] - 69s 307ms/step - loss: 0.0468 - accuracy: 0.9890 - val_loss: 1.7041 - val_accuracy: 0.8044\n",
            "Epoch 24/50\n",
            "225/225 [==============================] - 69s 305ms/step - loss: 0.0357 - accuracy: 0.9908 - val_loss: 1.8501 - val_accuracy: 0.8040\n",
            "Epoch 25/50\n",
            "225/225 [==============================] - 69s 306ms/step - loss: 0.0403 - accuracy: 0.9922 - val_loss: 2.4207 - val_accuracy: 0.6008\n",
            "Epoch 26/50\n",
            "225/225 [==============================] - 69s 305ms/step - loss: 0.0586 - accuracy: 0.9873 - val_loss: 5.2402 - val_accuracy: 0.5892\n",
            "Epoch 27/50\n",
            "225/225 [==============================] - 69s 305ms/step - loss: 0.0564 - accuracy: 0.9875 - val_loss: 1.5166 - val_accuracy: 0.7960\n",
            "Epoch 28/50\n",
            "225/225 [==============================] - 69s 306ms/step - loss: 0.0341 - accuracy: 0.9897 - val_loss: 0.9758 - val_accuracy: 0.7752\n",
            "Epoch 29/50\n",
            "225/225 [==============================] - 69s 305ms/step - loss: 0.0370 - accuracy: 0.9903 - val_loss: 1.8276 - val_accuracy: 0.7640\n",
            "Epoch 30/50\n",
            "225/225 [==============================] - 68s 304ms/step - loss: 0.0348 - accuracy: 0.9897 - val_loss: 1.8766 - val_accuracy: 0.7844\n",
            "Epoch 31/50\n",
            "225/225 [==============================] - 68s 304ms/step - loss: 0.0365 - accuracy: 0.9906 - val_loss: 1.8228 - val_accuracy: 0.8072\n",
            "Epoch 32/50\n",
            "225/225 [==============================] - 69s 306ms/step - loss: 0.0451 - accuracy: 0.9890 - val_loss: 1.6907 - val_accuracy: 0.8056\n",
            "Epoch 33/50\n",
            "225/225 [==============================] - 69s 307ms/step - loss: 0.0502 - accuracy: 0.9885 - val_loss: 1.6883 - val_accuracy: 0.7988\n",
            "Epoch 34/50\n",
            "225/225 [==============================] - 69s 306ms/step - loss: 0.1010 - accuracy: 0.9859 - val_loss: 1.5412 - val_accuracy: 0.7968\n",
            "Epoch 35/50\n",
            "225/225 [==============================] - 69s 305ms/step - loss: 0.0510 - accuracy: 0.9884 - val_loss: 2.3848 - val_accuracy: 0.7300\n",
            "Epoch 36/50\n",
            "225/225 [==============================] - 69s 306ms/step - loss: 0.0718 - accuracy: 0.9850 - val_loss: 1.8565 - val_accuracy: 0.7840\n",
            "Epoch 37/50\n",
            "225/225 [==============================] - 69s 305ms/step - loss: 0.0640 - accuracy: 0.9848 - val_loss: 1.8028 - val_accuracy: 0.7956\n",
            "Epoch 38/50\n",
            "225/225 [==============================] - 69s 305ms/step - loss: 0.0632 - accuracy: 0.9856 - val_loss: 2.1155 - val_accuracy: 0.8032\n",
            "Epoch 39/50\n",
            "225/225 [==============================] - 69s 307ms/step - loss: 0.0531 - accuracy: 0.9870 - val_loss: 3.4647 - val_accuracy: 0.7824\n",
            "Epoch 40/50\n",
            "225/225 [==============================] - 69s 306ms/step - loss: 0.0559 - accuracy: 0.9844 - val_loss: 2.2153 - val_accuracy: 0.7872\n",
            "Epoch 41/50\n",
            "225/225 [==============================] - 69s 308ms/step - loss: 0.0722 - accuracy: 0.9824 - val_loss: 1.6635 - val_accuracy: 0.7932\n",
            "Epoch 42/50\n",
            "225/225 [==============================] - 69s 308ms/step - loss: 0.0738 - accuracy: 0.9853 - val_loss: 1.7201 - val_accuracy: 0.7936\n",
            "Epoch 43/50\n",
            "225/225 [==============================] - 70s 309ms/step - loss: 0.0760 - accuracy: 0.9827 - val_loss: 1.7935 - val_accuracy: 0.7844\n",
            "Epoch 44/50\n",
            "225/225 [==============================] - 70s 310ms/step - loss: 0.0639 - accuracy: 0.9845 - val_loss: 2.6947 - val_accuracy: 0.7932\n",
            "Epoch 45/50\n",
            "225/225 [==============================] - 70s 310ms/step - loss: 0.1474 - accuracy: 0.9750 - val_loss: 1.2510 - val_accuracy: 0.7800\n",
            "Epoch 46/50\n",
            "225/225 [==============================] - 69s 309ms/step - loss: 0.0934 - accuracy: 0.9814 - val_loss: 1.7612 - val_accuracy: 0.7984\n",
            "Epoch 47/50\n",
            "225/225 [==============================] - 69s 307ms/step - loss: 0.0889 - accuracy: 0.9810 - val_loss: 2.6993 - val_accuracy: 0.5748\n",
            "Epoch 48/50\n",
            "225/225 [==============================] - 69s 307ms/step - loss: 0.1195 - accuracy: 0.9773 - val_loss: 2.7582 - val_accuracy: 0.8000\n",
            "Epoch 49/50\n",
            "225/225 [==============================] - 69s 307ms/step - loss: 0.1582 - accuracy: 0.9752 - val_loss: 1.9479 - val_accuracy: 0.7852\n",
            "Epoch 50/50\n",
            "225/225 [==============================] - 69s 308ms/step - loss: 0.1326 - accuracy: 0.9748 - val_loss: 1.6478 - val_accuracy: 0.7832\n"
          ],
          "name": "stdout"
        }
      ]
    },
    {
      "cell_type": "code",
      "metadata": {
        "id": "MWZrJN4-65RC",
        "outputId": "73f2aa80-1bf5-420a-8b0b-fe68a2ba0815",
        "colab": {
          "base_uri": "https://localhost:8080/",
          "height": 562
        }
      },
      "source": [
        "%matplotlib inline\n",
        "\n",
        "import matplotlib.image  as mpimg\n",
        "import matplotlib.pyplot as plt\n",
        "\n",
        "#-----------------------------------------------------------\n",
        "# Retrieve a list of list results on training and test data\n",
        "# sets for each training epoch\n",
        "#-----------------------------------------------------------\n",
        "acc=history.history['accuracy']\n",
        "val_acc=history.history['val_accuracy']\n",
        "loss=history.history['loss']\n",
        "val_loss=history.history['val_loss']\n",
        "\n",
        "epochs=range(len(acc)) # Get number of epochs\n",
        "\n",
        "#------------------------------------------------\n",
        "# Plot training and validation accuracy per epoch\n",
        "#------------------------------------------------\n",
        "plt.plot(epochs, acc, 'r', \"Training Accuracy\")\n",
        "plt.plot(epochs, val_acc, 'b', \"Validation Accuracy\")\n",
        "plt.title('Training and validation accuracy')\n",
        "plt.figure()\n",
        "\n",
        "#------------------------------------------------\n",
        "# Plot training and validation loss per epoch\n",
        "#------------------------------------------------\n",
        "plt.plot(epochs, loss, 'r', \"Training Loss\")\n",
        "plt.plot(epochs, val_loss, 'b', \"Validation Loss\")\n",
        "plt.figure()\n",
        "\n",
        "\n",
        "# Desired output. Charts with training and validation metrics. No crash :)"
      ],
      "execution_count": 11,
      "outputs": [
        {
          "output_type": "execute_result",
          "data": {
            "text/plain": [
              "<Figure size 432x288 with 0 Axes>"
            ]
          },
          "metadata": {
            "tags": []
          },
          "execution_count": 11
        },
        {
          "output_type": "display_data",
          "data": {
            "image/png": "[encoded data removed]",
            "text/plain": [
              "<Figure size 432x288 with 1 Axes>"
            ]
          },
          "metadata": {
            "tags": [],
            "needs_background": "light"
          }
        },
        {
          "output_type": "display_data",
          "data": {
            "image/png": "[encoded data removed]",
            "text/plain": [
              "<Figure size 432x288 with 1 Axes>"
            ]
          },
          "metadata": {
            "tags": [],
            "needs_background": "light"
          }
        },
        {
          "output_type": "display_data",
          "data": {
            "text/plain": [
              "<Figure size 432x288 with 0 Axes>"
            ]
          },
          "metadata": {
            "tags": []
          }
        }
      ]
    }
  ]
}