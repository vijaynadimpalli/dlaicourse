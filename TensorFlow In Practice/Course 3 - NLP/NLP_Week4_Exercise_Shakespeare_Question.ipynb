{
  "nbformat": 4,
  "nbformat_minor": 0,
  "metadata": {
    "accelerator": "GPU",
    "colab": {
      "name": "NLP_Week4_Exercise_Shakespeare_Question.ipynb",
      "provenance": [],
      "toc_visible": true,
      "include_colab_link": true
    },
    "kernelspec": {
      "display_name": "Python 3",
      "name": "python3"
    }
  },
  "cells": [
    {
      "cell_type": "markdown",
      "metadata": {
        "id": "view-in-github",
        "colab_type": "text"
      },
      "source": [
        "<a href=\"https://colab.research.google.com/github/vijaynadimpalli/dlaicourse/blob/master/TensorFlow%20In%20Practice/Course%203%20-%20NLP/NLP_Week4_Exercise_Shakespeare_Question.ipynb\" target=\"_parent\"><img src=\"https://colab.research.google.com/assets/colab-badge.svg\" alt=\"Open In Colab\"/></a>"
      ]
    },
    {
      "cell_type": "code",
      "metadata": {
        "id": "zX4Kg8DUTKWO"
      },
      "source": [
        "#@title Licensed under the Apache License, Version 2.0 (the \"License\");\n",
        "# you may not use this file except in compliance with the License.\n",
        "# You may obtain a copy of the License at\n",
        "#\n",
        "# https://www.apache.org/licenses/LICENSE-2.0\n",
        "#\n",
        "# Unless required by applicable law or agreed to in writing, software\n",
        "# distributed under the License is distributed on an \"AS IS\" BASIS,\n",
        "# WITHOUT WARRANTIES OR CONDITIONS OF ANY KIND, either express or implied.\n",
        "# See the License for the specific language governing permissions and\n",
        "# limitations under the License."
      ],
      "execution_count": 1,
      "outputs": []
    },
    {
      "cell_type": "code",
      "metadata": {
        "id": "BOwsuGQQY9OL"
      },
      "source": [
        "from tensorflow.keras.preprocessing.sequence import pad_sequences\n",
        "from tensorflow.keras.layers import Embedding, LSTM, Dense, Dropout, Bidirectional\n",
        "from tensorflow.keras.preprocessing.text import Tokenizer\n",
        "from tensorflow.keras.models import Sequential\n",
        "from tensorflow.keras.optimizers import Adam\n",
        "### YOUR CODE HERE\n",
        "# Figure out how to import regularizers\n",
        "from tensorflow.keras import regularizers\n",
        "###\n",
        "import tensorflow.keras.utils as ku \n",
        "import numpy as np "
      ],
      "execution_count": 2,
      "outputs": []
    },
    {
      "cell_type": "code",
      "metadata": {
        "id": "PRnDnCW-Z7qv",
        "outputId": "7244cd13-dff6-4724-8e0d-342c0c83bc68",
        "colab": {
          "base_uri": "https://localhost:8080/",
          "height": 202
        }
      },
      "source": [
        "tokenizer = Tokenizer()\n",
        "!wget --no-check-certificate \\\n",
        "    https://storage.googleapis.com/laurencemoroney-blog.appspot.com/sonnets.txt \\\n",
        "    -O /tmp/sonnets.txt\n",
        "data = open('/tmp/sonnets.txt').read()\n",
        "\n",
        "corpus = data.lower().split(\"\\n\")\n",
        "\n",
        "\n",
        "tokenizer.fit_on_texts(corpus)\n",
        "total_words = len(tokenizer.word_index) + 1\n",
        "\n",
        "# create input sequences using list of tokens\n",
        "input_sequences = []\n",
        "for line in corpus:\n",
        "\ttoken_list = tokenizer.texts_to_sequences([line])[0]\n",
        "\tfor i in range(1, len(token_list)):\n",
        "\t\tn_gram_sequence = token_list[:i+1]\n",
        "\t\tinput_sequences.append(n_gram_sequence)\n",
        "\n",
        "\n",
        "# pad sequences \n",
        "max_sequence_len = max([len(x) for x in input_sequences])\n",
        "input_sequences = np.array(pad_sequences(input_sequences, maxlen=max_sequence_len, padding='pre'))\n",
        "\n",
        "# create predictors and label\n",
        "predictors, label = input_sequences[:,:-1],input_sequences[:,-1]\n",
        "\n",
        "label = ku.to_categorical(label, num_classes=total_words)"
      ],
      "execution_count": 3,
      "outputs": [
        {
          "output_type": "stream",
          "text": [
            "--2020-10-02 15:04:48--  https://storage.googleapis.com/laurencemoroney-blog.appspot.com/sonnets.txt\n",
            "Resolving storage.googleapis.com (storage.googleapis.com)... 74.125.71.128, 74.125.133.128, 74.125.140.128, ...\n",
            "Connecting to storage.googleapis.com (storage.googleapis.com)|74.125.71.128|:443... connected.\n",
            "HTTP request sent, awaiting response... 200 OK\n",
            "Length: 93578 (91K) [text/plain]\n",
            "Saving to: ‘/tmp/sonnets.txt’\n",
            "\n",
            "/tmp/sonnets.txt    100%[===================>]  91.38K  --.-KB/s    in 0.001s  \n",
            "\n",
            "2020-10-02 15:04:48 (105 MB/s) - ‘/tmp/sonnets.txt’ saved [93578/93578]\n",
            "\n"
          ],
          "name": "stdout"
        }
      ]
    },
    {
      "cell_type": "code",
      "metadata": {
        "id": "2F7JQcj8H_6k",
        "outputId": "270b401b-4375-412e-a6ea-11e9d9d4bf78",
        "colab": {
          "base_uri": "https://localhost:8080/",
          "height": 67
        }
      },
      "source": [
        "print(max_sequence_len)\n",
        "print(predictors.shape)\n",
        "print(label.shape)"
      ],
      "execution_count": 4,
      "outputs": [
        {
          "output_type": "stream",
          "text": [
            "11\n",
            "(15462, 10)\n",
            "(15462, 3211)\n"
          ],
          "name": "stdout"
        }
      ]
    },
    {
      "cell_type": "code",
      "metadata": {
        "id": "dVazY5VgUfiN",
        "outputId": "f9de54f5-81b1-4b8a-d205-b85fbab5e4b3",
        "colab": {
          "base_uri": "https://localhost:8080/",
          "height": 202
        }
      },
      "source": [
        "# # Note this is the 100 dimension version of GloVe from Stanford\n",
        "# # I unzipped and hosted it on my site to make this notebook easier\n",
        "# word_index = tokenizer.word_index\n",
        "# embedding_dim = 100\n",
        "\n",
        "# !wget --no-check-certificate \\\n",
        "#     https://storage.googleapis.com/laurencemoroney-blog.appspot.com/glove.6B.100d.txt \\\n",
        "#     -O /tmp/glove.6B.100d.txt\n",
        "# embeddings_index = {};\n",
        "# with open('/tmp/glove.6B.100d.txt') as f:\n",
        "#     for line in f:\n",
        "#         values = line.split();\n",
        "#         word = values[0];\n",
        "#         coefs = np.asarray(values[1:], dtype='float32');\n",
        "#         embeddings_index[word] = coefs;\n",
        "\n",
        "# embeddings_matrix = np.zeros((total_words, embedding_dim));\n",
        "# for word, i in word_index.items():\n",
        "#     embedding_vector = embeddings_index.get(word);\n",
        "#     if embedding_vector is not None:\n",
        "#         embeddings_matrix[i] = embedding_vector;"
      ],
      "execution_count": 5,
      "outputs": [
        {
          "output_type": "stream",
          "text": [
            "--2020-10-02 15:04:49--  https://storage.googleapis.com/laurencemoroney-blog.appspot.com/glove.6B.100d.txt\n",
            "Resolving storage.googleapis.com (storage.googleapis.com)... 64.233.167.128, 74.125.133.128, 173.194.76.128, ...\n",
            "Connecting to storage.googleapis.com (storage.googleapis.com)|64.233.167.128|:443... connected.\n",
            "HTTP request sent, awaiting response... 200 OK\n",
            "Length: 347116733 (331M) [text/plain]\n",
            "Saving to: ‘/tmp/glove.6B.100d.txt’\n",
            "\n",
            "/tmp/glove.6B.100d. 100%[===================>] 331.04M  31.8MB/s    in 10s     \n",
            "\n",
            "2020-10-02 15:05:00 (31.8 MB/s) - ‘/tmp/glove.6B.100d.txt’ saved [347116733/347116733]\n",
            "\n"
          ],
          "name": "stdout"
        }
      ]
    },
    {
      "cell_type": "code",
      "metadata": {
        "id": "w9vH8Y59ajYL",
        "outputId": "0c401c36-192f-4836-90f5-95881a1c52fd",
        "colab": {
          "base_uri": "https://localhost:8080/",
          "height": 370
        }
      },
      "source": [
        "model = Sequential()\n",
        "model.add(Embedding(total_words,embedding_dim,input_length=max_sequence_len-1)),\n",
        "model.add(LSTM(128,return_sequences=True)),\n",
        "model.add(Dropout(0.2)),\n",
        "model.add(LSTM(128,return_sequences=False))\n",
        "model.add(Dense(1024,activation='relu',kernel_regularizer=regularizers.l1_l2(l1=0,l2=0.001)))\n",
        "model.add(Dense(total_words,activation='softmax'))\n",
        "# Pick an optimizer\n",
        "opt = Adam()\n",
        "model.compile(optimizer=opt,loss='categorical_crossentropy',metrics=['accuracy']) # Pick a loss function and an optimizer)\n",
        "print(model.summary())\n"
      ],
      "execution_count": 18,
      "outputs": [
        {
          "output_type": "stream",
          "text": [
            "Model: \"sequential_4\"\n",
            "_________________________________________________________________\n",
            "Layer (type)                 Output Shape              Param #   \n",
            "=================================================================\n",
            "embedding_4 (Embedding)      (None, 10, 100)           321100    \n",
            "_________________________________________________________________\n",
            "lstm_8 (LSTM)                (None, 10, 128)           117248    \n",
            "_________________________________________________________________\n",
            "dropout_4 (Dropout)          (None, 10, 128)           0         \n",
            "_________________________________________________________________\n",
            "lstm_9 (LSTM)                (None, 128)               131584    \n",
            "_________________________________________________________________\n",
            "dense_8 (Dense)              (None, 1024)              132096    \n",
            "_________________________________________________________________\n",
            "dense_9 (Dense)              (None, 3211)              3291275   \n",
            "=================================================================\n",
            "Total params: 3,993,303\n",
            "Trainable params: 3,993,303\n",
            "Non-trainable params: 0\n",
            "_________________________________________________________________\n",
            "None\n"
          ],
          "name": "stdout"
        }
      ]
    },
    {
      "cell_type": "code",
      "metadata": {
        "id": "AIg2f1HBxqof",
        "outputId": "a33118b2-da60-401b-a177-76e208f2ab89",
        "colab": {
          "base_uri": "https://localhost:8080/",
          "height": 1000
        }
      },
      "source": [
        "history = model.fit(predictors, label, epochs=100, verbose=1)"
      ],
      "execution_count": 19,
      "outputs": [
        {
          "output_type": "stream",
          "text": [
            "Epoch 1/100\n",
            "484/484 [==============================] - 9s 18ms/step - loss: 6.8714 - accuracy: 0.0222\n",
            "Epoch 2/100\n",
            "484/484 [==============================] - 9s 18ms/step - loss: 6.5135 - accuracy: 0.0233\n",
            "Epoch 3/100\n",
            "484/484 [==============================] - 9s 19ms/step - loss: 6.3992 - accuracy: 0.0294\n",
            "Epoch 4/100\n",
            "484/484 [==============================] - 9s 19ms/step - loss: 6.2484 - accuracy: 0.0350\n",
            "Epoch 5/100\n",
            "484/484 [==============================] - 9s 18ms/step - loss: 6.1172 - accuracy: 0.0370\n",
            "Epoch 6/100\n",
            "484/484 [==============================] - 9s 18ms/step - loss: 5.9852 - accuracy: 0.0393\n",
            "Epoch 7/100\n",
            "484/484 [==============================] - 9s 19ms/step - loss: 5.8481 - accuracy: 0.0440\n",
            "Epoch 8/100\n",
            "484/484 [==============================] - 9s 19ms/step - loss: 5.7232 - accuracy: 0.0479\n",
            "Epoch 9/100\n",
            "484/484 [==============================] - 9s 19ms/step - loss: 5.5748 - accuracy: 0.0563\n",
            "Epoch 10/100\n",
            "484/484 [==============================] - 9s 18ms/step - loss: 5.4418 - accuracy: 0.0635\n",
            "Epoch 11/100\n",
            "484/484 [==============================] - 9s 19ms/step - loss: 5.2987 - accuracy: 0.0719\n",
            "Epoch 12/100\n",
            "484/484 [==============================] - 9s 18ms/step - loss: 5.1603 - accuracy: 0.0803\n",
            "Epoch 13/100\n",
            "484/484 [==============================] - 9s 18ms/step - loss: 5.0270 - accuracy: 0.0893\n",
            "Epoch 14/100\n",
            "484/484 [==============================] - 9s 18ms/step - loss: 4.8852 - accuracy: 0.0998\n",
            "Epoch 15/100\n",
            "484/484 [==============================] - 9s 18ms/step - loss: 4.7499 - accuracy: 0.1092\n",
            "Epoch 16/100\n",
            "484/484 [==============================] - 9s 18ms/step - loss: 4.6107 - accuracy: 0.1187\n",
            "Epoch 17/100\n",
            "484/484 [==============================] - 9s 18ms/step - loss: 4.4599 - accuracy: 0.1355\n",
            "Epoch 18/100\n",
            "484/484 [==============================] - 9s 18ms/step - loss: 4.3210 - accuracy: 0.1440\n",
            "Epoch 19/100\n",
            "484/484 [==============================] - 9s 18ms/step - loss: 4.1649 - accuracy: 0.1632\n",
            "Epoch 20/100\n",
            "484/484 [==============================] - 9s 18ms/step - loss: 4.0168 - accuracy: 0.1814\n",
            "Epoch 21/100\n",
            "484/484 [==============================] - 9s 18ms/step - loss: 3.8688 - accuracy: 0.1982\n",
            "Epoch 22/100\n",
            "484/484 [==============================] - 9s 18ms/step - loss: 3.7190 - accuracy: 0.2214\n",
            "Epoch 23/100\n",
            "484/484 [==============================] - 9s 18ms/step - loss: 3.5812 - accuracy: 0.2510\n",
            "Epoch 24/100\n",
            "484/484 [==============================] - 9s 19ms/step - loss: 3.4398 - accuracy: 0.2760\n",
            "Epoch 25/100\n",
            "484/484 [==============================] - 9s 19ms/step - loss: 3.3076 - accuracy: 0.3032\n",
            "Epoch 26/100\n",
            "484/484 [==============================] - 9s 19ms/step - loss: 3.1835 - accuracy: 0.3316\n",
            "Epoch 27/100\n",
            "484/484 [==============================] - 9s 19ms/step - loss: 3.0581 - accuracy: 0.3572\n",
            "Epoch 28/100\n",
            "484/484 [==============================] - 9s 19ms/step - loss: 2.9530 - accuracy: 0.3805\n",
            "Epoch 29/100\n",
            "484/484 [==============================] - 9s 19ms/step - loss: 2.8280 - accuracy: 0.4094\n",
            "Epoch 30/100\n",
            "484/484 [==============================] - 9s 19ms/step - loss: 2.7270 - accuracy: 0.4336\n",
            "Epoch 31/100\n",
            "484/484 [==============================] - 9s 19ms/step - loss: 2.6328 - accuracy: 0.4547\n",
            "Epoch 32/100\n",
            "484/484 [==============================] - 9s 19ms/step - loss: 2.5470 - accuracy: 0.4754\n",
            "Epoch 33/100\n",
            "484/484 [==============================] - 9s 19ms/step - loss: 2.4534 - accuracy: 0.4967\n",
            "Epoch 34/100\n",
            "484/484 [==============================] - 9s 19ms/step - loss: 2.3778 - accuracy: 0.5118\n",
            "Epoch 35/100\n",
            "484/484 [==============================] - 9s 19ms/step - loss: 2.3040 - accuracy: 0.5307\n",
            "Epoch 36/100\n",
            "484/484 [==============================] - 9s 19ms/step - loss: 2.2330 - accuracy: 0.5497\n",
            "Epoch 37/100\n",
            "484/484 [==============================] - 9s 19ms/step - loss: 2.1604 - accuracy: 0.5650\n",
            "Epoch 38/100\n",
            "484/484 [==============================] - 10s 20ms/step - loss: 2.0999 - accuracy: 0.5796\n",
            "Epoch 39/100\n",
            "484/484 [==============================] - 9s 19ms/step - loss: 2.0394 - accuracy: 0.5922\n",
            "Epoch 40/100\n",
            "484/484 [==============================] - 9s 19ms/step - loss: 1.9902 - accuracy: 0.6078\n",
            "Epoch 41/100\n",
            "484/484 [==============================] - 9s 19ms/step - loss: 1.9130 - accuracy: 0.6268\n",
            "Epoch 42/100\n",
            "484/484 [==============================] - 9s 19ms/step - loss: 1.8814 - accuracy: 0.6322\n",
            "Epoch 43/100\n",
            "484/484 [==============================] - 9s 19ms/step - loss: 1.8338 - accuracy: 0.6429\n",
            "Epoch 44/100\n",
            "484/484 [==============================] - 9s 19ms/step - loss: 1.7863 - accuracy: 0.6566\n",
            "Epoch 45/100\n",
            "484/484 [==============================] - 9s 19ms/step - loss: 1.7498 - accuracy: 0.6656\n",
            "Epoch 46/100\n",
            "484/484 [==============================] - 9s 19ms/step - loss: 1.7074 - accuracy: 0.6748\n",
            "Epoch 47/100\n",
            "484/484 [==============================] - 9s 19ms/step - loss: 1.6710 - accuracy: 0.6842\n",
            "Epoch 48/100\n",
            "484/484 [==============================] - 9s 19ms/step - loss: 1.6210 - accuracy: 0.6949\n",
            "Epoch 49/100\n",
            "484/484 [==============================] - 9s 19ms/step - loss: 1.5915 - accuracy: 0.7025\n",
            "Epoch 50/100\n",
            "484/484 [==============================] - 9s 19ms/step - loss: 1.5631 - accuracy: 0.7071\n",
            "Epoch 51/100\n",
            "484/484 [==============================] - 9s 19ms/step - loss: 1.5273 - accuracy: 0.7150\n",
            "Epoch 52/100\n",
            "484/484 [==============================] - 9s 19ms/step - loss: 1.5004 - accuracy: 0.7202\n",
            "Epoch 53/100\n",
            "484/484 [==============================] - 9s 19ms/step - loss: 1.4631 - accuracy: 0.7293\n",
            "Epoch 54/100\n",
            "484/484 [==============================] - 9s 18ms/step - loss: 1.4405 - accuracy: 0.7336\n",
            "Epoch 55/100\n",
            "484/484 [==============================] - 9s 19ms/step - loss: 1.4121 - accuracy: 0.7412\n",
            "Epoch 56/100\n",
            "484/484 [==============================] - 9s 18ms/step - loss: 1.3902 - accuracy: 0.7458\n",
            "Epoch 57/100\n",
            "484/484 [==============================] - 10s 21ms/step - loss: 1.3650 - accuracy: 0.7483\n",
            "Epoch 58/100\n",
            "484/484 [==============================] - 9s 19ms/step - loss: 1.3500 - accuracy: 0.7491\n",
            "Epoch 59/100\n",
            "484/484 [==============================] - 9s 19ms/step - loss: 1.3173 - accuracy: 0.7568\n",
            "Epoch 60/100\n",
            "484/484 [==============================] - 9s 19ms/step - loss: 1.2921 - accuracy: 0.7630\n",
            "Epoch 61/100\n",
            "484/484 [==============================] - 9s 19ms/step - loss: 1.2808 - accuracy: 0.7657\n",
            "Epoch 62/100\n",
            "484/484 [==============================] - 9s 19ms/step - loss: 1.2490 - accuracy: 0.7725\n",
            "Epoch 63/100\n",
            "484/484 [==============================] - 9s 19ms/step - loss: 1.2373 - accuracy: 0.7735\n",
            "Epoch 64/100\n",
            "484/484 [==============================] - 9s 19ms/step - loss: 1.2246 - accuracy: 0.7765\n",
            "Epoch 65/100\n",
            "484/484 [==============================] - 9s 19ms/step - loss: 1.1971 - accuracy: 0.7822\n",
            "Epoch 66/100\n",
            "484/484 [==============================] - 9s 19ms/step - loss: 1.1870 - accuracy: 0.7819\n",
            "Epoch 67/100\n",
            "484/484 [==============================] - 9s 19ms/step - loss: 1.1848 - accuracy: 0.7841\n",
            "Epoch 68/100\n",
            "484/484 [==============================] - 9s 19ms/step - loss: 1.1553 - accuracy: 0.7879\n",
            "Epoch 69/100\n",
            "484/484 [==============================] - 9s 19ms/step - loss: 1.1404 - accuracy: 0.7897\n",
            "Epoch 70/100\n",
            "484/484 [==============================] - 9s 19ms/step - loss: 1.1285 - accuracy: 0.7933\n",
            "Epoch 71/100\n",
            "484/484 [==============================] - 9s 19ms/step - loss: 1.1172 - accuracy: 0.7925\n",
            "Epoch 72/100\n",
            "484/484 [==============================] - 10s 20ms/step - loss: 1.1153 - accuracy: 0.7952\n",
            "Epoch 73/100\n",
            "484/484 [==============================] - 9s 19ms/step - loss: 1.0890 - accuracy: 0.7995\n",
            "Epoch 74/100\n",
            "484/484 [==============================] - 9s 19ms/step - loss: 1.0773 - accuracy: 0.8025\n",
            "Epoch 75/100\n",
            "484/484 [==============================] - 9s 19ms/step - loss: 1.0698 - accuracy: 0.8016\n",
            "Epoch 76/100\n",
            "484/484 [==============================] - 9s 19ms/step - loss: 1.0509 - accuracy: 0.8052\n",
            "Epoch 77/100\n",
            "484/484 [==============================] - 9s 19ms/step - loss: 1.0447 - accuracy: 0.8057\n",
            "Epoch 78/100\n",
            "484/484 [==============================] - 9s 19ms/step - loss: 1.0426 - accuracy: 0.8036\n",
            "Epoch 79/100\n",
            "484/484 [==============================] - 9s 19ms/step - loss: 1.0238 - accuracy: 0.8115\n",
            "Epoch 80/100\n",
            "484/484 [==============================] - 9s 19ms/step - loss: 1.0079 - accuracy: 0.8148\n",
            "Epoch 81/100\n",
            "484/484 [==============================] - 9s 19ms/step - loss: 1.0040 - accuracy: 0.8130\n",
            "Epoch 82/100\n",
            "484/484 [==============================] - 9s 19ms/step - loss: 1.0072 - accuracy: 0.8103\n",
            "Epoch 83/100\n",
            "484/484 [==============================] - 9s 19ms/step - loss: 0.9958 - accuracy: 0.8115\n",
            "Epoch 84/100\n",
            "484/484 [==============================] - 9s 19ms/step - loss: 0.9756 - accuracy: 0.8156\n",
            "Epoch 85/100\n",
            "484/484 [==============================] - 9s 19ms/step - loss: 0.9697 - accuracy: 0.8159\n",
            "Epoch 86/100\n",
            "484/484 [==============================] - 9s 19ms/step - loss: 0.9711 - accuracy: 0.8152\n",
            "Epoch 87/100\n",
            "484/484 [==============================] - 9s 19ms/step - loss: 0.9558 - accuracy: 0.8192\n",
            "Epoch 88/100\n",
            "484/484 [==============================] - 9s 19ms/step - loss: 0.9515 - accuracy: 0.8196\n",
            "Epoch 89/100\n",
            "484/484 [==============================] - 9s 19ms/step - loss: 0.9538 - accuracy: 0.8158\n",
            "Epoch 90/100\n",
            "484/484 [==============================] - 9s 19ms/step - loss: 0.9299 - accuracy: 0.8220\n",
            "Epoch 91/100\n",
            "484/484 [==============================] - 9s 19ms/step - loss: 0.9261 - accuracy: 0.8240\n",
            "Epoch 92/100\n",
            "484/484 [==============================] - 9s 19ms/step - loss: 0.9252 - accuracy: 0.8221\n",
            "Epoch 93/100\n",
            "484/484 [==============================] - 9s 19ms/step - loss: 0.9318 - accuracy: 0.8187\n",
            "Epoch 94/100\n",
            "484/484 [==============================] - 9s 19ms/step - loss: 0.9101 - accuracy: 0.8240\n",
            "Epoch 95/100\n",
            "484/484 [==============================] - 9s 19ms/step - loss: 0.9087 - accuracy: 0.8240\n",
            "Epoch 96/100\n",
            "484/484 [==============================] - 9s 19ms/step - loss: 0.8960 - accuracy: 0.8280\n",
            "Epoch 97/100\n",
            "484/484 [==============================] - 9s 19ms/step - loss: 0.8858 - accuracy: 0.8269\n",
            "Epoch 98/100\n",
            "484/484 [==============================] - 9s 19ms/step - loss: 0.8861 - accuracy: 0.8258\n",
            "Epoch 99/100\n",
            "484/484 [==============================] - 9s 19ms/step - loss: 0.8779 - accuracy: 0.8299\n",
            "Epoch 100/100\n",
            "484/484 [==============================] - 9s 19ms/step - loss: 0.8811 - accuracy: 0.8245\n"
          ],
          "name": "stdout"
        }
      ]
    },
    {
      "cell_type": "code",
      "metadata": {
        "id": "1fXTEO3GJ282",
        "outputId": "0c17cac1-4560-415c-8893-10520d8f54d2",
        "colab": {
          "base_uri": "https://localhost:8080/",
          "height": 545
        }
      },
      "source": [
        "import matplotlib.pyplot as plt\n",
        "acc = history.history['accuracy']\n",
        "loss = history.history['loss']\n",
        "\n",
        "epochs = range(len(loss))\n",
        "\n",
        "plt.plot(epochs, acc, 'b', label='Training accuracy')\n",
        "plt.title('Training accuracy')\n",
        "\n",
        "plt.figure()\n",
        "\n",
        "plt.plot(epochs, loss, 'b', label='Training Loss')\n",
        "plt.title('Training loss')\n",
        "plt.legend()\n",
        "\n",
        "plt.show()"
      ],
      "execution_count": 20,
      "outputs": [
        {
          "output_type": "display_data",
          "data": {
            "image/png": "[encoded data removed]",
            "text/plain": [
              "<Figure size 432x288 with 1 Axes>"
            ]
          },
          "metadata": {
            "tags": [],
            "needs_background": "light"
          }
        },
        {
          "output_type": "display_data",
          "data": {
            "image/png": "[encoded data removed]",
            "text/plain": [
              "<Figure size 432x288 with 1 Axes>"
            ]
          },
          "metadata": {
            "tags": [],
            "needs_background": "light"
          }
        }
      ]
    },
    {
      "cell_type": "code",
      "metadata": {
        "id": "6Vc6PHgxa6Hm",
        "outputId": "f8d0f659-0dfc-4150-bc56-17ccd21b71f9",
        "colab": {
          "base_uri": "https://localhost:8080/",
          "height": 54
        }
      },
      "source": [
        "seed_text = \"Help me Obi Wan Kenobi, you're my only hope\"\n",
        "next_words = 100\n",
        "  \n",
        "for _ in range(next_words):\n",
        "\ttoken_list = tokenizer.texts_to_sequences([seed_text])[0]\n",
        "\ttoken_list = pad_sequences([token_list], maxlen=max_sequence_len-1, padding='pre')\n",
        "\tpredicted = model.predict_classes(token_list, verbose=0)\n",
        "\toutput_word = \"\"\n",
        "\tfor word, index in tokenizer.word_index.items():\n",
        "\t\tif index == predicted:\n",
        "\t\t\toutput_word = word\n",
        "\t\t\tbreak\n",
        "\tseed_text += \" \" + output_word\n",
        "print(seed_text)"
      ],
      "execution_count": 16,
      "outputs": [
        {
          "output_type": "stream",
          "text": [
            "Help me Obi Wan Kenobi, you're my only hope where one ' in sense dyed twain quite near gay dwell as both gems gems still warm'd seen mad mad for rolling twain gems latch it must be true due of thee that i swear so am not thee releasing so great gone made on me must gone will be so so wilt i bring your loss to lie to thee that in me i grow back her tongue hour survey weep loved of nought in doubt more delight bow appear appear in sense away away away away ' both both away of men oppress'd with rolling aspect aspect both\n"
          ],
          "name": "stdout"
        }
      ]
    },
    {
      "cell_type": "code",
      "metadata": {
        "id": "HvpcN4_hUKzI"
      },
      "source": [
        ""
      ],
      "execution_count": null,
      "outputs": []
    }
  ]
}