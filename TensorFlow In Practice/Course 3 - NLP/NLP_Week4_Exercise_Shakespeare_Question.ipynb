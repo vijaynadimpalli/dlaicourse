{
  "nbformat": 4,
  "nbformat_minor": 0,
  "metadata": {
    "accelerator": "GPU",
    "colab": {
      "name": "NLP_Week4_Exercise_Shakespeare_Question.ipynb",
      "provenance": [],
      "toc_visible": true,
      "include_colab_link": true
    },
    "kernelspec": {
      "display_name": "Python 3",
      "name": "python3"
    }
  },
  "cells": [
    {
      "cell_type": "markdown",
      "metadata": {
        "id": "view-in-github",
        "colab_type": "text"
      },
      "source": [
        "<a href=\"https://colab.research.google.com/github/vijaynadimpalli/dlaicourse/blob/master/TensorFlow%20In%20Practice/Course%203%20-%20NLP/NLP_Week4_Exercise_Shakespeare_Question.ipynb\" target=\"_parent\"><img src=\"https://colab.research.google.com/assets/colab-badge.svg\" alt=\"Open In Colab\"/></a>"
      ]
    },
    {
      "cell_type": "code",
      "metadata": {
        "id": "zX4Kg8DUTKWO"
      },
      "source": [
        "#@title Licensed under the Apache License, Version 2.0 (the \"License\");\n",
        "# you may not use this file except in compliance with the License.\n",
        "# You may obtain a copy of the License at\n",
        "#\n",
        "# https://www.apache.org/licenses/LICENSE-2.0\n",
        "#\n",
        "# Unless required by applicable law or agreed to in writing, software\n",
        "# distributed under the License is distributed on an \"AS IS\" BASIS,\n",
        "# WITHOUT WARRANTIES OR CONDITIONS OF ANY KIND, either express or implied.\n",
        "# See the License for the specific language governing permissions and\n",
        "# limitations under the License."
      ],
      "execution_count": 1,
      "outputs": []
    },
    {
      "cell_type": "code",
      "metadata": {
        "id": "5X8qLGXNqikK",
        "outputId": "67095f9b-55a2-4804-a5c5-3e64e9896b24",
        "colab": {
          "base_uri": "https://localhost:8080/",
          "height": 1000
        }
      },
      "source": [
        "!pip install tensorflow-gpu==2.0.0"
      ],
      "execution_count": 2,
      "outputs": [
        {
          "output_type": "stream",
          "text": [
            "Collecting tensorflow-gpu==2.0.0\n",
            "\u001b[?25l  Downloading https://files.pythonhosted.org/packages/25/44/47f0722aea081697143fbcf5d2aa60d1aee4aaacb5869aee2b568974777b/tensorflow_gpu-2.0.0-cp36-cp36m-manylinux2010_x86_64.whl (380.8MB)\n",
            "\u001b[K     |████████████████████████████████| 380.8MB 44kB/s \n",
            "\u001b[?25hCollecting tensorboard<2.1.0,>=2.0.0\n",
            "\u001b[?25l  Downloading https://files.pythonhosted.org/packages/76/54/99b9d5d52d5cb732f099baaaf7740403e83fe6b0cedde940fabd2b13d75a/tensorboard-2.0.2-py3-none-any.whl (3.8MB)\n",
            "\u001b[K     |████████████████████████████████| 3.8MB 35.6MB/s \n",
            "\u001b[?25hRequirement already satisfied: grpcio>=1.8.6 in /usr/local/lib/python3.6/dist-packages (from tensorflow-gpu==2.0.0) (1.32.0)\n",
            "Requirement already satisfied: wheel>=0.26 in /usr/local/lib/python3.6/dist-packages (from tensorflow-gpu==2.0.0) (0.35.1)\n",
            "Requirement already satisfied: opt-einsum>=2.3.2 in /usr/local/lib/python3.6/dist-packages (from tensorflow-gpu==2.0.0) (3.3.0)\n",
            "Requirement already satisfied: wrapt>=1.11.1 in /usr/local/lib/python3.6/dist-packages (from tensorflow-gpu==2.0.0) (1.12.1)\n",
            "Collecting gast==0.2.2\n",
            "  Downloading https://files.pythonhosted.org/packages/4e/35/11749bf99b2d4e3cceb4d55ca22590b0d7c2c62b9de38ac4a4a7f4687421/gast-0.2.2.tar.gz\n",
            "Requirement already satisfied: google-pasta>=0.1.6 in /usr/local/lib/python3.6/dist-packages (from tensorflow-gpu==2.0.0) (0.2.0)\n",
            "Requirement already satisfied: absl-py>=0.7.0 in /usr/local/lib/python3.6/dist-packages (from tensorflow-gpu==2.0.0) (0.10.0)\n",
            "Requirement already satisfied: astor>=0.6.0 in /usr/local/lib/python3.6/dist-packages (from tensorflow-gpu==2.0.0) (0.8.1)\n",
            "Requirement already satisfied: keras-preprocessing>=1.0.5 in /usr/local/lib/python3.6/dist-packages (from tensorflow-gpu==2.0.0) (1.1.2)\n",
            "Requirement already satisfied: protobuf>=3.6.1 in /usr/local/lib/python3.6/dist-packages (from tensorflow-gpu==2.0.0) (3.12.4)\n",
            "Collecting tensorflow-estimator<2.1.0,>=2.0.0\n",
            "\u001b[?25l  Downloading https://files.pythonhosted.org/packages/fc/08/8b927337b7019c374719145d1dceba21a8bb909b93b1ad6f8fb7d22c1ca1/tensorflow_estimator-2.0.1-py2.py3-none-any.whl (449kB)\n",
            "\u001b[K     |████████████████████████████████| 450kB 37.6MB/s \n",
            "\u001b[?25hRequirement already satisfied: six>=1.10.0 in /usr/local/lib/python3.6/dist-packages (from tensorflow-gpu==2.0.0) (1.15.0)\n",
            "Collecting keras-applications>=1.0.8\n",
            "\u001b[?25l  Downloading https://files.pythonhosted.org/packages/71/e3/19762fdfc62877ae9102edf6342d71b28fbfd9dea3d2f96a882ce099b03f/Keras_Applications-1.0.8-py3-none-any.whl (50kB)\n",
            "\u001b[K     |████████████████████████████████| 51kB 6.3MB/s \n",
            "\u001b[?25hRequirement already satisfied: termcolor>=1.1.0 in /usr/local/lib/python3.6/dist-packages (from tensorflow-gpu==2.0.0) (1.1.0)\n",
            "Requirement already satisfied: numpy<2.0,>=1.16.0 in /usr/local/lib/python3.6/dist-packages (from tensorflow-gpu==2.0.0) (1.18.5)\n",
            "Requirement already satisfied: requests<3,>=2.21.0 in /usr/local/lib/python3.6/dist-packages (from tensorboard<2.1.0,>=2.0.0->tensorflow-gpu==2.0.0) (2.23.0)\n",
            "Requirement already satisfied: setuptools>=41.0.0 in /usr/local/lib/python3.6/dist-packages (from tensorboard<2.1.0,>=2.0.0->tensorflow-gpu==2.0.0) (50.3.0)\n",
            "Requirement already satisfied: werkzeug>=0.11.15 in /usr/local/lib/python3.6/dist-packages (from tensorboard<2.1.0,>=2.0.0->tensorflow-gpu==2.0.0) (1.0.1)\n",
            "Requirement already satisfied: google-auth-oauthlib<0.5,>=0.4.1 in /usr/local/lib/python3.6/dist-packages (from tensorboard<2.1.0,>=2.0.0->tensorflow-gpu==2.0.0) (0.4.1)\n",
            "Requirement already satisfied: google-auth<2,>=1.6.3 in /usr/local/lib/python3.6/dist-packages (from tensorboard<2.1.0,>=2.0.0->tensorflow-gpu==2.0.0) (1.17.2)\n",
            "Requirement already satisfied: markdown>=2.6.8 in /usr/local/lib/python3.6/dist-packages (from tensorboard<2.1.0,>=2.0.0->tensorflow-gpu==2.0.0) (3.2.2)\n",
            "Requirement already satisfied: h5py in /usr/local/lib/python3.6/dist-packages (from keras-applications>=1.0.8->tensorflow-gpu==2.0.0) (2.10.0)\n",
            "Requirement already satisfied: urllib3!=1.25.0,!=1.25.1,<1.26,>=1.21.1 in /usr/local/lib/python3.6/dist-packages (from requests<3,>=2.21.0->tensorboard<2.1.0,>=2.0.0->tensorflow-gpu==2.0.0) (1.24.3)\n",
            "Requirement already satisfied: chardet<4,>=3.0.2 in /usr/local/lib/python3.6/dist-packages (from requests<3,>=2.21.0->tensorboard<2.1.0,>=2.0.0->tensorflow-gpu==2.0.0) (3.0.4)\n",
            "Requirement already satisfied: certifi>=2017.4.17 in /usr/local/lib/python3.6/dist-packages (from requests<3,>=2.21.0->tensorboard<2.1.0,>=2.0.0->tensorflow-gpu==2.0.0) (2020.6.20)\n",
            "Requirement already satisfied: idna<3,>=2.5 in /usr/local/lib/python3.6/dist-packages (from requests<3,>=2.21.0->tensorboard<2.1.0,>=2.0.0->tensorflow-gpu==2.0.0) (2.10)\n",
            "Requirement already satisfied: requests-oauthlib>=0.7.0 in /usr/local/lib/python3.6/dist-packages (from google-auth-oauthlib<0.5,>=0.4.1->tensorboard<2.1.0,>=2.0.0->tensorflow-gpu==2.0.0) (1.3.0)\n",
            "Requirement already satisfied: pyasn1-modules>=0.2.1 in /usr/local/lib/python3.6/dist-packages (from google-auth<2,>=1.6.3->tensorboard<2.1.0,>=2.0.0->tensorflow-gpu==2.0.0) (0.2.8)\n",
            "Requirement already satisfied: cachetools<5.0,>=2.0.0 in /usr/local/lib/python3.6/dist-packages (from google-auth<2,>=1.6.3->tensorboard<2.1.0,>=2.0.0->tensorflow-gpu==2.0.0) (4.1.1)\n",
            "Requirement already satisfied: rsa<5,>=3.1.4; python_version >= \"3\" in /usr/local/lib/python3.6/dist-packages (from google-auth<2,>=1.6.3->tensorboard<2.1.0,>=2.0.0->tensorflow-gpu==2.0.0) (4.6)\n",
            "Requirement already satisfied: importlib-metadata; python_version < \"3.8\" in /usr/local/lib/python3.6/dist-packages (from markdown>=2.6.8->tensorboard<2.1.0,>=2.0.0->tensorflow-gpu==2.0.0) (2.0.0)\n",
            "Requirement already satisfied: oauthlib>=3.0.0 in /usr/local/lib/python3.6/dist-packages (from requests-oauthlib>=0.7.0->google-auth-oauthlib<0.5,>=0.4.1->tensorboard<2.1.0,>=2.0.0->tensorflow-gpu==2.0.0) (3.1.0)\n",
            "Requirement already satisfied: pyasn1<0.5.0,>=0.4.6 in /usr/local/lib/python3.6/dist-packages (from pyasn1-modules>=0.2.1->google-auth<2,>=1.6.3->tensorboard<2.1.0,>=2.0.0->tensorflow-gpu==2.0.0) (0.4.8)\n",
            "Requirement already satisfied: zipp>=0.5 in /usr/local/lib/python3.6/dist-packages (from importlib-metadata; python_version < \"3.8\"->markdown>=2.6.8->tensorboard<2.1.0,>=2.0.0->tensorflow-gpu==2.0.0) (3.2.0)\n",
            "Building wheels for collected packages: gast\n",
            "  Building wheel for gast (setup.py) ... \u001b[?25l\u001b[?25hdone\n",
            "  Created wheel for gast: filename=gast-0.2.2-cp36-none-any.whl size=7542 sha256=61a1468dc73efcd2d30acc41654249f7a1e840745b0dbda321f5c58f73f35ec8\n",
            "  Stored in directory: /root/.cache/pip/wheels/5c/2e/7e/a1d4d4fcebe6c381f378ce7743a3ced3699feb89bcfbdadadd\n",
            "Successfully built gast\n",
            "\u001b[31mERROR: tensorflow 2.3.0 has requirement gast==0.3.3, but you'll have gast 0.2.2 which is incompatible.\u001b[0m\n",
            "\u001b[31mERROR: tensorflow 2.3.0 has requirement tensorboard<3,>=2.3.0, but you'll have tensorboard 2.0.2 which is incompatible.\u001b[0m\n",
            "\u001b[31mERROR: tensorflow 2.3.0 has requirement tensorflow-estimator<2.4.0,>=2.3.0, but you'll have tensorflow-estimator 2.0.1 which is incompatible.\u001b[0m\n",
            "\u001b[31mERROR: tensorflow-probability 0.11.0 has requirement gast>=0.3.2, but you'll have gast 0.2.2 which is incompatible.\u001b[0m\n",
            "Installing collected packages: tensorboard, gast, tensorflow-estimator, keras-applications, tensorflow-gpu\n",
            "  Found existing installation: tensorboard 2.3.0\n",
            "    Uninstalling tensorboard-2.3.0:\n",
            "      Successfully uninstalled tensorboard-2.3.0\n",
            "  Found existing installation: gast 0.3.3\n",
            "    Uninstalling gast-0.3.3:\n",
            "      Successfully uninstalled gast-0.3.3\n",
            "  Found existing installation: tensorflow-estimator 2.3.0\n",
            "    Uninstalling tensorflow-estimator-2.3.0:\n",
            "      Successfully uninstalled tensorflow-estimator-2.3.0\n",
            "Successfully installed gast-0.2.2 keras-applications-1.0.8 tensorboard-2.0.2 tensorflow-estimator-2.0.1 tensorflow-gpu-2.0.0\n"
          ],
          "name": "stdout"
        }
      ]
    },
    {
      "cell_type": "code",
      "metadata": {
        "id": "BOwsuGQQY9OL"
      },
      "source": [
        "from tensorflow.keras.preprocessing.sequence import pad_sequences\n",
        "from tensorflow.keras.layers import Embedding, LSTM, Dense, Dropout, Bidirectional\n",
        "from tensorflow.keras.preprocessing.text import Tokenizer\n",
        "from tensorflow.keras.models import Sequential\n",
        "from tensorflow.keras.optimizers import Adam\n",
        "### YOUR CODE HERE\n",
        "# Figure out how to import regularizers\n",
        "from tensorflow.keras import regularizers\n",
        "###\n",
        "import tensorflow.keras.utils as ku \n",
        "import numpy as np "
      ],
      "execution_count": 3,
      "outputs": []
    },
    {
      "cell_type": "code",
      "metadata": {
        "id": "PRnDnCW-Z7qv",
        "outputId": "ea29b94a-f90d-4e77-e19d-798a3001488c",
        "colab": {
          "base_uri": "https://localhost:8080/",
          "height": 202
        }
      },
      "source": [
        "tokenizer = Tokenizer()\n",
        "!wget --no-check-certificate \\\n",
        "    https://storage.googleapis.com/laurencemoroney-blog.appspot.com/sonnets.txt \\\n",
        "    -O /tmp/sonnets.txt\n",
        "data = open('/tmp/sonnets.txt').read()\n",
        "\n",
        "corpus = data.lower().split(\"\\n\")\n",
        "\n",
        "\n",
        "tokenizer.fit_on_texts(corpus)\n",
        "total_words = len(tokenizer.word_index) + 1\n",
        "\n",
        "# create input sequences using list of tokens\n",
        "input_sequences = []\n",
        "for line in corpus:\n",
        "\ttoken_list = tokenizer.texts_to_sequences([line])[0]\n",
        "\tfor i in range(1, len(token_list)):\n",
        "\t\tn_gram_sequence = token_list[:i+1]\n",
        "\t\tinput_sequences.append(n_gram_sequence)\n",
        "\n",
        "\n",
        "# pad sequences \n",
        "max_sequence_len = max([len(x) for x in input_sequences])\n",
        "input_sequences = np.array(pad_sequences(input_sequences, maxlen=max_sequence_len, padding='pre'))\n",
        "\n",
        "# create predictors and label\n",
        "predictors, label = input_sequences[:,:-1],input_sequences[:,-1]\n",
        "\n",
        "label = ku.to_categorical(label, num_classes=total_words)"
      ],
      "execution_count": 4,
      "outputs": [
        {
          "output_type": "stream",
          "text": [
            "--2020-10-01 12:40:23--  https://storage.googleapis.com/laurencemoroney-blog.appspot.com/sonnets.txt\n",
            "Resolving storage.googleapis.com (storage.googleapis.com)... 64.233.189.128, 108.177.97.128, 108.177.125.128, ...\n",
            "Connecting to storage.googleapis.com (storage.googleapis.com)|64.233.189.128|:443... connected.\n",
            "HTTP request sent, awaiting response... 200 OK\n",
            "Length: 93578 (91K) [text/plain]\n",
            "Saving to: ‘/tmp/sonnets.txt’\n",
            "\n",
            "\r/tmp/sonnets.txt      0%[                    ]       0  --.-KB/s               \r/tmp/sonnets.txt    100%[===================>]  91.38K  --.-KB/s    in 0.001s  \n",
            "\n",
            "2020-10-01 12:40:23 (111 MB/s) - ‘/tmp/sonnets.txt’ saved [93578/93578]\n",
            "\n"
          ],
          "name": "stdout"
        }
      ]
    },
    {
      "cell_type": "code",
      "metadata": {
        "id": "2F7JQcj8H_6k",
        "outputId": "41b0845e-7191-4b5c-d1b4-d833a61fb1d3",
        "colab": {
          "base_uri": "https://localhost:8080/",
          "height": 67
        }
      },
      "source": [
        "print(max_sequence_len)\n",
        "print(predictors.shape)\n",
        "print(label.shape)"
      ],
      "execution_count": 5,
      "outputs": [
        {
          "output_type": "stream",
          "text": [
            "11\n",
            "(15462, 10)\n",
            "(15462, 3211)\n"
          ],
          "name": "stdout"
        }
      ]
    },
    {
      "cell_type": "code",
      "metadata": {
        "id": "dVazY5VgUfiN",
        "outputId": "39716238-a0f1-4cde-afde-36aeadcc9211",
        "colab": {
          "base_uri": "https://localhost:8080/",
          "height": 202
        }
      },
      "source": [
        "# Note this is the 100 dimension version of GloVe from Stanford\n",
        "# I unzipped and hosted it on my site to make this notebook easier\n",
        "word_index = tokenizer.word_index\n",
        "embedding_dim = 100\n",
        "\n",
        "!wget --no-check-certificate \\\n",
        "    https://storage.googleapis.com/laurencemoroney-blog.appspot.com/glove.6B.100d.txt \\\n",
        "    -O /tmp/glove.6B.100d.txt\n",
        "embeddings_index = {};\n",
        "with open('/tmp/glove.6B.100d.txt') as f:\n",
        "    for line in f:\n",
        "        values = line.split();\n",
        "        word = values[0];\n",
        "        coefs = np.asarray(values[1:], dtype='float32');\n",
        "        embeddings_index[word] = coefs;\n",
        "\n",
        "embeddings_matrix = np.zeros((total_words, embedding_dim));\n",
        "for word, i in word_index.items():\n",
        "    embedding_vector = embeddings_index.get(word);\n",
        "    if embedding_vector is not None:\n",
        "        embeddings_matrix[i] = embedding_vector;"
      ],
      "execution_count": 14,
      "outputs": [
        {
          "output_type": "stream",
          "text": [
            "--2020-10-01 13:23:00--  https://storage.googleapis.com/laurencemoroney-blog.appspot.com/glove.6B.100d.txt\n",
            "Resolving storage.googleapis.com (storage.googleapis.com)... 64.233.189.128, 108.177.97.128, 74.125.203.128, ...\n",
            "Connecting to storage.googleapis.com (storage.googleapis.com)|64.233.189.128|:443... connected.\n",
            "HTTP request sent, awaiting response... 200 OK\n",
            "Length: 347116733 (331M) [text/plain]\n",
            "Saving to: ‘/tmp/glove.6B.100d.txt’\n",
            "\n",
            "/tmp/glove.6B.100d. 100%[===================>] 331.04M   211MB/s    in 1.6s    \n",
            "\n",
            "2020-10-01 13:23:02 (211 MB/s) - ‘/tmp/glove.6B.100d.txt’ saved [347116733/347116733]\n",
            "\n"
          ],
          "name": "stdout"
        }
      ]
    },
    {
      "cell_type": "code",
      "metadata": {
        "id": "w9vH8Y59ajYL",
        "outputId": "af5c1dce-b3e8-4747-d3e5-b487eb71c594",
        "colab": {
          "base_uri": "https://localhost:8080/",
          "height": 370
        }
      },
      "source": [
        "model = Sequential()\n",
        "model.add(Embedding(total_words,embedding_dim,input_length=max_sequence_len-1,trainable=False,weights=[embeddings_matrix])),\n",
        "model.add(LSTM(64,activation='relu',return_sequences=True)),\n",
        "model.add(Dropout(0.2)),\n",
        "model.add(LSTM(64,activation='relu',return_sequences=False))\n",
        "model.add(Dense(64,activation='relu',kernel_regularizer=regularizers.l1_l2(l1=0,l2=0.001)))\n",
        "model.add(Dense(total_words,activation='softmax'))\n",
        "# Pick an optimizer\n",
        "opt = Adam()\n",
        "model.compile(optimizer=opt,loss='categorical_crossentropy',metrics=['accuracy']) # Pick a loss function and an optimizer)\n",
        "print(model.summary())\n"
      ],
      "execution_count": 17,
      "outputs": [
        {
          "output_type": "stream",
          "text": [
            "Model: \"sequential_2\"\n",
            "_________________________________________________________________\n",
            "Layer (type)                 Output Shape              Param #   \n",
            "=================================================================\n",
            "embedding_2 (Embedding)      (None, 10, 100)           321100    \n",
            "_________________________________________________________________\n",
            "lstm_4 (LSTM)                (None, 10, 64)            42240     \n",
            "_________________________________________________________________\n",
            "dropout_2 (Dropout)          (None, 10, 64)            0         \n",
            "_________________________________________________________________\n",
            "lstm_5 (LSTM)                (None, 64)                33024     \n",
            "_________________________________________________________________\n",
            "dense_4 (Dense)              (None, 64)                4160      \n",
            "_________________________________________________________________\n",
            "dense_5 (Dense)              (None, 3211)              208715    \n",
            "=================================================================\n",
            "Total params: 609,239\n",
            "Trainable params: 288,139\n",
            "Non-trainable params: 321,100\n",
            "_________________________________________________________________\n",
            "None\n"
          ],
          "name": "stdout"
        }
      ]
    },
    {
      "cell_type": "code",
      "metadata": {
        "id": "AIg2f1HBxqof",
        "outputId": "88d9bddf-cde8-4e30-e8f9-2e0cb80dc360",
        "colab": {
          "base_uri": "https://localhost:8080/",
          "height": 1000
        }
      },
      "source": [
        "history = model.fit(predictors, label, epochs=100, verbose=1)"
      ],
      "execution_count": 18,
      "outputs": [
        {
          "output_type": "stream",
          "text": [
            "Train on 15462 samples\n",
            "Epoch 1/100\n",
            "15462/15462 [==============================] - 17s 1ms/sample - loss: 6.9205 - accuracy: 0.0182\n",
            "Epoch 2/100\n",
            "15462/15462 [==============================] - 15s 954us/sample - loss: 6.5184 - accuracy: 0.0247\n",
            "Epoch 3/100\n",
            "15462/15462 [==============================] - 15s 941us/sample - loss: 6.4195 - accuracy: 0.0261\n",
            "Epoch 4/100\n",
            "15462/15462 [==============================] - 15s 969us/sample - loss: 6.3442 - accuracy: 0.0278\n",
            "Epoch 5/100\n",
            "15462/15462 [==============================] - 15s 945us/sample - loss: 6.2725 - accuracy: 0.0337\n",
            "Epoch 6/100\n",
            "15462/15462 [==============================] - 15s 942us/sample - loss: 6.1853 - accuracy: 0.0371\n",
            "Epoch 7/100\n",
            "15462/15462 [==============================] - 15s 941us/sample - loss: 6.0769 - accuracy: 0.0444\n",
            "Epoch 8/100\n",
            "15462/15462 [==============================] - 14s 937us/sample - loss: 5.9408 - accuracy: 0.0470\n",
            "Epoch 9/100\n",
            "15462/15462 [==============================] - 15s 951us/sample - loss: 5.8318 - accuracy: 0.0508\n",
            "Epoch 10/100\n",
            "15462/15462 [==============================] - 15s 961us/sample - loss: 5.7252 - accuracy: 0.0527\n",
            "Epoch 11/100\n",
            "15462/15462 [==============================] - 15s 958us/sample - loss: 5.6322 - accuracy: 0.0534\n",
            "Epoch 12/100\n",
            "15462/15462 [==============================] - 15s 952us/sample - loss: 5.5378 - accuracy: 0.0577\n",
            "Epoch 13/100\n",
            "15462/15462 [==============================] - 15s 953us/sample - loss: 5.4550 - accuracy: 0.0551\n",
            "Epoch 14/100\n",
            "15462/15462 [==============================] - 15s 957us/sample - loss: 5.3609 - accuracy: 0.0602\n",
            "Epoch 15/100\n",
            "15462/15462 [==============================] - 15s 958us/sample - loss: 5.2743 - accuracy: 0.0626\n",
            "Epoch 16/100\n",
            "15462/15462 [==============================] - 15s 952us/sample - loss: 5.1892 - accuracy: 0.0655\n",
            "Epoch 17/100\n",
            "15462/15462 [==============================] - 15s 955us/sample - loss: 5.1014 - accuracy: 0.0636\n",
            "Epoch 18/100\n",
            "15462/15462 [==============================] - 15s 963us/sample - loss: 5.0200 - accuracy: 0.0658\n",
            "Epoch 19/100\n",
            "15462/15462 [==============================] - 15s 978us/sample - loss: 4.9306 - accuracy: 0.0690\n",
            "Epoch 20/100\n",
            "15462/15462 [==============================] - 15s 982us/sample - loss: 4.8642 - accuracy: 0.0708\n",
            "Epoch 21/100\n",
            "15462/15462 [==============================] - 15s 998us/sample - loss: 4.7836 - accuracy: 0.0714\n",
            "Epoch 22/100\n",
            "15462/15462 [==============================] - 16s 1ms/sample - loss: 4.7092 - accuracy: 0.0737\n",
            "Epoch 23/100\n",
            "15462/15462 [==============================] - 15s 980us/sample - loss: 4.6333 - accuracy: 0.0816\n",
            "Epoch 24/100\n",
            "15462/15462 [==============================] - 15s 969us/sample - loss: 4.5611 - accuracy: 0.0868\n",
            "Epoch 25/100\n",
            "15462/15462 [==============================] - 15s 960us/sample - loss: 4.4865 - accuracy: 0.0900\n",
            "Epoch 26/100\n",
            "15462/15462 [==============================] - 15s 969us/sample - loss: 4.4257 - accuracy: 0.0965\n",
            "Epoch 27/100\n",
            "15462/15462 [==============================] - 15s 960us/sample - loss: 4.3633 - accuracy: 0.1006\n",
            "Epoch 28/100\n",
            "15462/15462 [==============================] - 15s 959us/sample - loss: 4.3115 - accuracy: 0.1092\n",
            "Epoch 29/100\n",
            "15462/15462 [==============================] - 15s 967us/sample - loss: 4.2453 - accuracy: 0.1159\n",
            "Epoch 30/100\n",
            "15462/15462 [==============================] - 15s 963us/sample - loss: 4.1974 - accuracy: 0.1228\n",
            "Epoch 31/100\n",
            "15462/15462 [==============================] - 15s 969us/sample - loss: 4.1532 - accuracy: 0.1250\n",
            "Epoch 32/100\n",
            "15462/15462 [==============================] - 15s 979us/sample - loss: 4.0975 - accuracy: 0.1352\n",
            "Epoch 33/100\n",
            "15462/15462 [==============================] - 15s 961us/sample - loss: 4.0550 - accuracy: 0.1447\n",
            "Epoch 34/100\n",
            "15462/15462 [==============================] - 15s 966us/sample - loss: 4.0039 - accuracy: 0.1455\n",
            "Epoch 35/100\n",
            "15462/15462 [==============================] - 15s 949us/sample - loss: 3.9494 - accuracy: 0.1534\n",
            "Epoch 36/100\n",
            "15462/15462 [==============================] - 15s 945us/sample - loss: 3.9248 - accuracy: 0.1610\n",
            "Epoch 37/100\n",
            "15462/15462 [==============================] - 15s 942us/sample - loss: 3.8812 - accuracy: 0.1645\n",
            "Epoch 38/100\n",
            "15462/15462 [==============================] - 15s 939us/sample - loss: 3.8465 - accuracy: 0.1671\n",
            "Epoch 39/100\n",
            "15462/15462 [==============================] - 15s 940us/sample - loss: 3.7968 - accuracy: 0.1773\n",
            "Epoch 40/100\n",
            "15462/15462 [==============================] - 14s 933us/sample - loss: 3.7815 - accuracy: 0.1799\n",
            "Epoch 41/100\n",
            "15462/15462 [==============================] - 14s 931us/sample - loss: 3.7420 - accuracy: 0.1837\n",
            "Epoch 42/100\n",
            "15462/15462 [==============================] - 15s 950us/sample - loss: 3.7174 - accuracy: 0.1856\n",
            "Epoch 43/100\n",
            "15462/15462 [==============================] - 15s 955us/sample - loss: 3.6866 - accuracy: 0.1933\n",
            "Epoch 44/100\n",
            "15462/15462 [==============================] - 15s 939us/sample - loss: 3.6220 - accuracy: 0.2027\n",
            "Epoch 45/100\n",
            "15462/15462 [==============================] - 14s 933us/sample - loss: 3.6229 - accuracy: 0.2022\n",
            "Epoch 46/100\n",
            "15462/15462 [==============================] - 15s 964us/sample - loss: 3.5977 - accuracy: 0.2051\n",
            "Epoch 47/100\n",
            "15462/15462 [==============================] - 15s 978us/sample - loss: 3.5607 - accuracy: 0.2150\n",
            "Epoch 48/100\n",
            "15462/15462 [==============================] - 15s 970us/sample - loss: 3.5589 - accuracy: 0.2143\n",
            "Epoch 49/100\n",
            "15462/15462 [==============================] - 15s 974us/sample - loss: 3.5189 - accuracy: 0.2162\n",
            "Epoch 50/100\n",
            "15462/15462 [==============================] - 15s 963us/sample - loss: 3.4899 - accuracy: 0.2262\n",
            "Epoch 51/100\n",
            "15462/15462 [==============================] - 15s 964us/sample - loss: 3.4724 - accuracy: 0.2250\n",
            "Epoch 52/100\n",
            "15462/15462 [==============================] - 15s 962us/sample - loss: 3.4324 - accuracy: 0.2344\n",
            "Epoch 53/100\n",
            "15462/15462 [==============================] - 15s 965us/sample - loss: 3.4298 - accuracy: 0.2345\n",
            "Epoch 54/100\n",
            "15462/15462 [==============================] - 15s 963us/sample - loss: 3.4064 - accuracy: 0.2351\n",
            "Epoch 55/100\n",
            "15462/15462 [==============================] - 15s 963us/sample - loss: 3.3703 - accuracy: 0.2460\n",
            "Epoch 56/100\n",
            "15462/15462 [==============================] - 15s 962us/sample - loss: 3.3629 - accuracy: 0.2437\n",
            "Epoch 57/100\n",
            "15462/15462 [==============================] - 15s 958us/sample - loss: 3.3445 - accuracy: 0.2485\n",
            "Epoch 58/100\n",
            "15462/15462 [==============================] - 15s 969us/sample - loss: 3.3184 - accuracy: 0.2496\n",
            "Epoch 59/100\n",
            "15462/15462 [==============================] - 15s 966us/sample - loss: 3.2969 - accuracy: 0.2566\n",
            "Epoch 60/100\n",
            "15462/15462 [==============================] - 15s 967us/sample - loss: 3.2751 - accuracy: 0.2585\n",
            "Epoch 61/100\n",
            "15462/15462 [==============================] - 15s 950us/sample - loss: 3.2685 - accuracy: 0.2630\n",
            "Epoch 62/100\n",
            "15462/15462 [==============================] - 14s 934us/sample - loss: 3.2453 - accuracy: 0.2654\n",
            "Epoch 63/100\n",
            "15462/15462 [==============================] - 15s 940us/sample - loss: 3.2387 - accuracy: 0.2654\n",
            "Epoch 64/100\n",
            "15462/15462 [==============================] - 15s 948us/sample - loss: 3.2072 - accuracy: 0.2689\n",
            "Epoch 65/100\n",
            "15462/15462 [==============================] - 14s 924us/sample - loss: 3.1994 - accuracy: 0.2728\n",
            "Epoch 66/100\n",
            "15462/15462 [==============================] - 14s 926us/sample - loss: 3.1934 - accuracy: 0.2755\n",
            "Epoch 67/100\n",
            "15462/15462 [==============================] - 14s 922us/sample - loss: 3.1701 - accuracy: 0.2774\n",
            "Epoch 68/100\n",
            "15462/15462 [==============================] - 14s 932us/sample - loss: 3.1686 - accuracy: 0.2806\n",
            "Epoch 69/100\n",
            "15462/15462 [==============================] - 14s 928us/sample - loss: 3.1411 - accuracy: 0.2853\n",
            "Epoch 70/100\n",
            "15462/15462 [==============================] - 14s 931us/sample - loss: 3.1054 - accuracy: 0.2906\n",
            "Epoch 71/100\n",
            "15462/15462 [==============================] - 14s 932us/sample - loss: 3.1106 - accuracy: 0.2895\n",
            "Epoch 72/100\n",
            "15462/15462 [==============================] - 14s 931us/sample - loss: 3.1136 - accuracy: 0.2875\n",
            "Epoch 73/100\n",
            "15462/15462 [==============================] - 14s 932us/sample - loss: 3.0889 - accuracy: 0.2914\n",
            "Epoch 74/100\n",
            "15462/15462 [==============================] - 14s 927us/sample - loss: 3.0725 - accuracy: 0.2960\n",
            "Epoch 75/100\n",
            "15462/15462 [==============================] - 14s 932us/sample - loss: 3.0650 - accuracy: 0.2974\n",
            "Epoch 76/100\n",
            "15462/15462 [==============================] - 14s 924us/sample - loss: 3.0364 - accuracy: 0.3009\n",
            "Epoch 77/100\n",
            "15462/15462 [==============================] - 14s 930us/sample - loss: 3.0438 - accuracy: 0.2952\n",
            "Epoch 78/100\n",
            "15462/15462 [==============================] - 14s 925us/sample - loss: 3.0082 - accuracy: 0.3056\n",
            "Epoch 79/100\n",
            "15462/15462 [==============================] - 14s 927us/sample - loss: 3.0108 - accuracy: 0.3077\n",
            "Epoch 80/100\n",
            "15462/15462 [==============================] - 14s 925us/sample - loss: 2.9964 - accuracy: 0.3095\n",
            "Epoch 81/100\n",
            "15462/15462 [==============================] - 14s 923us/sample - loss: 2.9889 - accuracy: 0.3091\n",
            "Epoch 82/100\n",
            "15462/15462 [==============================] - 14s 924us/sample - loss: 2.9817 - accuracy: 0.3117\n",
            "Epoch 83/100\n",
            "15462/15462 [==============================] - 14s 925us/sample - loss: 2.9558 - accuracy: 0.3179\n",
            "Epoch 84/100\n",
            "15462/15462 [==============================] - 14s 934us/sample - loss: 2.9453 - accuracy: 0.3167\n",
            "Epoch 85/100\n",
            "15462/15462 [==============================] - 15s 984us/sample - loss: 2.9570 - accuracy: 0.3135\n",
            "Epoch 86/100\n",
            "15462/15462 [==============================] - 15s 954us/sample - loss: 2.9292 - accuracy: 0.3195\n",
            "Epoch 87/100\n",
            "15462/15462 [==============================] - 15s 942us/sample - loss: 2.9475 - accuracy: 0.3192\n",
            "Epoch 88/100\n",
            "15462/15462 [==============================] - 15s 942us/sample - loss: 2.8975 - accuracy: 0.3287\n",
            "Epoch 89/100\n",
            "15462/15462 [==============================] - 15s 945us/sample - loss: 2.8957 - accuracy: 0.3256\n",
            "Epoch 90/100\n",
            "15462/15462 [==============================] - 15s 950us/sample - loss: 2.9074 - accuracy: 0.3278\n",
            "Epoch 91/100\n",
            "15462/15462 [==============================] - 15s 949us/sample - loss: 2.8759 - accuracy: 0.3280\n",
            "Epoch 92/100\n",
            "15462/15462 [==============================] - 15s 955us/sample - loss: 2.8616 - accuracy: 0.3344\n",
            "Epoch 93/100\n",
            "15462/15462 [==============================] - 15s 948us/sample - loss: 2.8696 - accuracy: 0.3323\n",
            "Epoch 94/100\n",
            "15462/15462 [==============================] - 15s 953us/sample - loss: 2.8448 - accuracy: 0.3375\n",
            "Epoch 95/100\n",
            "15462/15462 [==============================] - 15s 946us/sample - loss: 2.8466 - accuracy: 0.3374\n",
            "Epoch 96/100\n",
            "15462/15462 [==============================] - 15s 967us/sample - loss: 2.8253 - accuracy: 0.3439\n",
            "Epoch 97/100\n",
            "15462/15462 [==============================] - 15s 954us/sample - loss: 2.8147 - accuracy: 0.3418\n",
            "Epoch 98/100\n",
            "15462/15462 [==============================] - 15s 948us/sample - loss: 2.8106 - accuracy: 0.3428\n",
            "Epoch 99/100\n",
            "15462/15462 [==============================] - 15s 953us/sample - loss: 2.7937 - accuracy: 0.3472\n",
            "Epoch 100/100\n",
            "15462/15462 [==============================] - 15s 955us/sample - loss: 2.7992 - accuracy: 0.3507\n"
          ],
          "name": "stdout"
        }
      ]
    },
    {
      "cell_type": "code",
      "metadata": {
        "id": "1fXTEO3GJ282",
        "outputId": "0c159d91-d3cd-4eb4-ead8-8d96c05970b5",
        "colab": {
          "base_uri": "https://localhost:8080/",
          "height": 545
        }
      },
      "source": [
        "import matplotlib.pyplot as plt\n",
        "acc = history.history['accuracy']\n",
        "loss = history.history['loss']\n",
        "\n",
        "epochs = range(len(loss))\n",
        "\n",
        "plt.plot(epochs, acc, 'b', label='Training accuracy')\n",
        "plt.title('Training accuracy')\n",
        "\n",
        "plt.figure()\n",
        "\n",
        "plt.plot(epochs, loss, 'b', label='Training Loss')\n",
        "plt.title('Training loss')\n",
        "plt.legend()\n",
        "\n",
        "plt.show()"
      ],
      "execution_count": 19,
      "outputs": [
        {
          "output_type": "display_data",
          "data": {
            "image/png": "[encoded data removed]",
            "text/plain": [
              "<Figure size 432x288 with 1 Axes>"
            ]
          },
          "metadata": {
            "tags": [],
            "needs_background": "light"
          }
        },
        {
          "output_type": "display_data",
          "data": {
            "image/png": "[encoded data removed]",
            "text/plain": [
              "<Figure size 432x288 with 1 Axes>"
            ]
          },
          "metadata": {
            "tags": [],
            "needs_background": "light"
          }
        }
      ]
    },
    {
      "cell_type": "code",
      "metadata": {
        "id": "6Vc6PHgxa6Hm",
        "outputId": "d3129e43-8199-4c3a-a2c7-83537d6bdcb7",
        "colab": {
          "base_uri": "https://localhost:8080/",
          "height": 54
        }
      },
      "source": [
        "seed_text = \"Help me Obi Wan Kenobi, you're my only hope\"\n",
        "next_words = 100\n",
        "  \n",
        "for _ in range(next_words):\n",
        "\ttoken_list = tokenizer.texts_to_sequences([seed_text])[0]\n",
        "\ttoken_list = pad_sequences([token_list], maxlen=max_sequence_len-1, padding='pre')\n",
        "\tpredicted = model.predict_classes(token_list, verbose=0)\n",
        "\toutput_word = \"\"\n",
        "\tfor word, index in tokenizer.word_index.items():\n",
        "\t\tif index == predicted:\n",
        "\t\t\toutput_word = word\n",
        "\t\t\tbreak\n",
        "\tseed_text += \" \" + output_word\n",
        "print(seed_text)"
      ],
      "execution_count": 20,
      "outputs": [
        {
          "output_type": "stream",
          "text": [
            "Help me Obi Wan Kenobi, you're my only hope you say the skill shall erred thy good rhyme untrue ' you dwell me give thee still told told so denote pay true writ muse grow see tell stay you dearer told bright sort ' room of slain staineth burn burn thereby me room burn room thereby me new burn thereby burn staineth burn cross'd cross'd staineth matter room room me ' bright cross'd common meant hid burn cross'd burn room burn me of sense of white sun rage hid ' it decays express'd reap showers you are still are room me ' in rolling hid ' room ' burn\n"
          ],
          "name": "stdout"
        }
      ]
    },
    {
      "cell_type": "code",
      "metadata": {
        "id": "HvpcN4_hUKzI"
      },
      "source": [
        ""
      ],
      "execution_count": null,
      "outputs": []
    }
  ]
}