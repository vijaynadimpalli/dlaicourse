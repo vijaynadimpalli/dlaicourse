{
  "nbformat": 4,
  "nbformat_minor": 0,
  "metadata": {
    "accelerator": "GPU",
    "colab": {
      "name": "NLP Course - Week 3 Exercise Question.ipynb",
      "provenance": [],
      "toc_visible": true,
      "include_colab_link": true
    },
    "kernelspec": {
      "display_name": "Python 3",
      "name": "python3"
    }
  },
  "cells": [
    {
      "cell_type": "markdown",
      "metadata": {
        "id": "view-in-github",
        "colab_type": "text"
      },
      "source": [
        "<a href=\"https://colab.research.google.com/github/vijaynadimpalli/dlaicourse/blob/master/TensorFlow%20In%20Practice/Course%203%20-%20NLP/NLP%20Course%20-%20Week%203%20Exercise%20Question.ipynb\" target=\"_parent\"><img src=\"https://colab.research.google.com/assets/colab-badge.svg\" alt=\"Open In Colab\"/></a>"
      ]
    },
    {
      "cell_type": "code",
      "metadata": {
        "id": "zX4Kg8DUTKWO"
      },
      "source": [
        "#@title Licensed under the Apache License, Version 2.0 (the \"License\");\n",
        "# you may not use this file except in compliance with the License.\n",
        "# You may obtain a copy of the License at\n",
        "#\n",
        "# https://www.apache.org/licenses/LICENSE-2.0\n",
        "#\n",
        "# Unless required by applicable law or agreed to in writing, software\n",
        "# distributed under the License is distributed on an \"AS IS\" BASIS,\n",
        "# WITHOUT WARRANTIES OR CONDITIONS OF ANY KIND, either express or implied.\n",
        "# See the License for the specific language governing permissions and\n",
        "# limitations under the License."
      ],
      "execution_count": 1,
      "outputs": []
    },
    {
      "cell_type": "code",
      "metadata": {
        "id": "hmA6EzkQJ5jt"
      },
      "source": [
        "import json\n",
        "import tensorflow as tf\n",
        "import csv\n",
        "import random\n",
        "import numpy as np\n",
        "\n",
        "from tensorflow.keras.preprocessing.text import Tokenizer\n",
        "from tensorflow.keras.preprocessing.sequence import pad_sequences\n",
        "from tensorflow.keras.utils import to_categorical\n",
        "from tensorflow.keras import regularizers\n",
        "\n",
        "\n",
        "embedding_dim = 100\n",
        "max_length = 16\n",
        "trunc_type='post'\n",
        "padding_type='post'\n",
        "oov_tok = \"<OOV>\"\n",
        "training_size= 160000 #Your dataset size here. Experiment using smaller values (i.e. 16000), but don't forget to train on at least 160000 to see the best effects\n",
        "test_portion=.1\n",
        "\n",
        "corpus = []\n"
      ],
      "execution_count": 2,
      "outputs": []
    },
    {
      "cell_type": "code",
      "metadata": {
        "id": "_TSy8A5w-yRF",
        "outputId": "b0f9793f-f33c-4e4a-fecd-7972d083806e",
        "colab": {
          "base_uri": "https://localhost:8080/",
          "height": 202
        }
      },
      "source": [
        "!wget --no-check-certificate \\\n",
        "    https://storage.googleapis.com/laurencemoroney-blog.appspot.com/training_cleaned.csv \\\n",
        "    -O /tmp/training_cleaned.csv"
      ],
      "execution_count": 3,
      "outputs": [
        {
          "output_type": "stream",
          "text": [
            "--2020-10-02 06:01:21--  https://storage.googleapis.com/laurencemoroney-blog.appspot.com/training_cleaned.csv\n",
            "Resolving storage.googleapis.com (storage.googleapis.com)... 64.233.189.128, 108.177.97.128, 108.177.125.128, ...\n",
            "Connecting to storage.googleapis.com (storage.googleapis.com)|64.233.189.128|:443... connected.\n",
            "HTTP request sent, awaiting response... 200 OK\n",
            "Length: 238942690 (228M) [application/octet-stream]\n",
            "Saving to: ‘/tmp/training_cleaned.csv’\n",
            "\n",
            "/tmp/training_clean 100%[===================>] 227.87M  37.0MB/s    in 6.2s    \n",
            "\n",
            "2020-10-02 06:01:28 (37.0 MB/s) - ‘/tmp/training_cleaned.csv’ saved [238942690/238942690]\n",
            "\n"
          ],
          "name": "stdout"
        }
      ]
    },
    {
      "cell_type": "code",
      "metadata": {
        "id": "bM0l_dORKqE0",
        "outputId": "5a3b2709-a18d-4e25-9003-cb715f533a64",
        "colab": {
          "base_uri": "https://localhost:8080/",
          "height": 202
        }
      },
      "source": [
        "# Note that I cleaned the Stanford dataset to remove LATIN1 encoding to make it easier for Python CSV reader\n",
        "# You can do that yourself with:\n",
        "# iconv -f LATIN1 -t UTF8 training.1600000.processed.noemoticon.csv -o training_cleaned.csv\n",
        "# I then hosted it on my site to make it easier to use in this notebook\n",
        "\n",
        "!wget --no-check-certificate \\\n",
        "    https://storage.googleapis.com/laurencemoroney-blog.appspot.com/training_cleaned.csv \\\n",
        "    -O /tmp/training_cleaned.csv\n",
        "\n",
        "num_sentences = 0\n",
        "\n",
        "with open(\"/tmp/training_cleaned.csv\") as csvfile:\n",
        "    reader = csv.reader(csvfile, delimiter=',')\n",
        "    for row in reader:\n",
        "      # Your Code here. Create list items where the first item is the text, found in row[5], and the second is the label. Note that the label is a '0' or a '4' in the text. When it's the former, make\n",
        "      # your label to be 0, otherwise 1. Keep a count of the number of sentences in num_sentences\n",
        "        list_item=[row[5],row[0]]\n",
        "        list_item[1] = 0 if list_item[1]=='0' else 1\n",
        "        # YOUR CODE HERE\n",
        "        num_sentences = num_sentences + 1\n",
        "        corpus.append(list_item)\n"
      ],
      "execution_count": 4,
      "outputs": [
        {
          "output_type": "stream",
          "text": [
            "--2020-10-02 06:01:28--  https://storage.googleapis.com/laurencemoroney-blog.appspot.com/training_cleaned.csv\n",
            "Resolving storage.googleapis.com (storage.googleapis.com)... 64.233.189.128, 108.177.97.128, 74.125.203.128, ...\n",
            "Connecting to storage.googleapis.com (storage.googleapis.com)|64.233.189.128|:443... connected.\n",
            "HTTP request sent, awaiting response... 200 OK\n",
            "Length: 238942690 (228M) [application/octet-stream]\n",
            "Saving to: ‘/tmp/training_cleaned.csv’\n",
            "\n",
            "/tmp/training_clean 100%[===================>] 227.87M   275MB/s    in 0.8s    \n",
            "\n",
            "2020-10-02 06:01:29 (275 MB/s) - ‘/tmp/training_cleaned.csv’ saved [238942690/238942690]\n",
            "\n"
          ],
          "name": "stdout"
        }
      ]
    },
    {
      "cell_type": "code",
      "metadata": {
        "id": "3kxblBUjEUX-",
        "outputId": "43ac45e2-be7d-4327-a7d6-abc7e9165fc8",
        "colab": {
          "base_uri": "https://localhost:8080/",
          "height": 67
        }
      },
      "source": [
        "print(num_sentences)\n",
        "print(len(corpus))\n",
        "print(corpus[1])\n",
        "\n",
        "# Expected Output:\n",
        "# 1600000\n",
        "# 1600000\n",
        "# [\"is upset that he can't update his Facebook by texting it... and might cry as a result  School today also. Blah!\", 0]"
      ],
      "execution_count": 5,
      "outputs": [
        {
          "output_type": "stream",
          "text": [
            "1600000\n",
            "1600000\n",
            "[\"is upset that he can't update his Facebook by texting it... and might cry as a result  School today also. Blah!\", 0]\n"
          ],
          "name": "stdout"
        }
      ]
    },
    {
      "cell_type": "code",
      "metadata": {
        "id": "ohOGz24lsNAD"
      },
      "source": [
        "sentences=[]\n",
        "labels=[]\n",
        "random.shuffle(corpus)\n",
        "for x in range(training_size):\n",
        "    sentences.append(corpus[x][0])\n",
        "    labels.append(corpus[x][1])\n",
        "\n",
        "\n",
        "tokenizer = Tokenizer()\n",
        "tokenizer.fit_on_texts(sentences)\n",
        "\n",
        "word_index = tokenizer.word_index\n",
        "vocab_size=len(word_index)\n",
        "\n",
        "sequences = tokenizer.texts_to_sequences(sentences)\n",
        "padded = pad_sequences(sequences,maxlen=max_length,padding=padding_type,truncating=trunc_type)\n",
        "\n",
        "split = int(test_portion * training_size)\n",
        "\n",
        "test_sequences = padded[0:split]\n",
        "training_sequences = padded[split:training_size]\n",
        "test_labels = np.array(labels[0:split])\n",
        "training_labels = np.array(labels[split:training_size])"
      ],
      "execution_count": 6,
      "outputs": []
    },
    {
      "cell_type": "code",
      "metadata": {
        "id": "LAwvhVkLzhXh",
        "outputId": "ecfa0fdc-8f5d-4b5f-ab89-691dcb5c09bb",
        "colab": {
          "base_uri": "https://localhost:8080/",
          "height": 34
        }
      },
      "source": [
        "len(labels)"
      ],
      "execution_count": 7,
      "outputs": [
        {
          "output_type": "execute_result",
          "data": {
            "text/plain": [
              "160000"
            ]
          },
          "metadata": {
            "tags": []
          },
          "execution_count": 7
        }
      ]
    },
    {
      "cell_type": "code",
      "metadata": {
        "id": "gIrtRem1En3N",
        "outputId": "579608a4-45d2-4a5c-b087-9e73baba68a4",
        "colab": {
          "base_uri": "https://localhost:8080/",
          "height": 50
        }
      },
      "source": [
        "print(vocab_size)\n",
        "print(word_index['i'])\n",
        "# Expected Output\n",
        "# 138858\n",
        "# 1"
      ],
      "execution_count": 8,
      "outputs": [
        {
          "output_type": "stream",
          "text": [
            "138317\n",
            "1\n"
          ],
          "name": "stdout"
        }
      ]
    },
    {
      "cell_type": "code",
      "metadata": {
        "id": "C1zdgJkusRh0",
        "outputId": "5dcc80aa-a510-4ed4-8786-035d00272149",
        "colab": {
          "base_uri": "https://localhost:8080/",
          "height": 202
        }
      },
      "source": [
        "# Note this is the 100 dimension version of GloVe from Stanford\n",
        "# I unzipped and hosted it on my site to make this notebook easier\n",
        "!wget --no-check-certificate \\\n",
        "    https://storage.googleapis.com/laurencemoroney-blog.appspot.com/glove.6B.100d.txt \\\n",
        "    -O /tmp/glove.6B.100d.txt\n",
        "embeddings_index = {};\n",
        "with open('/tmp/glove.6B.100d.txt') as f:\n",
        "    for line in f:\n",
        "        values = line.split();\n",
        "        word = values[0];\n",
        "        coefs = np.asarray(values[1:], dtype='float32');\n",
        "        embeddings_index[word] = coefs;\n",
        "\n",
        "embeddings_matrix = np.zeros((vocab_size+1, embedding_dim));\n",
        "for word, i in word_index.items():\n",
        "    embedding_vector = embeddings_index.get(word);\n",
        "    if embedding_vector is not None:\n",
        "        embeddings_matrix[i] = embedding_vector;"
      ],
      "execution_count": 9,
      "outputs": [
        {
          "output_type": "stream",
          "text": [
            "--2020-10-02 06:01:40--  https://storage.googleapis.com/laurencemoroney-blog.appspot.com/glove.6B.100d.txt\n",
            "Resolving storage.googleapis.com (storage.googleapis.com)... 74.125.204.128, 64.233.188.128, 64.233.189.128, ...\n",
            "Connecting to storage.googleapis.com (storage.googleapis.com)|74.125.204.128|:443... connected.\n",
            "HTTP request sent, awaiting response... 200 OK\n",
            "Length: 347116733 (331M) [text/plain]\n",
            "Saving to: ‘/tmp/glove.6B.100d.txt’\n",
            "\n",
            "/tmp/glove.6B.100d. 100%[===================>] 331.04M  47.2MB/s    in 7.0s    \n",
            "\n",
            "2020-10-02 06:01:48 (47.2 MB/s) - ‘/tmp/glove.6B.100d.txt’ saved [347116733/347116733]\n",
            "\n"
          ],
          "name": "stdout"
        }
      ]
    },
    {
      "cell_type": "code",
      "metadata": {
        "id": "71NLk_lpFLNt",
        "outputId": "7ae3aa71-1fc6-470b-fd3f-6eeb57f91d06",
        "colab": {
          "base_uri": "https://localhost:8080/",
          "height": 34
        }
      },
      "source": [
        "print(len(embeddings_matrix))\n",
        "# Expected Output\n",
        "# 138859"
      ],
      "execution_count": 10,
      "outputs": [
        {
          "output_type": "stream",
          "text": [
            "138318\n"
          ],
          "name": "stdout"
        }
      ]
    },
    {
      "cell_type": "code",
      "metadata": {
        "id": "iKKvbuEBOGFz",
        "outputId": "58a93901-89eb-49da-d36f-03c022daa82b",
        "colab": {
          "base_uri": "https://localhost:8080/",
          "height": 1000
        }
      },
      "source": [
        "model = tf.keras.Sequential([\n",
        "    tf.keras.layers.Embedding(vocab_size+1, embedding_dim, input_length=max_length, weights=[embeddings_matrix], trainable=False),\n",
        "    #tf.keras.layers.Conv1D(64,5,activation='relu',kernel_regularizer=regularizers.l1_l2(l1=0)),\n",
        "    tf.keras.layers.Bidirectional(tf.keras.layers.LSTM(64,return_sequences=True,kernel_regularizer=regularizers.l1_l2(l1=0,l2=0.01))),\n",
        "    tf.keras.layers.BatchNormalization(),\n",
        "    tf.keras.layers.Bidirectional(tf.keras.layers.LSTM(64,return_sequences=False,kernel_regularizer=regularizers.l1_l2(l1=0,l2=0.01))),\n",
        "    tf.keras.layers.BatchNormalization(),\n",
        "    tf.keras.layers.Dense(64,activation='relu',kernel_regularizer=regularizers.l1_l2(l1=0,l2=0.01)),\n",
        "    tf.keras.layers.BatchNormalization(),\n",
        "    tf.keras.layers.Dense(1,activation='sigmoid')\n",
        "    # YOUR CODE HERE - experiment with combining different types, such as convolutions and LSTMs\n",
        "])\n",
        "model.compile(optimizer='adam',loss='binary_crossentropy',metrics=['accuracy'])\n",
        "model.summary()\n",
        "\n",
        "num_epochs = 50\n",
        "history = model.fit(training_sequences, training_labels, epochs=num_epochs, validation_data=(test_sequences, test_labels), verbose=2)\n",
        "\n",
        "print(\"Training Complete\")\n"
      ],
      "execution_count": 19,
      "outputs": [
        {
          "output_type": "stream",
          "text": [
            "Model: \"sequential_4\"\n",
            "_________________________________________________________________\n",
            "Layer (type)                 Output Shape              Param #   \n",
            "=================================================================\n",
            "embedding_4 (Embedding)      (None, 16, 100)           13831800  \n",
            "_________________________________________________________________\n",
            "bidirectional_2 (Bidirection (None, 16, 128)           84480     \n",
            "_________________________________________________________________\n",
            "batch_normalization_12 (Batc (None, 16, 128)           512       \n",
            "_________________________________________________________________\n",
            "bidirectional_3 (Bidirection (None, 128)               98816     \n",
            "_________________________________________________________________\n",
            "batch_normalization_13 (Batc (None, 128)               512       \n",
            "_________________________________________________________________\n",
            "dense_8 (Dense)              (None, 64)                8256      \n",
            "_________________________________________________________________\n",
            "batch_normalization_14 (Batc (None, 64)                256       \n",
            "_________________________________________________________________\n",
            "dense_9 (Dense)              (None, 1)                 65        \n",
            "=================================================================\n",
            "Total params: 14,024,697\n",
            "Trainable params: 192,257\n",
            "Non-trainable params: 13,832,440\n",
            "_________________________________________________________________\n",
            "Epoch 1/50\n",
            "4500/4500 - 42s - loss: 0.8474 - accuracy: 0.6913 - val_loss: 0.6096 - val_accuracy: 0.7113\n",
            "Epoch 2/50\n",
            "4500/4500 - 40s - loss: 0.5833 - accuracy: 0.7100 - val_loss: 0.5878 - val_accuracy: 0.6897\n",
            "Epoch 3/50\n",
            "4500/4500 - 40s - loss: 0.5712 - accuracy: 0.7153 - val_loss: 0.5633 - val_accuracy: 0.7160\n",
            "Epoch 4/50\n",
            "4500/4500 - 40s - loss: 0.5681 - accuracy: 0.7144 - val_loss: 0.5912 - val_accuracy: 0.6949\n",
            "Epoch 5/50\n",
            "4500/4500 - 40s - loss: 0.5663 - accuracy: 0.7149 - val_loss: 0.5857 - val_accuracy: 0.6984\n",
            "Epoch 6/50\n",
            "4500/4500 - 40s - loss: 0.5648 - accuracy: 0.7166 - val_loss: 0.5638 - val_accuracy: 0.7159\n",
            "Epoch 7/50\n",
            "4500/4500 - 40s - loss: 0.5642 - accuracy: 0.7156 - val_loss: 0.5698 - val_accuracy: 0.7066\n",
            "Epoch 8/50\n",
            "4500/4500 - 40s - loss: 0.5640 - accuracy: 0.7177 - val_loss: 0.5733 - val_accuracy: 0.7085\n",
            "Epoch 9/50\n",
            "4500/4500 - 40s - loss: 0.5641 - accuracy: 0.7178 - val_loss: 0.5583 - val_accuracy: 0.7197\n",
            "Epoch 10/50\n",
            "4500/4500 - 40s - loss: 0.5634 - accuracy: 0.7187 - val_loss: 0.5632 - val_accuracy: 0.7197\n",
            "Epoch 11/50\n",
            "4500/4500 - 40s - loss: 0.5636 - accuracy: 0.7184 - val_loss: 0.5974 - val_accuracy: 0.6831\n",
            "Epoch 12/50\n",
            "4500/4500 - 40s - loss: 0.5633 - accuracy: 0.7187 - val_loss: 0.5686 - val_accuracy: 0.7119\n",
            "Epoch 13/50\n",
            "4500/4500 - 40s - loss: 0.5624 - accuracy: 0.7198 - val_loss: 0.5665 - val_accuracy: 0.7232\n",
            "Epoch 14/50\n",
            "4500/4500 - 40s - loss: 0.5632 - accuracy: 0.7197 - val_loss: 0.5613 - val_accuracy: 0.7176\n",
            "Epoch 15/50\n",
            "4500/4500 - 40s - loss: 0.5612 - accuracy: 0.7213 - val_loss: 0.6806 - val_accuracy: 0.6456\n",
            "Epoch 16/50\n",
            "4500/4500 - 40s - loss: 0.5613 - accuracy: 0.7210 - val_loss: 0.5603 - val_accuracy: 0.7227\n",
            "Epoch 17/50\n",
            "4500/4500 - 41s - loss: 0.5602 - accuracy: 0.7220 - val_loss: 0.5550 - val_accuracy: 0.7251\n",
            "Epoch 18/50\n",
            "4500/4500 - 40s - loss: 0.5607 - accuracy: 0.7212 - val_loss: 0.5777 - val_accuracy: 0.7019\n",
            "4500/4500 - 40s - loss: 0.5600 - accuracy: 0.7228 - val_loss: 0.5650 - val_accuracy: 0.7130\n",
            "Epoch 20/50\n",
            "4500/4500 - 40s - loss: 0.5603 - accuracy: 0.7231 - val_loss: 0.5648 - val_accuracy: 0.7146\n",
            "Epoch 21/50\n",
            "4500/4500 - 40s - loss: 0.5600 - accuracy: 0.7236 - val_loss: 0.5651 - val_accuracy: 0.7178\n",
            "Epoch 22/50\n",
            "4500/4500 - 40s - loss: 0.5591 - accuracy: 0.7232 - val_loss: 0.5583 - val_accuracy: 0.7206\n",
            "Epoch 23/50\n",
            "4500/4500 - 40s - loss: 0.5586 - accuracy: 0.7237 - val_loss: 0.5564 - val_accuracy: 0.7196\n",
            "Epoch 24/50\n",
            "4500/4500 - 41s - loss: 0.5586 - accuracy: 0.7247 - val_loss: 0.5966 - val_accuracy: 0.6956\n",
            "Epoch 25/50\n",
            "4500/4500 - 40s - loss: 0.5584 - accuracy: 0.7250 - val_loss: 0.5609 - val_accuracy: 0.7229\n",
            "Epoch 26/50\n",
            "4500/4500 - 40s - loss: 0.5581 - accuracy: 0.7252 - val_loss: 0.5754 - val_accuracy: 0.7113\n",
            "Epoch 27/50\n",
            "4500/4500 - 40s - loss: 0.5573 - accuracy: 0.7252 - val_loss: 0.5874 - val_accuracy: 0.6982\n",
            "Epoch 28/50\n",
            "4500/4500 - 40s - loss: 0.5561 - accuracy: 0.7274 - val_loss: 0.5683 - val_accuracy: 0.7161\n",
            "Epoch 29/50\n",
            "4500/4500 - 40s - loss: 0.5554 - accuracy: 0.7295 - val_loss: 0.5695 - val_accuracy: 0.7124\n",
            "Epoch 30/50\n",
            "4500/4500 - 40s - loss: 0.5549 - accuracy: 0.7290 - val_loss: 0.5590 - val_accuracy: 0.7197\n",
            "Epoch 31/50\n",
            "4500/4500 - 40s - loss: 0.5547 - accuracy: 0.7293 - val_loss: 0.5535 - val_accuracy: 0.7277\n",
            "Epoch 32/50\n",
            "4500/4500 - 41s - loss: 0.5541 - accuracy: 0.7304 - val_loss: 0.5894 - val_accuracy: 0.7092\n",
            "Epoch 33/50\n",
            "4500/4500 - 40s - loss: 0.5536 - accuracy: 0.7295 - val_loss: 0.5543 - val_accuracy: 0.7269\n",
            "Epoch 34/50\n",
            "4500/4500 - 40s - loss: 0.5541 - accuracy: 0.7305 - val_loss: 0.5571 - val_accuracy: 0.7272\n",
            "Epoch 35/50\n",
            "4500/4500 - 40s - loss: 0.5535 - accuracy: 0.7303 - val_loss: 0.5746 - val_accuracy: 0.7196\n",
            "Epoch 36/50\n",
            "4500/4500 - 40s - loss: 0.5535 - accuracy: 0.7305 - val_loss: 0.5793 - val_accuracy: 0.7181\n",
            "Epoch 37/50\n",
            "4500/4500 - 40s - loss: 0.5530 - accuracy: 0.7309 - val_loss: 0.5764 - val_accuracy: 0.7090\n",
            "Epoch 38/50\n",
            "4500/4500 - 40s - loss: 0.5519 - accuracy: 0.7317 - val_loss: 0.6461 - val_accuracy: 0.6851\n",
            "Epoch 39/50\n",
            "4500/4500 - 40s - loss: 0.5519 - accuracy: 0.7317 - val_loss: 0.5743 - val_accuracy: 0.7119\n",
            "Epoch 40/50\n",
            "4500/4500 - 41s - loss: 0.5513 - accuracy: 0.7330 - val_loss: 0.5811 - val_accuracy: 0.7072\n",
            "Epoch 41/50\n",
            "4500/4500 - 40s - loss: 0.5507 - accuracy: 0.7336 - val_loss: 0.5646 - val_accuracy: 0.7214\n",
            "Epoch 42/50\n",
            "4500/4500 - 40s - loss: 0.5507 - accuracy: 0.7342 - val_loss: 0.5507 - val_accuracy: 0.7300\n",
            "Epoch 43/50\n",
            "4500/4500 - 40s - loss: 0.5514 - accuracy: 0.7326 - val_loss: 0.5539 - val_accuracy: 0.7260\n",
            "Epoch 44/50\n",
            "4500/4500 - 40s - loss: 0.5513 - accuracy: 0.7334 - val_loss: 0.5551 - val_accuracy: 0.7251\n",
            "Epoch 45/50\n",
            "4500/4500 - 40s - loss: 0.5504 - accuracy: 0.7347 - val_loss: 0.5543 - val_accuracy: 0.7297\n",
            "Epoch 46/50\n",
            "4500/4500 - 40s - loss: 0.5500 - accuracy: 0.7346 - val_loss: 0.5471 - val_accuracy: 0.7361\n",
            "Epoch 47/50\n",
            "4500/4500 - 40s - loss: 0.5494 - accuracy: 0.7352 - val_loss: 0.5448 - val_accuracy: 0.7392\n",
            "Epoch 48/50\n",
            "4500/4500 - 41s - loss: 0.5494 - accuracy: 0.7342 - val_loss: 0.5476 - val_accuracy: 0.7335\n",
            "Epoch 49/50\n",
            "4500/4500 - 40s - loss: 0.5494 - accuracy: 0.7343 - val_loss: 0.5535 - val_accuracy: 0.7303\n",
            "Epoch 50/50\n",
            "4500/4500 - 40s - loss: 0.5488 - accuracy: 0.7346 - val_loss: 0.5467 - val_accuracy: 0.7361\n",
            "Training Complete\n"
          ],
          "name": "stdout"
        }
      ]
    },
    {
      "cell_type": "code",
      "metadata": {
        "id": "qxju4ItJKO8F",
        "outputId": "aa328585-5b6f-43e9-8730-0ca1b99dca89",
        "colab": {
          "base_uri": "https://localhost:8080/",
          "height": 606
        }
      },
      "source": [
        "import matplotlib.image  as mpimg\n",
        "import matplotlib.pyplot as plt\n",
        "\n",
        "#-----------------------------------------------------------\n",
        "# Retrieve a list of list results on training and test data\n",
        "# sets for each training epoch\n",
        "#-----------------------------------------------------------\n",
        "acc=history.history['accuracy']\n",
        "val_acc=history.history['val_accuracy']\n",
        "loss=history.history['loss']\n",
        "val_loss=history.history['val_loss']\n",
        "\n",
        "epochs=range(len(acc)) # Get number of epochs\n",
        "\n",
        "#------------------------------------------------\n",
        "# Plot training and validation accuracy per epoch\n",
        "#------------------------------------------------\n",
        "plt.plot(epochs, acc, 'r')\n",
        "plt.plot(epochs, val_acc, 'b')\n",
        "plt.title('Training and validation accuracy')\n",
        "plt.xlabel(\"Epochs\")\n",
        "plt.ylabel(\"Accuracy\")\n",
        "plt.legend([\"Accuracy\", \"Validation Accuracy\"])\n",
        "\n",
        "plt.figure()\n",
        "\n",
        "#------------------------------------------------\n",
        "# Plot training and validation loss per epoch\n",
        "#------------------------------------------------\n",
        "plt.plot(epochs, loss, 'r')\n",
        "plt.plot(epochs, val_loss, 'b')\n",
        "plt.title('Training and validation loss')\n",
        "plt.xlabel(\"Epochs\")\n",
        "plt.ylabel(\"Loss\")\n",
        "plt.legend([\"Loss\", \"Validation Loss\"])\n",
        "\n",
        "plt.figure()\n",
        "\n",
        "\n",
        "# Expected Output\n",
        "# A chart where the validation loss does not increase sharply!"
      ],
      "execution_count": 20,
      "outputs": [
        {
          "output_type": "execute_result",
          "data": {
            "text/plain": [
              "<Figure size 432x288 with 0 Axes>"
            ]
          },
          "metadata": {
            "tags": []
          },
          "execution_count": 20
        },
        {
          "output_type": "display_data",
          "data": {
            "image/png": "[encoded data removed]",
            "text/plain": [
              "<Figure size 432x288 with 1 Axes>"
            ]
          },
          "metadata": {
            "tags": [],
            "needs_background": "light"
          }
        },
        {
          "output_type": "display_data",
          "data": {
            "image/png": "[encoded data removed]",
            "text/plain": [
              "<Figure size 432x288 with 1 Axes>"
            ]
          },
          "metadata": {
            "tags": [],
            "needs_background": "light"
          }
        },
        {
          "output_type": "display_data",
          "data": {
            "text/plain": [
              "<Figure size 432x288 with 0 Axes>"
            ]
          },
          "metadata": {
            "tags": []
          }
        }
      ]
    },
    {
      "cell_type": "code",
      "metadata": {
        "id": "TtDzrWXO6W7E"
      },
      "source": [
        "# extractor = keras.Model(inputs=model.inputs,\n",
        "#                         outputs=[layer.output for layer in model.layers])\n",
        "# features = extractor(data)"
      ],
      "execution_count": 13,
      "outputs": []
    },
    {
      "cell_type": "code",
      "metadata": {
        "id": "OQTXZXdt6d55",
        "outputId": "7baa0041-01ee-4da1-bfb6-dcea584eb82e",
        "colab": {
          "base_uri": "https://localhost:8080/",
          "height": 1000
        }
      },
      "source": [
        "model = tf.keras.Sequential([\n",
        "    tf.keras.layers.Embedding(vocab_size+1, embedding_dim, input_length=max_length, weights=[embeddings_matrix], trainable=False),\n",
        "    #tf.keras.layers.Conv1D(64,5,activation='relu',kernel_regularizer=regularizers.l1_l2(l1=0)),\n",
        "    tf.keras.layers.Bidirectional(tf.keras.layers.LSTM(64,return_sequences=True,kernel_regularizer=regularizers.l1_l2(l1=0,l2=0.001))),\n",
        "    tf.keras.layers.BatchNormalization(),\n",
        "    tf.keras.layers.Bidirectional(tf.keras.layers.LSTM(64,return_sequences=False,kernel_regularizer=regularizers.l1_l2(l1=0,l2=0.001))),\n",
        "    tf.keras.layers.BatchNormalization(),\n",
        "    tf.keras.layers.Dense(64,activation='relu',kernel_regularizer=regularizers.l1_l2(l1=0,l2=0.001)),\n",
        "    tf.keras.layers.BatchNormalization(),\n",
        "    tf.keras.layers.Dense(1,activation='sigmoid')\n",
        "    # YOUR CODE HERE - experiment with combining different types, such as convolutions and LSTMs\n",
        "])\n",
        "model.compile(optimizer='adam',loss='binary_crossentropy',metrics=['accuracy'])\n",
        "model.summary()\n",
        "\n",
        "num_epochs = 50\n",
        "history = model.fit(training_sequences, training_labels, epochs=num_epochs, validation_data=(test_sequences, test_labels), verbose=2)\n",
        "\n",
        "print(\"Training Complete\")\n"
      ],
      "execution_count": 14,
      "outputs": [
        {
          "output_type": "stream",
          "text": [
            "Model: \"sequential_1\"\n",
            "_________________________________________________________________\n",
            "Layer (type)                 Output Shape              Param #   \n",
            "=================================================================\n",
            "embedding_1 (Embedding)      (None, 16, 100)           13831800  \n",
            "_________________________________________________________________\n",
            "bidirectional (Bidirectional (None, 16, 128)           84480     \n",
            "_________________________________________________________________\n",
            "batch_normalization_3 (Batch (None, 16, 128)           512       \n",
            "_________________________________________________________________\n",
            "bidirectional_1 (Bidirection (None, 128)               98816     \n",
            "_________________________________________________________________\n",
            "batch_normalization_4 (Batch (None, 128)               512       \n",
            "_________________________________________________________________\n",
            "dense_2 (Dense)              (None, 64)                8256      \n",
            "_________________________________________________________________\n",
            "batch_normalization_5 (Batch (None, 64)                256       \n",
            "_________________________________________________________________\n",
            "dense_3 (Dense)              (None, 1)                 65        \n",
            "=================================================================\n",
            "Total params: 14,024,697\n",
            "Trainable params: 192,257\n",
            "Non-trainable params: 13,832,440\n",
            "_________________________________________________________________\n",
            "Epoch 1/50\n",
            "Epoch 2/50\n",
            "4500/4500 - 40s - loss: 0.5597 - accuracy: 0.7364 - val_loss: 0.5518 - val_accuracy: 0.7446\n",
            "Epoch 3/50\n",
            "4500/4500 - 40s - loss: 0.5401 - accuracy: 0.7464 - val_loss: 0.5267 - val_accuracy: 0.7527\n",
            "Epoch 4/50\n",
            "4500/4500 - 41s - loss: 0.5294 - accuracy: 0.7529 - val_loss: 0.5363 - val_accuracy: 0.7442\n",
            "Epoch 5/50\n",
            "4500/4500 - 40s - loss: 0.5233 - accuracy: 0.7567 - val_loss: 0.5204 - val_accuracy: 0.7578\n",
            "Epoch 6/50\n",
            "4500/4500 - 40s - loss: 0.5200 - accuracy: 0.7575 - val_loss: 0.5323 - val_accuracy: 0.7484\n",
            "Epoch 7/50\n",
            "4500/4500 - 40s - loss: 0.5180 - accuracy: 0.7600 - val_loss: 0.5367 - val_accuracy: 0.7410\n",
            "Epoch 8/50\n",
            "4500/4500 - 40s - loss: 0.5149 - accuracy: 0.7618 - val_loss: 0.5124 - val_accuracy: 0.7610\n",
            "Epoch 9/50\n",
            "4500/4500 - 40s - loss: 0.5128 - accuracy: 0.7617 - val_loss: 0.5180 - val_accuracy: 0.7601\n",
            "Epoch 10/50\n",
            "4500/4500 - 40s - loss: 0.5123 - accuracy: 0.7635 - val_loss: 0.5250 - val_accuracy: 0.7535\n",
            "Epoch 11/50\n",
            "4500/4500 - 40s - loss: 0.5106 - accuracy: 0.7649 - val_loss: 0.5192 - val_accuracy: 0.7577\n",
            "Epoch 12/50\n",
            "4500/4500 - 40s - loss: 0.5108 - accuracy: 0.7652 - val_loss: 0.5128 - val_accuracy: 0.7626\n",
            "Epoch 13/50\n",
            "4500/4500 - 40s - loss: 0.5083 - accuracy: 0.7671 - val_loss: 0.5166 - val_accuracy: 0.7552\n",
            "Epoch 14/50\n",
            "4500/4500 - 40s - loss: 0.5086 - accuracy: 0.7663 - val_loss: 0.5381 - val_accuracy: 0.7441\n",
            "Epoch 15/50\n",
            "4500/4500 - 40s - loss: 0.5073 - accuracy: 0.7682 - val_loss: 0.5126 - val_accuracy: 0.7631\n",
            "Epoch 16/50\n",
            "4500/4500 - 40s - loss: 0.5062 - accuracy: 0.7680 - val_loss: 0.5253 - val_accuracy: 0.7522\n",
            "Epoch 17/50\n",
            "4500/4500 - 40s - loss: 0.5055 - accuracy: 0.7685 - val_loss: 0.5127 - val_accuracy: 0.7599\n",
            "Epoch 18/50\n",
            "4500/4500 - 40s - loss: 0.5050 - accuracy: 0.7690 - val_loss: 0.5202 - val_accuracy: 0.7584\n",
            "Epoch 19/50\n",
            "4500/4500 - 41s - loss: 0.5041 - accuracy: 0.7710 - val_loss: 0.5120 - val_accuracy: 0.7626\n",
            "Epoch 20/50\n",
            "4500/4500 - 40s - loss: 0.5031 - accuracy: 0.7732 - val_loss: 0.5185 - val_accuracy: 0.7589\n",
            "Epoch 21/50\n",
            "4500/4500 - 40s - loss: 0.5030 - accuracy: 0.7710 - val_loss: 0.5171 - val_accuracy: 0.7621\n",
            "Epoch 22/50\n",
            "4500/4500 - 40s - loss: 0.5024 - accuracy: 0.7715 - val_loss: 0.5155 - val_accuracy: 0.7637\n",
            "Epoch 23/50\n",
            "4500/4500 - 40s - loss: 0.5016 - accuracy: 0.7720 - val_loss: 0.5177 - val_accuracy: 0.7589\n",
            "Epoch 24/50\n",
            "4500/4500 - 40s - loss: 0.5010 - accuracy: 0.7721 - val_loss: 0.5141 - val_accuracy: 0.7607\n",
            "Epoch 25/50\n",
            "4500/4500 - 40s - loss: 0.4995 - accuracy: 0.7739 - val_loss: 0.5185 - val_accuracy: 0.7596\n",
            "Epoch 26/50\n",
            "4500/4500 - 40s - loss: 0.5001 - accuracy: 0.7747 - val_loss: 0.5117 - val_accuracy: 0.7643\n",
            "Epoch 27/50\n",
            "4500/4500 - 41s - loss: 0.4997 - accuracy: 0.7753 - val_loss: 0.5130 - val_accuracy: 0.7626\n",
            "Epoch 28/50\n",
            "4500/4500 - 40s - loss: 0.4982 - accuracy: 0.7772 - val_loss: 0.5247 - val_accuracy: 0.7571\n",
            "Epoch 29/50\n",
            "4500/4500 - 40s - loss: 0.4984 - accuracy: 0.7761 - val_loss: 0.5124 - val_accuracy: 0.7646\n",
            "Epoch 30/50\n",
            "4500/4500 - 40s - loss: 0.4985 - accuracy: 0.7762 - val_loss: 0.5327 - val_accuracy: 0.7509\n",
            "Epoch 31/50\n",
            "4500/4500 - 40s - loss: 0.4979 - accuracy: 0.7767 - val_loss: 0.5117 - val_accuracy: 0.7670\n",
            "Epoch 32/50\n",
            "4500/4500 - 40s - loss: 0.4969 - accuracy: 0.7768 - val_loss: 0.5218 - val_accuracy: 0.7576\n",
            "Epoch 33/50\n",
            "4500/4500 - 40s - loss: 0.4960 - accuracy: 0.7790 - val_loss: 0.5198 - val_accuracy: 0.7626\n",
            "Epoch 34/50\n",
            "4500/4500 - 40s - loss: 0.4949 - accuracy: 0.7792 - val_loss: 0.5211 - val_accuracy: 0.7599\n",
            "Epoch 35/50\n",
            "4500/4500 - 41s - loss: 0.4949 - accuracy: 0.7806 - val_loss: 0.5241 - val_accuracy: 0.7576\n",
            "Epoch 36/50\n",
            "4500/4500 - 40s - loss: 0.4950 - accuracy: 0.7806 - val_loss: 0.5308 - val_accuracy: 0.7574\n",
            "Epoch 37/50\n",
            "4500/4500 - 40s - loss: 0.4939 - accuracy: 0.7809 - val_loss: 0.5187 - val_accuracy: 0.7625\n",
            "Epoch 38/50\n",
            "4500/4500 - 40s - loss: 0.4934 - accuracy: 0.7816 - val_loss: 0.5250 - val_accuracy: 0.7589\n",
            "Epoch 39/50\n",
            "4500/4500 - 40s - loss: 0.4924 - accuracy: 0.7820 - val_loss: 0.5595 - val_accuracy: 0.7447\n",
            "Epoch 40/50\n",
            "4500/4500 - 40s - loss: 0.4933 - accuracy: 0.7831 - val_loss: 0.5292 - val_accuracy: 0.7576\n",
            "Epoch 41/50\n",
            "4500/4500 - 40s - loss: 0.4929 - accuracy: 0.7820 - val_loss: 0.5233 - val_accuracy: 0.7648\n",
            "Epoch 42/50\n",
            "4500/4500 - 41s - loss: 0.4929 - accuracy: 0.7821 - val_loss: 0.5307 - val_accuracy: 0.7604\n",
            "Epoch 43/50\n",
            "4500/4500 - 40s - loss: 0.4921 - accuracy: 0.7839 - val_loss: 0.5247 - val_accuracy: 0.7653\n",
            "Epoch 44/50\n",
            "4500/4500 - 40s - loss: 0.4904 - accuracy: 0.7868 - val_loss: 0.5316 - val_accuracy: 0.7559\n",
            "Epoch 45/50\n",
            "4500/4500 - 40s - loss: 0.4902 - accuracy: 0.7862 - val_loss: 0.5336 - val_accuracy: 0.7591\n",
            "Epoch 46/50\n",
            "4500/4500 - 40s - loss: 0.4900 - accuracy: 0.7857 - val_loss: 0.5248 - val_accuracy: 0.7636\n",
            "Epoch 47/50\n",
            "4500/4500 - 40s - loss: 0.4899 - accuracy: 0.7857 - val_loss: 0.5307 - val_accuracy: 0.7601\n",
            "Epoch 48/50\n",
            "4500/4500 - 40s - loss: 0.4894 - accuracy: 0.7864 - val_loss: 0.5333 - val_accuracy: 0.7598\n",
            "Epoch 49/50\n",
            "4500/4500 - 40s - loss: 0.4886 - accuracy: 0.7886 - val_loss: 0.5338 - val_accuracy: 0.7634\n",
            "Epoch 50/50\n",
            "4500/4500 - 41s - loss: 0.4890 - accuracy: 0.7872 - val_loss: 0.5341 - val_accuracy: 0.7609\n",
            "Training Complete\n"
          ],
          "name": "stdout"
        }
      ]
    },
    {
      "cell_type": "code",
      "metadata": {
        "id": "lQS_ayXl6fKX",
        "outputId": "2e01aa4c-05ba-4a7e-b222-1df742b38e23",
        "colab": {
          "base_uri": "https://localhost:8080/",
          "height": 606
        }
      },
      "source": [
        "import matplotlib.image  as mpimg\n",
        "import matplotlib.pyplot as plt\n",
        "\n",
        "#-----------------------------------------------------------\n",
        "# Retrieve a list of list results on training and test data\n",
        "# sets for each training epoch\n",
        "#-----------------------------------------------------------\n",
        "acc=history.history['accuracy']\n",
        "val_acc=history.history['val_accuracy']\n",
        "loss=history.history['loss']\n",
        "val_loss=history.history['val_loss']\n",
        "\n",
        "epochs=range(len(acc)) # Get number of epochs\n",
        "\n",
        "#------------------------------------------------\n",
        "# Plot training and validation accuracy per epoch\n",
        "#------------------------------------------------\n",
        "plt.plot(epochs, acc, 'r')\n",
        "plt.plot(epochs, val_acc, 'b')\n",
        "plt.title('Training and validation accuracy')\n",
        "plt.xlabel(\"Epochs\")\n",
        "plt.ylabel(\"Accuracy\")\n",
        "plt.legend([\"Accuracy\", \"Validation Accuracy\"])\n",
        "\n",
        "plt.figure()\n",
        "\n",
        "#------------------------------------------------\n",
        "# Plot training and validation loss per epoch\n",
        "#------------------------------------------------\n",
        "plt.plot(epochs, loss, 'r')\n",
        "plt.plot(epochs, val_loss, 'b')\n",
        "plt.title('Training and validation loss')\n",
        "plt.xlabel(\"Epochs\")\n",
        "plt.ylabel(\"Loss\")\n",
        "plt.legend([\"Loss\", \"Validation Loss\"])\n",
        "\n",
        "plt.figure()\n",
        "\n",
        "\n",
        "# Expected Output\n",
        "# A chart where the validation loss does not increase sharply!"
      ],
      "execution_count": 15,
      "outputs": [
        {
          "output_type": "execute_result",
          "data": {
            "text/plain": [
              "<Figure size 432x288 with 0 Axes>"
            ]
          },
          "metadata": {
            "tags": []
          },
          "execution_count": 15
        },
        {
          "output_type": "display_data",
          "data": {
            "image/png": "[encoded data removed]",
            "text/plain": [
              "<Figure size 432x288 with 1 Axes>"
            ]
          },
          "metadata": {
            "tags": [],
            "needs_background": "light"
          }
        },
        {
          "output_type": "display_data",
          "data": {
            "image/png": "[encoded data removed]",
            "text/plain": [
              "<Figure size 432x288 with 1 Axes>"
            ]
          },
          "metadata": {
            "tags": [],
            "needs_background": "light"
          }
        },
        {
          "output_type": "display_data",
          "data": {
            "text/plain": [
              "<Figure size 432x288 with 0 Axes>"
            ]
          },
          "metadata": {
            "tags": []
          }
        }
      ]
    },
    {
      "cell_type": "code",
      "metadata": {
        "id": "X-iXJoSz6zIL"
      },
      "source": [
        ""
      ],
      "execution_count": 15,
      "outputs": []
    }
  ]
}