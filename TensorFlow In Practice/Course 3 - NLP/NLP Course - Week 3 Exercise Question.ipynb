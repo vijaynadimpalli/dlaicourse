{
  "nbformat": 4,
  "nbformat_minor": 0,
  "metadata": {
    "accelerator": "GPU",
    "colab": {
      "name": "NLP Course - Week 3 Exercise Question.ipynb",
      "provenance": [],
      "toc_visible": true,
      "include_colab_link": true
    },
    "kernelspec": {
      "display_name": "Python 3",
      "name": "python3"
    }
  },
  "cells": [
    {
      "cell_type": "markdown",
      "metadata": {
        "id": "view-in-github",
        "colab_type": "text"
      },
      "source": [
        "<a href=\"https://colab.research.google.com/github/vijaynadimpalli/dlaicourse/blob/master/TensorFlow%20In%20Practice/Course%203%20-%20NLP/NLP%20Course%20-%20Week%203%20Exercise%20Question.ipynb\" target=\"_parent\"><img src=\"https://colab.research.google.com/assets/colab-badge.svg\" alt=\"Open In Colab\"/></a>"
      ]
    },
    {
      "cell_type": "code",
      "metadata": {
        "id": "zX4Kg8DUTKWO"
      },
      "source": [
        "#@title Licensed under the Apache License, Version 2.0 (the \"License\");\n",
        "# you may not use this file except in compliance with the License.\n",
        "# You may obtain a copy of the License at\n",
        "#\n",
        "# https://www.apache.org/licenses/LICENSE-2.0\n",
        "#\n",
        "# Unless required by applicable law or agreed to in writing, software\n",
        "# distributed under the License is distributed on an \"AS IS\" BASIS,\n",
        "# WITHOUT WARRANTIES OR CONDITIONS OF ANY KIND, either express or implied.\n",
        "# See the License for the specific language governing permissions and\n",
        "# limitations under the License."
      ],
      "execution_count": null,
      "outputs": []
    },
    {
      "cell_type": "code",
      "metadata": {
        "id": "13Br5Abe9dAb",
        "outputId": "06330cc7-e02d-4657-86bd-140ac79f8a3a",
        "colab": {
          "resources": {
            "http://localhost:8080/nbextensions/google.colab/files.js": {
              "data": "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",
              "ok": true,
              "headers": [
                [
                  "content-type",
                  "application/javascript"
                ]
              ],
              "status": 200,
              "status_text": ""
            }
          },
          "base_uri": "https://localhost:8080/",
          "height": 714
        }
      },
      "source": [
        "from google.colab import files\n",
        "files.upload()\n",
        "\n",
        "!pip install -r requirements.txt"
      ],
      "execution_count": null,
      "outputs": [
        {
          "output_type": "display_data",
          "data": {
            "text/html": [
              "\n",
              "     <input type=\"file\" id=\"files-76bfa2d7-c0ea-45f8-9939-b77eef0104e5\" name=\"files[]\" multiple disabled\n",
              "        style=\"border:none\" />\n",
              "     <output id=\"result-76bfa2d7-c0ea-45f8-9939-b77eef0104e5\">\n",
              "      Upload widget is only available when the cell has been executed in the\n",
              "      current browser session. Please rerun this cell to enable.\n",
              "      </output>\n",
              "      <script src=\"/nbextensions/google.colab/files.js\"></script> "
            ],
            "text/plain": [
              "<IPython.core.display.HTML object>"
            ]
          },
          "metadata": {
            "tags": []
          }
        },
        {
          "output_type": "stream",
          "text": [
            "Saving requirements.txt to requirements (1).txt\n",
            "Requirement already satisfied: numpy in /usr/local/lib/python3.6/dist-packages (from -r requirements.txt (line 1)) (1.18.5)\n",
            "Requirement already satisfied: Pillow in /usr/local/lib/python3.6/dist-packages (from -r requirements.txt (line 2)) (7.0.0)\n",
            "Requirement already satisfied: tensorflow-gpu==2.0.0 in /usr/local/lib/python3.6/dist-packages (from -r requirements.txt (line 3)) (2.0.0)\n",
            "Requirement already satisfied: keras-preprocessing>=1.0.5 in /usr/local/lib/python3.6/dist-packages (from tensorflow-gpu==2.0.0->-r requirements.txt (line 3)) (1.1.2)\n",
            "Requirement already satisfied: protobuf>=3.6.1 in /usr/local/lib/python3.6/dist-packages (from tensorflow-gpu==2.0.0->-r requirements.txt (line 3)) (3.12.4)\n",
            "Requirement already satisfied: wrapt>=1.11.1 in /usr/local/lib/python3.6/dist-packages (from tensorflow-gpu==2.0.0->-r requirements.txt (line 3)) (1.12.1)\n",
            "Requirement already satisfied: wheel>=0.26 in /usr/local/lib/python3.6/dist-packages (from tensorflow-gpu==2.0.0->-r requirements.txt (line 3)) (0.35.1)\n",
            "Requirement already satisfied: astor>=0.6.0 in /usr/local/lib/python3.6/dist-packages (from tensorflow-gpu==2.0.0->-r requirements.txt (line 3)) (0.8.1)\n",
            "Requirement already satisfied: grpcio>=1.8.6 in /usr/local/lib/python3.6/dist-packages (from tensorflow-gpu==2.0.0->-r requirements.txt (line 3)) (1.32.0)\n",
            "Requirement already satisfied: google-pasta>=0.1.6 in /usr/local/lib/python3.6/dist-packages (from tensorflow-gpu==2.0.0->-r requirements.txt (line 3)) (0.2.0)\n",
            "Requirement already satisfied: tensorflow-estimator<2.1.0,>=2.0.0 in /usr/local/lib/python3.6/dist-packages (from tensorflow-gpu==2.0.0->-r requirements.txt (line 3)) (2.0.1)\n",
            "Requirement already satisfied: gast==0.2.2 in /usr/local/lib/python3.6/dist-packages (from tensorflow-gpu==2.0.0->-r requirements.txt (line 3)) (0.2.2)\n",
            "Requirement already satisfied: keras-applications>=1.0.8 in /usr/local/lib/python3.6/dist-packages (from tensorflow-gpu==2.0.0->-r requirements.txt (line 3)) (1.0.8)\n",
            "Requirement already satisfied: six>=1.10.0 in /usr/local/lib/python3.6/dist-packages (from tensorflow-gpu==2.0.0->-r requirements.txt (line 3)) (1.15.0)\n",
            "Requirement already satisfied: tensorboard<2.1.0,>=2.0.0 in /usr/local/lib/python3.6/dist-packages (from tensorflow-gpu==2.0.0->-r requirements.txt (line 3)) (2.0.2)\n",
            "Requirement already satisfied: absl-py>=0.7.0 in /usr/local/lib/python3.6/dist-packages (from tensorflow-gpu==2.0.0->-r requirements.txt (line 3)) (0.10.0)\n",
            "Requirement already satisfied: termcolor>=1.1.0 in /usr/local/lib/python3.6/dist-packages (from tensorflow-gpu==2.0.0->-r requirements.txt (line 3)) (1.1.0)\n",
            "Requirement already satisfied: opt-einsum>=2.3.2 in /usr/local/lib/python3.6/dist-packages (from tensorflow-gpu==2.0.0->-r requirements.txt (line 3)) (3.3.0)\n",
            "Requirement already satisfied: setuptools in /usr/local/lib/python3.6/dist-packages (from protobuf>=3.6.1->tensorflow-gpu==2.0.0->-r requirements.txt (line 3)) (50.3.0)\n",
            "Requirement already satisfied: h5py in /usr/local/lib/python3.6/dist-packages (from keras-applications>=1.0.8->tensorflow-gpu==2.0.0->-r requirements.txt (line 3)) (2.10.0)\n",
            "Requirement already satisfied: werkzeug>=0.11.15 in /usr/local/lib/python3.6/dist-packages (from tensorboard<2.1.0,>=2.0.0->tensorflow-gpu==2.0.0->-r requirements.txt (line 3)) (1.0.1)\n",
            "Requirement already satisfied: google-auth<2,>=1.6.3 in /usr/local/lib/python3.6/dist-packages (from tensorboard<2.1.0,>=2.0.0->tensorflow-gpu==2.0.0->-r requirements.txt (line 3)) (1.17.2)\n",
            "Requirement already satisfied: markdown>=2.6.8 in /usr/local/lib/python3.6/dist-packages (from tensorboard<2.1.0,>=2.0.0->tensorflow-gpu==2.0.0->-r requirements.txt (line 3)) (3.2.2)\n",
            "Requirement already satisfied: google-auth-oauthlib<0.5,>=0.4.1 in /usr/local/lib/python3.6/dist-packages (from tensorboard<2.1.0,>=2.0.0->tensorflow-gpu==2.0.0->-r requirements.txt (line 3)) (0.4.1)\n",
            "Requirement already satisfied: requests<3,>=2.21.0 in /usr/local/lib/python3.6/dist-packages (from tensorboard<2.1.0,>=2.0.0->tensorflow-gpu==2.0.0->-r requirements.txt (line 3)) (2.23.0)\n",
            "Requirement already satisfied: rsa<5,>=3.1.4; python_version >= \"3\" in /usr/local/lib/python3.6/dist-packages (from google-auth<2,>=1.6.3->tensorboard<2.1.0,>=2.0.0->tensorflow-gpu==2.0.0->-r requirements.txt (line 3)) (4.6)\n",
            "Requirement already satisfied: pyasn1-modules>=0.2.1 in /usr/local/lib/python3.6/dist-packages (from google-auth<2,>=1.6.3->tensorboard<2.1.0,>=2.0.0->tensorflow-gpu==2.0.0->-r requirements.txt (line 3)) (0.2.8)\n",
            "Requirement already satisfied: cachetools<5.0,>=2.0.0 in /usr/local/lib/python3.6/dist-packages (from google-auth<2,>=1.6.3->tensorboard<2.1.0,>=2.0.0->tensorflow-gpu==2.0.0->-r requirements.txt (line 3)) (4.1.1)\n",
            "Requirement already satisfied: importlib-metadata; python_version < \"3.8\" in /usr/local/lib/python3.6/dist-packages (from markdown>=2.6.8->tensorboard<2.1.0,>=2.0.0->tensorflow-gpu==2.0.0->-r requirements.txt (line 3)) (2.0.0)\n",
            "Requirement already satisfied: requests-oauthlib>=0.7.0 in /usr/local/lib/python3.6/dist-packages (from google-auth-oauthlib<0.5,>=0.4.1->tensorboard<2.1.0,>=2.0.0->tensorflow-gpu==2.0.0->-r requirements.txt (line 3)) (1.3.0)\n",
            "Requirement already satisfied: idna<3,>=2.5 in /usr/local/lib/python3.6/dist-packages (from requests<3,>=2.21.0->tensorboard<2.1.0,>=2.0.0->tensorflow-gpu==2.0.0->-r requirements.txt (line 3)) (2.10)\n",
            "Requirement already satisfied: certifi>=2017.4.17 in /usr/local/lib/python3.6/dist-packages (from requests<3,>=2.21.0->tensorboard<2.1.0,>=2.0.0->tensorflow-gpu==2.0.0->-r requirements.txt (line 3)) (2020.6.20)\n",
            "Requirement already satisfied: urllib3!=1.25.0,!=1.25.1,<1.26,>=1.21.1 in /usr/local/lib/python3.6/dist-packages (from requests<3,>=2.21.0->tensorboard<2.1.0,>=2.0.0->tensorflow-gpu==2.0.0->-r requirements.txt (line 3)) (1.24.3)\n",
            "Requirement already satisfied: chardet<4,>=3.0.2 in /usr/local/lib/python3.6/dist-packages (from requests<3,>=2.21.0->tensorboard<2.1.0,>=2.0.0->tensorflow-gpu==2.0.0->-r requirements.txt (line 3)) (3.0.4)\n",
            "Requirement already satisfied: pyasn1>=0.1.3 in /usr/local/lib/python3.6/dist-packages (from rsa<5,>=3.1.4; python_version >= \"3\"->google-auth<2,>=1.6.3->tensorboard<2.1.0,>=2.0.0->tensorflow-gpu==2.0.0->-r requirements.txt (line 3)) (0.4.8)\n",
            "Requirement already satisfied: zipp>=0.5 in /usr/local/lib/python3.6/dist-packages (from importlib-metadata; python_version < \"3.8\"->markdown>=2.6.8->tensorboard<2.1.0,>=2.0.0->tensorflow-gpu==2.0.0->-r requirements.txt (line 3)) (3.2.0)\n",
            "Requirement already satisfied: oauthlib>=3.0.0 in /usr/local/lib/python3.6/dist-packages (from requests-oauthlib>=0.7.0->google-auth-oauthlib<0.5,>=0.4.1->tensorboard<2.1.0,>=2.0.0->tensorflow-gpu==2.0.0->-r requirements.txt (line 3)) (3.1.0)\n"
          ],
          "name": "stdout"
        }
      ]
    },
    {
      "cell_type": "code",
      "metadata": {
        "id": "hmA6EzkQJ5jt"
      },
      "source": [
        "import json\n",
        "import tensorflow as tf\n",
        "import csv\n",
        "import random\n",
        "import numpy as np\n",
        "\n",
        "from tensorflow.keras.preprocessing.text import Tokenizer\n",
        "from tensorflow.keras.preprocessing.sequence import pad_sequences\n",
        "from tensorflow.keras.utils import to_categorical\n",
        "from tensorflow.keras import regularizers\n",
        "\n",
        "\n",
        "embedding_dim = 100\n",
        "max_length = 16\n",
        "trunc_type='post'\n",
        "padding_type='post'\n",
        "oov_tok = \"<OOV>\"\n",
        "training_size= 160000 #Your dataset size here. Experiment using smaller values (i.e. 16000), but don't forget to train on at least 160000 to see the best effects\n",
        "test_portion=.1\n",
        "\n",
        "corpus = []\n"
      ],
      "execution_count": null,
      "outputs": []
    },
    {
      "cell_type": "code",
      "metadata": {
        "id": "_TSy8A5w-yRF",
        "outputId": "4b2358dc-8978-42e0-97ac-2cadf3605966",
        "colab": {
          "base_uri": "https://localhost:8080/",
          "height": 202
        }
      },
      "source": [
        "!wget --no-check-certificate \\\n",
        "    https://storage.googleapis.com/laurencemoroney-blog.appspot.com/training_cleaned.csv \\\n",
        "    -O /tmp/training_cleaned.csv"
      ],
      "execution_count": null,
      "outputs": [
        {
          "output_type": "stream",
          "text": [
            "--2020-10-01 08:37:36--  https://storage.googleapis.com/laurencemoroney-blog.appspot.com/training_cleaned.csv\n",
            "Resolving storage.googleapis.com (storage.googleapis.com)... 74.125.195.128, 74.125.28.128, 74.125.142.128, ...\n",
            "Connecting to storage.googleapis.com (storage.googleapis.com)|74.125.195.128|:443... connected.\n",
            "HTTP request sent, awaiting response... 200 OK\n",
            "Length: 238942690 (228M) [application/octet-stream]\n",
            "Saving to: ‘/tmp/training_cleaned.csv’\n",
            "\n",
            "/tmp/training_clean 100%[===================>] 227.87M   192MB/s    in 1.2s    \n",
            "\n",
            "2020-10-01 08:37:38 (192 MB/s) - ‘/tmp/training_cleaned.csv’ saved [238942690/238942690]\n",
            "\n"
          ],
          "name": "stdout"
        }
      ]
    },
    {
      "cell_type": "code",
      "metadata": {
        "id": "yLLQGUnh-2VB",
        "outputId": "72b6555b-501c-45e3-cbc5-661c1d2b53c3",
        "colab": {
          "base_uri": "https://localhost:8080/",
          "height": 67
        }
      },
      "source": [
        "import pandas as pd\n",
        "pd.read_csv(\"/tmp/training_cleaned.csv\",header=None).iloc[:,0].value_counts()"
      ],
      "execution_count": null,
      "outputs": [
        {
          "output_type": "execute_result",
          "data": {
            "text/plain": [
              "4    800000\n",
              "0    800000\n",
              "Name: 0, dtype: int64"
            ]
          },
          "metadata": {
            "tags": []
          },
          "execution_count": 5
        }
      ]
    },
    {
      "cell_type": "code",
      "metadata": {
        "id": "bM0l_dORKqE0",
        "outputId": "7f2c5fa8-5e31-4a54-e741-e96d28740a05",
        "colab": {
          "base_uri": "https://localhost:8080/",
          "height": 202
        }
      },
      "source": [
        "# Note that I cleaned the Stanford dataset to remove LATIN1 encoding to make it easier for Python CSV reader\n",
        "# You can do that yourself with:\n",
        "# iconv -f LATIN1 -t UTF8 training.1600000.processed.noemoticon.csv -o training_cleaned.csv\n",
        "# I then hosted it on my site to make it easier to use in this notebook\n",
        "\n",
        "!wget --no-check-certificate \\\n",
        "    https://storage.googleapis.com/laurencemoroney-blog.appspot.com/training_cleaned.csv \\\n",
        "    -O /tmp/training_cleaned.csv\n",
        "\n",
        "num_sentences = 0\n",
        "\n",
        "with open(\"/tmp/training_cleaned.csv\") as csvfile:\n",
        "    reader = csv.reader(csvfile, delimiter=',')\n",
        "    for row in reader:\n",
        "      # Your Code here. Create list items where the first item is the text, found in row[5], and the second is the label. Note that the label is a '0' or a '4' in the text. When it's the former, make\n",
        "      # your label to be 0, otherwise 1. Keep a count of the number of sentences in num_sentences\n",
        "        list_item=[row[5],row[0]]\n",
        "        list_item[1] = 0 if list_item[1]=='0' else 1\n",
        "        # YOUR CODE HERE\n",
        "        num_sentences = num_sentences + 1\n",
        "        corpus.append(list_item)\n"
      ],
      "execution_count": null,
      "outputs": [
        {
          "output_type": "stream",
          "text": [
            "--2020-10-01 08:37:41--  https://storage.googleapis.com/laurencemoroney-blog.appspot.com/training_cleaned.csv\n",
            "Resolving storage.googleapis.com (storage.googleapis.com)... 74.125.28.128, 74.125.142.128, 74.125.20.128, ...\n",
            "Connecting to storage.googleapis.com (storage.googleapis.com)|74.125.28.128|:443... connected.\n",
            "HTTP request sent, awaiting response... 200 OK\n",
            "Length: 238942690 (228M) [application/octet-stream]\n",
            "Saving to: ‘/tmp/training_cleaned.csv’\n",
            "\n",
            "/tmp/training_clean 100%[===================>] 227.87M   220MB/s    in 1.0s    \n",
            "\n",
            "2020-10-01 08:37:42 (220 MB/s) - ‘/tmp/training_cleaned.csv’ saved [238942690/238942690]\n",
            "\n"
          ],
          "name": "stdout"
        }
      ]
    },
    {
      "cell_type": "code",
      "metadata": {
        "id": "3kxblBUjEUX-",
        "outputId": "ffddab22-7732-4ffb-83b4-b48da3a9c5d8",
        "colab": {
          "base_uri": "https://localhost:8080/",
          "height": 67
        }
      },
      "source": [
        "print(num_sentences)\n",
        "print(len(corpus))\n",
        "print(corpus[1])\n",
        "\n",
        "# Expected Output:\n",
        "# 1600000\n",
        "# 1600000\n",
        "# [\"is upset that he can't update his Facebook by texting it... and might cry as a result  School today also. Blah!\", 0]"
      ],
      "execution_count": null,
      "outputs": [
        {
          "output_type": "stream",
          "text": [
            "1600000\n",
            "1600000\n",
            "[\"is upset that he can't update his Facebook by texting it... and might cry as a result  School today also. Blah!\", 0]\n"
          ],
          "name": "stdout"
        }
      ]
    },
    {
      "cell_type": "code",
      "metadata": {
        "id": "ohOGz24lsNAD"
      },
      "source": [
        "sentences=[]\n",
        "labels=[]\n",
        "random.shuffle(corpus)\n",
        "for x in range(training_size):\n",
        "    sentences.append(corpus[x][0])\n",
        "    labels.append(corpus[x][1])\n",
        "\n",
        "\n",
        "tokenizer = Tokenizer(oov_token=oov_tok)\n",
        "tokenizer.fit_on_texts(sentences)\n",
        "\n",
        "word_index = tokenizer.word_index\n",
        "vocab_size=len(word_index)\n",
        "\n",
        "sequences = tokenizer.texts_to_sequences(sentences)\n",
        "padded = pad_sequences(sequences,maxlen=max_length,padding=padding_type,truncating=trunc_type)\n",
        "\n",
        "split = int(test_portion * training_size)\n",
        "\n",
        "test_sequences = padded[-split:]\n",
        "training_sequences = padded[:-split]\n",
        "test_labels = np.array(labels[-split:])\n",
        "training_labels = np.array(labels[:-split])"
      ],
      "execution_count": null,
      "outputs": []
    },
    {
      "cell_type": "code",
      "metadata": {
        "id": "gIrtRem1En3N",
        "outputId": "94765e36-9f13-44c6-e3c9-4ec7896295b5",
        "colab": {
          "base_uri": "https://localhost:8080/",
          "height": 50
        }
      },
      "source": [
        "print(vocab_size)\n",
        "print(word_index['i'])\n",
        "# Expected Output\n",
        "# 138858\n",
        "# 1"
      ],
      "execution_count": null,
      "outputs": [
        {
          "output_type": "stream",
          "text": [
            "26515\n",
            "2\n"
          ],
          "name": "stdout"
        }
      ]
    },
    {
      "cell_type": "code",
      "metadata": {
        "id": "C1zdgJkusRh0",
        "outputId": "ebed824f-aca9-4fa3-ad1c-31006d4c844e",
        "colab": {
          "base_uri": "https://localhost:8080/",
          "height": 202
        }
      },
      "source": [
        "# Note this is the 100 dimension version of GloVe from Stanford\n",
        "# I unzipped and hosted it on my site to make this notebook easier\n",
        "!wget --no-check-certificate \\\n",
        "    https://storage.googleapis.com/laurencemoroney-blog.appspot.com/glove.6B.100d.txt \\\n",
        "    -O /tmp/glove.6B.100d.txt\n",
        "embeddings_index = {};\n",
        "with open('/tmp/glove.6B.100d.txt') as f:\n",
        "    for line in f:\n",
        "        values = line.split();\n",
        "        word = values[0];\n",
        "        coefs = np.asarray(values[1:], dtype='float32');\n",
        "        embeddings_index[word] = coefs;\n",
        "\n",
        "embeddings_matrix = np.zeros((vocab_size+1, embedding_dim));\n",
        "for word, i in word_index.items():\n",
        "    embedding_vector = embeddings_index.get(word);\n",
        "    if embedding_vector is not None:\n",
        "        embeddings_matrix[i] = embedding_vector;"
      ],
      "execution_count": null,
      "outputs": [
        {
          "output_type": "stream",
          "text": [
            "--2020-10-01 08:37:49--  https://storage.googleapis.com/laurencemoroney-blog.appspot.com/glove.6B.100d.txt\n",
            "Resolving storage.googleapis.com (storage.googleapis.com)... 74.125.195.128, 74.125.142.128, 173.194.203.128, ...\n",
            "Connecting to storage.googleapis.com (storage.googleapis.com)|74.125.195.128|:443... connected.\n",
            "HTTP request sent, awaiting response... 200 OK\n",
            "Length: 347116733 (331M) [text/plain]\n",
            "Saving to: ‘/tmp/glove.6B.100d.txt’\n",
            "\n",
            "/tmp/glove.6B.100d. 100%[===================>] 331.04M   131MB/s    in 2.5s    \n",
            "\n",
            "2020-10-01 08:37:51 (131 MB/s) - ‘/tmp/glove.6B.100d.txt’ saved [347116733/347116733]\n",
            "\n"
          ],
          "name": "stdout"
        }
      ]
    },
    {
      "cell_type": "code",
      "metadata": {
        "id": "71NLk_lpFLNt",
        "outputId": "eadc1b6d-6055-47cc-e3a6-c1c74801427d",
        "colab": {
          "base_uri": "https://localhost:8080/",
          "height": 34
        }
      },
      "source": [
        "print(len(embeddings_matrix))\n",
        "# Expected Output\n",
        "# 138859"
      ],
      "execution_count": null,
      "outputs": [
        {
          "output_type": "stream",
          "text": [
            "26516\n"
          ],
          "name": "stdout"
        }
      ]
    },
    {
      "cell_type": "code",
      "metadata": {
        "id": "iKKvbuEBOGFz",
        "outputId": "786feb12-cc49-4384-de3c-6feae39ef664",
        "colab": {
          "base_uri": "https://localhost:8080/",
          "height": 1000
        }
      },
      "source": [
        "model = tf.keras.Sequential([\n",
        "    tf.keras.layers.Embedding(vocab_size+1, embedding_dim, input_length=max_length, weights=[embeddings_matrix], trainable=False),\n",
        "    #tf.keras.layers.Conv1D(64,5,activation='relu',kernel_regularizer=regularizers.l1_l2(l1=0)),\n",
        "    tf.keras.layers.Bidirectional(tf.keras.layers.LSTM(64,return_sequences=True,kernel_regularizer=regularizers.l1_l2(l1=0))),\n",
        "    tf.keras.layers.BatchNormalization(),\n",
        "    tf.keras.layers.Bidirectional(tf.keras.layers.LSTM(64,return_sequences=False,kernel_regularizer=regularizers.l1_l2(l1=0))),\n",
        "    tf.keras.layers.BatchNormalization(),\n",
        "    tf.keras.layers.Dense(64,activation='relu',kernel_regularizer=regularizers.l1_l2(l1=0)),\n",
        "    tf.keras.layers.BatchNormalization(),\n",
        "    tf.keras.layers.Dense(1,activation='sigmoid')\n",
        "    # YOUR CODE HERE - experiment with combining different types, such as convolutions and LSTMs\n",
        "])\n",
        "model.compile(optimizer='adam',loss='binary_crossentropy',metrics=['accuracy'])\n",
        "model.summary()\n",
        "\n",
        "num_epochs = 50\n",
        "history = model.fit(training_sequences, training_labels, epochs=num_epochs, validation_data=(test_sequences, test_labels), verbose=2)\n",
        "\n",
        "print(\"Training Complete\")\n"
      ],
      "execution_count": 12,
      "outputs": [
        {
          "output_type": "stream",
          "text": [
            "Model: \"sequential\"\n",
            "_________________________________________________________________\n",
            "Layer (type)                 Output Shape              Param #   \n",
            "=================================================================\n",
            "embedding (Embedding)        (None, 16, 100)           13871900  \n",
            "_________________________________________________________________\n",
            "bidirectional (Bidirectional (None, 16, 128)           84480     \n",
            "_________________________________________________________________\n",
            "batch_normalization (BatchNo (None, 16, 128)           512       \n",
            "_________________________________________________________________\n",
            "bidirectional_1 (Bidirection (None, 128)               98816     \n",
            "_________________________________________________________________\n",
            "batch_normalization_1 (Batch (None, 128)               512       \n",
            "_________________________________________________________________\n",
            "dense (Dense)                (None, 64)                8256      \n",
            "_________________________________________________________________\n",
            "batch_normalization_2 (Batch (None, 64)                256       \n",
            "_________________________________________________________________\n",
            "dense_1 (Dense)              (None, 1)                 65        \n",
            "=================================================================\n",
            "Total params: 14,064,797\n",
            "Trainable params: 192,257\n",
            "Non-trainable params: 13,872,540\n",
            "_________________________________________________________________\n",
            "Train on 144000 samples, validate on 16000 samples\n",
            "Epoch 1/50\n",
            "144000/144000 - 153s - loss: 0.8569 - accuracy: 0.6929 - val_loss: 0.6836 - val_accuracy: 0.6381\n",
            "Epoch 2/50\n",
            "144000/144000 - 146s - loss: 0.5769 - accuracy: 0.7123 - val_loss: 0.6483 - val_accuracy: 0.6366\n",
            "Epoch 3/50\n",
            "144000/144000 - 143s - loss: 0.5690 - accuracy: 0.7156 - val_loss: 0.5662 - val_accuracy: 0.7153\n",
            "Epoch 4/50\n",
            "144000/144000 - 143s - loss: 0.5652 - accuracy: 0.7185 - val_loss: 0.5720 - val_accuracy: 0.6987\n",
            "Epoch 5/50\n",
            "144000/144000 - 143s - loss: 0.5638 - accuracy: 0.7193 - val_loss: 0.5650 - val_accuracy: 0.7185\n",
            "Epoch 6/50\n",
            "144000/144000 - 141s - loss: 0.5621 - accuracy: 0.7203 - val_loss: 0.5579 - val_accuracy: 0.7226\n",
            "Epoch 7/50\n",
            "144000/144000 - 141s - loss: 0.5618 - accuracy: 0.7221 - val_loss: 0.5625 - val_accuracy: 0.7195\n",
            "Epoch 8/50\n",
            "144000/144000 - 140s - loss: 0.5603 - accuracy: 0.7222 - val_loss: 0.5894 - val_accuracy: 0.6920\n",
            "Epoch 9/50\n",
            "144000/144000 - 141s - loss: 0.5599 - accuracy: 0.7229 - val_loss: 0.5553 - val_accuracy: 0.7233\n",
            "Epoch 10/50\n",
            "144000/144000 - 139s - loss: 0.5591 - accuracy: 0.7239 - val_loss: 0.5572 - val_accuracy: 0.7236\n",
            "Epoch 11/50\n",
            "144000/144000 - 142s - loss: 0.5598 - accuracy: 0.7233 - val_loss: 0.6189 - val_accuracy: 0.6817\n",
            "Epoch 12/50\n",
            "144000/144000 - 141s - loss: 0.5584 - accuracy: 0.7242 - val_loss: 0.5559 - val_accuracy: 0.7236\n",
            "Epoch 13/50\n",
            "144000/144000 - 143s - loss: 0.5580 - accuracy: 0.7250 - val_loss: 0.5580 - val_accuracy: 0.7216\n",
            "Epoch 14/50\n",
            "144000/144000 - 147s - loss: 0.5581 - accuracy: 0.7260 - val_loss: 0.5682 - val_accuracy: 0.7129\n",
            "Epoch 15/50\n",
            "144000/144000 - 147s - loss: 0.5575 - accuracy: 0.7256 - val_loss: 0.5509 - val_accuracy: 0.7289\n",
            "Epoch 16/50\n",
            "144000/144000 - 146s - loss: 0.5573 - accuracy: 0.7252 - val_loss: 0.7256 - val_accuracy: 0.6299\n",
            "Epoch 17/50\n",
            "144000/144000 - 145s - loss: 0.5576 - accuracy: 0.7259 - val_loss: 0.5640 - val_accuracy: 0.7176\n",
            "Epoch 18/50\n",
            "144000/144000 - 144s - loss: 0.5560 - accuracy: 0.7274 - val_loss: 0.5788 - val_accuracy: 0.7051\n",
            "Epoch 19/50\n",
            "144000/144000 - 146s - loss: 0.5559 - accuracy: 0.7275 - val_loss: 0.5548 - val_accuracy: 0.7298\n",
            "Epoch 20/50\n",
            "144000/144000 - 149s - loss: 0.5561 - accuracy: 0.7266 - val_loss: 0.5963 - val_accuracy: 0.6862\n",
            "Epoch 21/50\n",
            "144000/144000 - 150s - loss: 0.5562 - accuracy: 0.7270 - val_loss: 0.6040 - val_accuracy: 0.6858\n",
            "Epoch 22/50\n",
            "144000/144000 - 147s - loss: 0.5565 - accuracy: 0.7272 - val_loss: 0.5704 - val_accuracy: 0.7128\n",
            "Epoch 23/50\n",
            "144000/144000 - 148s - loss: 0.5560 - accuracy: 0.7281 - val_loss: 0.5667 - val_accuracy: 0.7179\n",
            "Epoch 24/50\n",
            "144000/144000 - 149s - loss: 0.5556 - accuracy: 0.7284 - val_loss: 0.5964 - val_accuracy: 0.6959\n",
            "Epoch 25/50\n",
            "144000/144000 - 148s - loss: 0.5553 - accuracy: 0.7279 - val_loss: 0.5581 - val_accuracy: 0.7297\n",
            "Epoch 26/50\n",
            "144000/144000 - 146s - loss: 0.5551 - accuracy: 0.7297 - val_loss: 0.5530 - val_accuracy: 0.7301\n",
            "Epoch 27/50\n",
            "144000/144000 - 148s - loss: 0.5549 - accuracy: 0.7306 - val_loss: 0.5601 - val_accuracy: 0.7269\n",
            "Epoch 28/50\n",
            "144000/144000 - 149s - loss: 0.5546 - accuracy: 0.7287 - val_loss: 0.5658 - val_accuracy: 0.7237\n",
            "Epoch 29/50\n",
            "144000/144000 - 149s - loss: 0.5536 - accuracy: 0.7308 - val_loss: 0.5572 - val_accuracy: 0.7277\n",
            "Epoch 30/50\n",
            "144000/144000 - 149s - loss: 0.5535 - accuracy: 0.7298 - val_loss: 0.5499 - val_accuracy: 0.7308\n",
            "Epoch 31/50\n",
            "144000/144000 - 150s - loss: 0.5538 - accuracy: 0.7297 - val_loss: 0.5747 - val_accuracy: 0.7090\n",
            "Epoch 32/50\n",
            "144000/144000 - 147s - loss: 0.5535 - accuracy: 0.7295 - val_loss: 0.5571 - val_accuracy: 0.7261\n",
            "Epoch 33/50\n",
            "144000/144000 - 143s - loss: 0.5533 - accuracy: 0.7302 - val_loss: 0.5801 - val_accuracy: 0.7020\n",
            "Epoch 34/50\n",
            "144000/144000 - 144s - loss: 0.5532 - accuracy: 0.7304 - val_loss: 0.5516 - val_accuracy: 0.7303\n",
            "Epoch 35/50\n",
            "144000/144000 - 148s - loss: 0.5529 - accuracy: 0.7308 - val_loss: 0.5676 - val_accuracy: 0.7179\n",
            "Epoch 36/50\n",
            "144000/144000 - 149s - loss: 0.5526 - accuracy: 0.7309 - val_loss: 0.5887 - val_accuracy: 0.6966\n",
            "Epoch 37/50\n",
            "144000/144000 - 150s - loss: 0.5524 - accuracy: 0.7311 - val_loss: 0.5913 - val_accuracy: 0.7044\n",
            "Epoch 38/50\n",
            "144000/144000 - 147s - loss: 0.5518 - accuracy: 0.7308 - val_loss: 0.5543 - val_accuracy: 0.7322\n",
            "Epoch 39/50\n",
            "144000/144000 - 142s - loss: 0.5524 - accuracy: 0.7314 - val_loss: 0.5646 - val_accuracy: 0.7275\n",
            "Epoch 40/50\n",
            "144000/144000 - 142s - loss: 0.5517 - accuracy: 0.7328 - val_loss: 0.5526 - val_accuracy: 0.7366\n",
            "Epoch 41/50\n",
            "144000/144000 - 146s - loss: 0.5514 - accuracy: 0.7324 - val_loss: 0.5911 - val_accuracy: 0.7031\n",
            "Epoch 42/50\n",
            "144000/144000 - 142s - loss: 0.5510 - accuracy: 0.7323 - val_loss: 0.5628 - val_accuracy: 0.7235\n",
            "Epoch 43/50\n",
            "144000/144000 - 141s - loss: 0.5508 - accuracy: 0.7329 - val_loss: 0.5567 - val_accuracy: 0.7296\n",
            "Epoch 44/50\n",
            "144000/144000 - 140s - loss: 0.5499 - accuracy: 0.7332 - val_loss: 0.5559 - val_accuracy: 0.7291\n",
            "Epoch 45/50\n",
            "144000/144000 - 139s - loss: 0.5502 - accuracy: 0.7333 - val_loss: 0.5642 - val_accuracy: 0.7176\n",
            "Epoch 46/50\n",
            "144000/144000 - 141s - loss: 0.5493 - accuracy: 0.7339 - val_loss: 0.5565 - val_accuracy: 0.7310\n",
            "Epoch 47/50\n",
            "144000/144000 - 141s - loss: 0.5493 - accuracy: 0.7335 - val_loss: 0.5937 - val_accuracy: 0.6852\n",
            "Epoch 48/50\n",
            "144000/144000 - 141s - loss: 0.5501 - accuracy: 0.7339 - val_loss: 0.5607 - val_accuracy: 0.7289\n",
            "Epoch 49/50\n",
            "144000/144000 - 140s - loss: 0.5496 - accuracy: 0.7342 - val_loss: 0.5518 - val_accuracy: 0.7304\n",
            "Epoch 50/50\n",
            "144000/144000 - 140s - loss: 0.5485 - accuracy: 0.7342 - val_loss: 0.5490 - val_accuracy: 0.7363\n",
            "Training Complete\n"
          ],
          "name": "stdout"
        }
      ]
    },
    {
      "cell_type": "code",
      "metadata": {
        "id": "qxju4ItJKO8F",
        "outputId": "4cb4407e-7629-4845-a277-4e6f243a57a0",
        "colab": {
          "base_uri": "https://localhost:8080/",
          "height": 606
        }
      },
      "source": [
        "import matplotlib.image  as mpimg\n",
        "import matplotlib.pyplot as plt\n",
        "\n",
        "#-----------------------------------------------------------\n",
        "# Retrieve a list of list results on training and test data\n",
        "# sets for each training epoch\n",
        "#-----------------------------------------------------------\n",
        "acc=history.history['accuracy']\n",
        "val_acc=history.history['val_accuracy']\n",
        "loss=history.history['loss']\n",
        "val_loss=history.history['val_loss']\n",
        "\n",
        "epochs=range(len(acc)) # Get number of epochs\n",
        "\n",
        "#------------------------------------------------\n",
        "# Plot training and validation accuracy per epoch\n",
        "#------------------------------------------------\n",
        "plt.plot(epochs, acc, 'r')\n",
        "plt.plot(epochs, val_acc, 'b')\n",
        "plt.title('Training and validation accuracy')\n",
        "plt.xlabel(\"Epochs\")\n",
        "plt.ylabel(\"Accuracy\")\n",
        "plt.legend([\"Accuracy\", \"Validation Accuracy\"])\n",
        "\n",
        "plt.figure()\n",
        "\n",
        "#------------------------------------------------\n",
        "# Plot training and validation loss per epoch\n",
        "#------------------------------------------------\n",
        "plt.plot(epochs, loss, 'r')\n",
        "plt.plot(epochs, val_loss, 'b')\n",
        "plt.title('Training and validation loss')\n",
        "plt.xlabel(\"Epochs\")\n",
        "plt.ylabel(\"Loss\")\n",
        "plt.legend([\"Loss\", \"Validation Loss\"])\n",
        "\n",
        "plt.figure()\n",
        "\n",
        "\n",
        "# Expected Output\n",
        "# A chart where the validation loss does not increase sharply!"
      ],
      "execution_count": 13,
      "outputs": [
        {
          "output_type": "execute_result",
          "data": {
            "text/plain": [
              "<Figure size 432x288 with 0 Axes>"
            ]
          },
          "metadata": {
            "tags": []
          },
          "execution_count": 13
        },
        {
          "output_type": "display_data",
          "data": {
            "image/png": "[encoded data removed]",
            "text/plain": [
              "<Figure size 432x288 with 1 Axes>"
            ]
          },
          "metadata": {
            "tags": [],
            "needs_background": "light"
          }
        },
        {
          "output_type": "display_data",
          "data": {
            "image/png": "[encoded data removed]",
            "text/plain": [
              "<Figure size 432x288 with 1 Axes>"
            ]
          },
          "metadata": {
            "tags": [],
            "needs_background": "light"
          }
        },
        {
          "output_type": "display_data",
          "data": {
            "text/plain": [
              "<Figure size 432x288 with 0 Axes>"
            ]
          },
          "metadata": {
            "tags": []
          }
        }
      ]
    },
    {
      "cell_type": "code",
      "metadata": {
        "id": "TtDzrWXO6W7E"
      },
      "source": [
        "# extractor = keras.Model(inputs=model.inputs,\n",
        "#                         outputs=[layer.output for layer in model.layers])\n",
        "# features = extractor(data)"
      ],
      "execution_count": null,
      "outputs": []
    },
    {
      "cell_type": "code",
      "metadata": {
        "id": "OQTXZXdt6d55",
        "outputId": "70f924b4-a709-4ae4-b1f9-e9c7682be835",
        "colab": {
          "base_uri": "https://localhost:8080/",
          "height": 1000
        }
      },
      "source": [
        "model = tf.keras.Sequential([\n",
        "    tf.keras.layers.Embedding(vocab_size+1, embedding_dim, input_length=max_length, weights=[embeddings_matrix], trainable=False),\n",
        "    #tf.keras.layers.Conv1D(64,5,activation='relu',kernel_regularizer=regularizers.l1_l2(l1=0)),\n",
        "    tf.keras.layers.Bidirectional(tf.keras.layers.LSTM(64,return_sequences=True,kernel_regularizer=regularizers.l1_l2(l1=0,l2=0.001))),\n",
        "    tf.keras.layers.BatchNormalization(),\n",
        "    tf.keras.layers.Bidirectional(tf.keras.layers.LSTM(64,return_sequences=False,kernel_regularizer=regularizers.l1_l2(l1=0,l2=0.001))),\n",
        "    tf.keras.layers.BatchNormalization(),\n",
        "    tf.keras.layers.Dense(64,activation='relu',kernel_regularizer=regularizers.l1_l2(l1=0,l2=0.001)),\n",
        "    tf.keras.layers.BatchNormalization(),\n",
        "    tf.keras.layers.Dense(1,activation='sigmoid')\n",
        "    # YOUR CODE HERE - experiment with combining different types, such as convolutions and LSTMs\n",
        "])\n",
        "model.compile(optimizer='adam',loss='binary_crossentropy',metrics=['accuracy'])\n",
        "model.summary()\n",
        "\n",
        "num_epochs = 50\n",
        "history = model.fit(training_sequences, training_labels, epochs=num_epochs, validation_data=(test_sequences, test_labels), verbose=2)\n",
        "\n",
        "print(\"Training Complete\")\n"
      ],
      "execution_count": 15,
      "outputs": [
        {
          "output_type": "stream",
          "text": [
            "Model: \"sequential_1\"\n",
            "_________________________________________________________________\n",
            "Layer (type)                 Output Shape              Param #   \n",
            "=================================================================\n",
            "embedding_1 (Embedding)      (None, 16, 100)           13871900  \n",
            "_________________________________________________________________\n",
            "bidirectional_2 (Bidirection (None, 16, 128)           84480     \n",
            "_________________________________________________________________\n",
            "batch_normalization_3 (Batch (None, 16, 128)           512       \n",
            "_________________________________________________________________\n",
            "bidirectional_3 (Bidirection (None, 128)               98816     \n",
            "_________________________________________________________________\n",
            "batch_normalization_4 (Batch (None, 128)               512       \n",
            "_________________________________________________________________\n",
            "dense_2 (Dense)              (None, 64)                8256      \n",
            "_________________________________________________________________\n",
            "batch_normalization_5 (Batch (None, 64)                256       \n",
            "_________________________________________________________________\n",
            "dense_3 (Dense)              (None, 1)                 65        \n",
            "=================================================================\n",
            "Total params: 14,064,797\n",
            "Trainable params: 192,257\n",
            "Non-trainable params: 13,872,540\n",
            "_________________________________________________________________\n",
            "Train on 144000 samples, validate on 16000 samples\n",
            "Epoch 1/50\n",
            "144000/144000 - 146s - loss: 0.7168 - accuracy: 0.7095 - val_loss: 0.6205 - val_accuracy: 0.6781\n",
            "Epoch 2/50\n",
            "144000/144000 - 140s - loss: 0.5557 - accuracy: 0.7391 - val_loss: 0.5392 - val_accuracy: 0.7497\n",
            "Epoch 3/50\n",
            "144000/144000 - 139s - loss: 0.5386 - accuracy: 0.7483 - val_loss: 0.5320 - val_accuracy: 0.7527\n",
            "Epoch 4/50\n",
            "144000/144000 - 139s - loss: 0.5268 - accuracy: 0.7535 - val_loss: 0.5592 - val_accuracy: 0.7411\n",
            "Epoch 5/50\n",
            "144000/144000 - 139s - loss: 0.5218 - accuracy: 0.7568 - val_loss: 0.5267 - val_accuracy: 0.7563\n",
            "Epoch 6/50\n",
            "144000/144000 - 138s - loss: 0.5173 - accuracy: 0.7597 - val_loss: 0.5256 - val_accuracy: 0.7558\n",
            "Epoch 7/50\n",
            "144000/144000 - 139s - loss: 0.5146 - accuracy: 0.7618 - val_loss: 0.5325 - val_accuracy: 0.7494\n",
            "Epoch 8/50\n",
            "144000/144000 - 139s - loss: 0.5127 - accuracy: 0.7627 - val_loss: 0.5268 - val_accuracy: 0.7591\n",
            "Epoch 9/50\n",
            "144000/144000 - 139s - loss: 0.5120 - accuracy: 0.7641 - val_loss: 0.5116 - val_accuracy: 0.7645\n",
            "Epoch 10/50\n",
            "144000/144000 - 139s - loss: 0.5105 - accuracy: 0.7641 - val_loss: 0.5220 - val_accuracy: 0.7529\n",
            "Epoch 11/50\n",
            "144000/144000 - 139s - loss: 0.5085 - accuracy: 0.7658 - val_loss: 0.5150 - val_accuracy: 0.7619\n",
            "Epoch 12/50\n",
            "144000/144000 - 140s - loss: 0.5081 - accuracy: 0.7664 - val_loss: 0.5175 - val_accuracy: 0.7594\n",
            "Epoch 13/50\n",
            "144000/144000 - 141s - loss: 0.5069 - accuracy: 0.7675 - val_loss: 0.5296 - val_accuracy: 0.7515\n",
            "Epoch 14/50\n",
            "144000/144000 - 139s - loss: 0.5058 - accuracy: 0.7678 - val_loss: 0.5086 - val_accuracy: 0.7650\n",
            "Epoch 15/50\n",
            "144000/144000 - 139s - loss: 0.5059 - accuracy: 0.7677 - val_loss: 0.5189 - val_accuracy: 0.7585\n",
            "Epoch 16/50\n",
            "144000/144000 - 139s - loss: 0.5048 - accuracy: 0.7690 - val_loss: 0.5079 - val_accuracy: 0.7661\n",
            "Epoch 17/50\n",
            "144000/144000 - 139s - loss: 0.5032 - accuracy: 0.7705 - val_loss: 0.5294 - val_accuracy: 0.7495\n",
            "Epoch 18/50\n",
            "144000/144000 - 140s - loss: 0.5028 - accuracy: 0.7705 - val_loss: 0.5221 - val_accuracy: 0.7539\n",
            "Epoch 19/50\n",
            "144000/144000 - 139s - loss: 0.5025 - accuracy: 0.7710 - val_loss: 0.5095 - val_accuracy: 0.7654\n",
            "Epoch 20/50\n",
            "144000/144000 - 144s - loss: 0.5010 - accuracy: 0.7721 - val_loss: 0.5236 - val_accuracy: 0.7562\n",
            "Epoch 21/50\n",
            "144000/144000 - 142s - loss: 0.5010 - accuracy: 0.7735 - val_loss: 0.5104 - val_accuracy: 0.7637\n",
            "Epoch 22/50\n",
            "144000/144000 - 141s - loss: 0.5006 - accuracy: 0.7726 - val_loss: 0.5167 - val_accuracy: 0.7582\n",
            "Epoch 23/50\n",
            "144000/144000 - 141s - loss: 0.4997 - accuracy: 0.7734 - val_loss: 0.5119 - val_accuracy: 0.7636\n",
            "Epoch 24/50\n",
            "144000/144000 - 141s - loss: 0.4993 - accuracy: 0.7755 - val_loss: 0.5376 - val_accuracy: 0.7426\n",
            "Epoch 25/50\n",
            "144000/144000 - 141s - loss: 0.4990 - accuracy: 0.7743 - val_loss: 0.5135 - val_accuracy: 0.7666\n",
            "Epoch 26/50\n",
            "144000/144000 - 141s - loss: 0.4979 - accuracy: 0.7756 - val_loss: 0.5127 - val_accuracy: 0.7676\n",
            "Epoch 27/50\n",
            "144000/144000 - 142s - loss: 0.4972 - accuracy: 0.7765 - val_loss: 0.5399 - val_accuracy: 0.7496\n",
            "Epoch 28/50\n",
            "144000/144000 - 141s - loss: 0.4963 - accuracy: 0.7776 - val_loss: 0.5266 - val_accuracy: 0.7629\n",
            "Epoch 29/50\n",
            "144000/144000 - 142s - loss: 0.4955 - accuracy: 0.7780 - val_loss: 0.5123 - val_accuracy: 0.7645\n",
            "Epoch 30/50\n",
            "144000/144000 - 141s - loss: 0.4953 - accuracy: 0.7790 - val_loss: 0.5248 - val_accuracy: 0.7614\n",
            "Epoch 31/50\n",
            "144000/144000 - 141s - loss: 0.4941 - accuracy: 0.7787 - val_loss: 0.5119 - val_accuracy: 0.7663\n",
            "Epoch 32/50\n",
            "144000/144000 - 141s - loss: 0.4945 - accuracy: 0.7790 - val_loss: 0.5273 - val_accuracy: 0.7586\n",
            "Epoch 33/50\n",
            "144000/144000 - 141s - loss: 0.4937 - accuracy: 0.7789 - val_loss: 0.5121 - val_accuracy: 0.7654\n",
            "Epoch 34/50\n",
            "144000/144000 - 140s - loss: 0.4920 - accuracy: 0.7805 - val_loss: 0.5160 - val_accuracy: 0.7673\n",
            "Epoch 35/50\n",
            "144000/144000 - 141s - loss: 0.4920 - accuracy: 0.7805 - val_loss: 0.5234 - val_accuracy: 0.7629\n",
            "Epoch 36/50\n",
            "144000/144000 - 141s - loss: 0.4916 - accuracy: 0.7820 - val_loss: 0.5179 - val_accuracy: 0.7651\n",
            "Epoch 37/50\n",
            "144000/144000 - 141s - loss: 0.4913 - accuracy: 0.7817 - val_loss: 0.5321 - val_accuracy: 0.7546\n",
            "Epoch 38/50\n",
            "144000/144000 - 141s - loss: 0.4899 - accuracy: 0.7823 - val_loss: 0.5266 - val_accuracy: 0.7589\n",
            "Epoch 39/50\n",
            "144000/144000 - 141s - loss: 0.4901 - accuracy: 0.7850 - val_loss: 0.5380 - val_accuracy: 0.7553\n",
            "Epoch 40/50\n",
            "144000/144000 - 141s - loss: 0.4892 - accuracy: 0.7852 - val_loss: 0.5353 - val_accuracy: 0.7608\n",
            "Epoch 41/50\n",
            "144000/144000 - 141s - loss: 0.4892 - accuracy: 0.7840 - val_loss: 0.5286 - val_accuracy: 0.7568\n",
            "Epoch 42/50\n",
            "144000/144000 - 141s - loss: 0.4891 - accuracy: 0.7853 - val_loss: 0.5528 - val_accuracy: 0.7441\n",
            "Epoch 43/50\n",
            "144000/144000 - 142s - loss: 0.4881 - accuracy: 0.7846 - val_loss: 0.5254 - val_accuracy: 0.7619\n",
            "Epoch 44/50\n",
            "144000/144000 - 143s - loss: 0.4886 - accuracy: 0.7851 - val_loss: 0.5322 - val_accuracy: 0.7583\n",
            "Epoch 45/50\n",
            "144000/144000 - 142s - loss: 0.4871 - accuracy: 0.7864 - val_loss: 0.5353 - val_accuracy: 0.7564\n",
            "Epoch 46/50\n",
            "144000/144000 - 146s - loss: 0.4865 - accuracy: 0.7871 - val_loss: 0.5265 - val_accuracy: 0.7621\n",
            "Epoch 47/50\n",
            "144000/144000 - 144s - loss: 0.4869 - accuracy: 0.7870 - val_loss: 0.5300 - val_accuracy: 0.7564\n",
            "Epoch 48/50\n",
            "144000/144000 - 145s - loss: 0.4862 - accuracy: 0.7876 - val_loss: 0.5296 - val_accuracy: 0.7645\n",
            "Epoch 49/50\n",
            "144000/144000 - 145s - loss: 0.4870 - accuracy: 0.7882 - val_loss: 0.5370 - val_accuracy: 0.7597\n",
            "Epoch 50/50\n",
            "144000/144000 - 144s - loss: 0.4858 - accuracy: 0.7891 - val_loss: 0.5347 - val_accuracy: 0.7577\n",
            "Training Complete\n"
          ],
          "name": "stdout"
        }
      ]
    },
    {
      "cell_type": "code",
      "metadata": {
        "id": "lQS_ayXl6fKX",
        "outputId": "a7af1325-39a7-48a6-ca02-599b7e71c877",
        "colab": {
          "base_uri": "https://localhost:8080/",
          "height": 606
        }
      },
      "source": [
        "import matplotlib.image  as mpimg\n",
        "import matplotlib.pyplot as plt\n",
        "\n",
        "#-----------------------------------------------------------\n",
        "# Retrieve a list of list results on training and test data\n",
        "# sets for each training epoch\n",
        "#-----------------------------------------------------------\n",
        "acc=history.history['accuracy']\n",
        "val_acc=history.history['val_accuracy']\n",
        "loss=history.history['loss']\n",
        "val_loss=history.history['val_loss']\n",
        "\n",
        "epochs=range(len(acc)) # Get number of epochs\n",
        "\n",
        "#------------------------------------------------\n",
        "# Plot training and validation accuracy per epoch\n",
        "#------------------------------------------------\n",
        "plt.plot(epochs, acc, 'r')\n",
        "plt.plot(epochs, val_acc, 'b')\n",
        "plt.title('Training and validation accuracy')\n",
        "plt.xlabel(\"Epochs\")\n",
        "plt.ylabel(\"Accuracy\")\n",
        "plt.legend([\"Accuracy\", \"Validation Accuracy\"])\n",
        "\n",
        "plt.figure()\n",
        "\n",
        "#------------------------------------------------\n",
        "# Plot training and validation loss per epoch\n",
        "#------------------------------------------------\n",
        "plt.plot(epochs, loss, 'r')\n",
        "plt.plot(epochs, val_loss, 'b')\n",
        "plt.title('Training and validation loss')\n",
        "plt.xlabel(\"Epochs\")\n",
        "plt.ylabel(\"Loss\")\n",
        "plt.legend([\"Loss\", \"Validation Loss\"])\n",
        "\n",
        "plt.figure()\n",
        "\n",
        "\n",
        "# Expected Output\n",
        "# A chart where the validation loss does not increase sharply!"
      ],
      "execution_count": 16,
      "outputs": [
        {
          "output_type": "execute_result",
          "data": {
            "text/plain": [
              "<Figure size 432x288 with 0 Axes>"
            ]
          },
          "metadata": {
            "tags": []
          },
          "execution_count": 16
        },
        {
          "output_type": "display_data",
          "data": {
            "image/png": "[encoded data removed]",
            "text/plain": [
              "<Figure size 432x288 with 1 Axes>"
            ]
          },
          "metadata": {
            "tags": [],
            "needs_background": "light"
          }
        },
        {
          "output_type": "display_data",
          "data": {
            "image/png": "[encoded data removed]",
            "text/plain": [
              "<Figure size 432x288 with 1 Axes>"
            ]
          },
          "metadata": {
            "tags": [],
            "needs_background": "light"
          }
        },
        {
          "output_type": "display_data",
          "data": {
            "text/plain": [
              "<Figure size 432x288 with 0 Axes>"
            ]
          },
          "metadata": {
            "tags": []
          }
        }
      ]
    },
    {
      "cell_type": "code",
      "metadata": {
        "id": "X-iXJoSz6zIL"
      },
      "source": [
        ""
      ],
      "execution_count": null,
      "outputs": []
    }
  ]
}