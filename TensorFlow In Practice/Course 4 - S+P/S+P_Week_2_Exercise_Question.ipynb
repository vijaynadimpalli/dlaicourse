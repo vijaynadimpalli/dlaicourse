{
  "nbformat": 4,
  "nbformat_minor": 0,
  "metadata": {
    "colab": {
      "name": "S+P_Week_2_Exercise_Question.ipynb",
      "provenance": [],
      "toc_visible": true
    },
    "kernelspec": {
      "display_name": "Python 3",
      "name": "python3"
    },
    "accelerator": "GPU"
  },
  "cells": [
    {
      "cell_type": "code",
      "metadata": {
        "id": "zX4Kg8DUTKWO"
      },
      "source": [
        "#@title Licensed under the Apache License, Version 2.0 (the \"License\");\n",
        "# you may not use this file except in compliance with the License.\n",
        "# You may obtain a copy of the License at\n",
        "#\n",
        "# https://www.apache.org/licenses/LICENSE-2.0\n",
        "#\n",
        "# Unless required by applicable law or agreed to in writing, software\n",
        "# distributed under the License is distributed on an \"AS IS\" BASIS,\n",
        "# WITHOUT WARRANTIES OR CONDITIONS OF ANY KIND, either express or implied.\n",
        "# See the License for the specific language governing permissions and\n",
        "# limitations under the License."
      ],
      "execution_count": 1,
      "outputs": []
    },
    {
      "cell_type": "code",
      "metadata": {
        "cellView": "both",
        "id": "D1J15Vh_1Jih",
        "outputId": "04f61201-3a14-4d04-bdd8-3bc76985c16d",
        "colab": {
          "base_uri": "https://localhost:8080/",
          "height": 642
        }
      },
      "source": [
        "!pip install tensorflow-gpu==2.0.0"
      ],
      "execution_count": 2,
      "outputs": [
        {
          "output_type": "stream",
          "text": [
            "Requirement already satisfied: tensorflow-gpu==2.0.0 in /usr/local/lib/python3.6/dist-packages (2.0.0)\n",
            "Requirement already satisfied: google-pasta>=0.1.6 in /usr/local/lib/python3.6/dist-packages (from tensorflow-gpu==2.0.0) (0.2.0)\n",
            "Requirement already satisfied: protobuf>=3.6.1 in /usr/local/lib/python3.6/dist-packages (from tensorflow-gpu==2.0.0) (3.12.4)\n",
            "Requirement already satisfied: termcolor>=1.1.0 in /usr/local/lib/python3.6/dist-packages (from tensorflow-gpu==2.0.0) (1.1.0)\n",
            "Requirement already satisfied: keras-applications>=1.0.8 in /usr/local/lib/python3.6/dist-packages (from tensorflow-gpu==2.0.0) (1.0.8)\n",
            "Requirement already satisfied: numpy<2.0,>=1.16.0 in /usr/local/lib/python3.6/dist-packages (from tensorflow-gpu==2.0.0) (1.18.5)\n",
            "Requirement already satisfied: tensorboard<2.1.0,>=2.0.0 in /usr/local/lib/python3.6/dist-packages (from tensorflow-gpu==2.0.0) (2.0.2)\n",
            "Requirement already satisfied: keras-preprocessing>=1.0.5 in /usr/local/lib/python3.6/dist-packages (from tensorflow-gpu==2.0.0) (1.1.2)\n",
            "Requirement already satisfied: six>=1.10.0 in /usr/local/lib/python3.6/dist-packages (from tensorflow-gpu==2.0.0) (1.15.0)\n",
            "Requirement already satisfied: wrapt>=1.11.1 in /usr/local/lib/python3.6/dist-packages (from tensorflow-gpu==2.0.0) (1.12.1)\n",
            "Requirement already satisfied: wheel>=0.26 in /usr/local/lib/python3.6/dist-packages (from tensorflow-gpu==2.0.0) (0.35.1)\n",
            "Requirement already satisfied: grpcio>=1.8.6 in /usr/local/lib/python3.6/dist-packages (from tensorflow-gpu==2.0.0) (1.32.0)\n",
            "Requirement already satisfied: gast==0.2.2 in /usr/local/lib/python3.6/dist-packages (from tensorflow-gpu==2.0.0) (0.2.2)\n",
            "Requirement already satisfied: tensorflow-estimator<2.1.0,>=2.0.0 in /usr/local/lib/python3.6/dist-packages (from tensorflow-gpu==2.0.0) (2.0.1)\n",
            "Requirement already satisfied: absl-py>=0.7.0 in /usr/local/lib/python3.6/dist-packages (from tensorflow-gpu==2.0.0) (0.10.0)\n",
            "Requirement already satisfied: opt-einsum>=2.3.2 in /usr/local/lib/python3.6/dist-packages (from tensorflow-gpu==2.0.0) (3.3.0)\n",
            "Requirement already satisfied: astor>=0.6.0 in /usr/local/lib/python3.6/dist-packages (from tensorflow-gpu==2.0.0) (0.8.1)\n",
            "Requirement already satisfied: setuptools in /usr/local/lib/python3.6/dist-packages (from protobuf>=3.6.1->tensorflow-gpu==2.0.0) (50.3.0)\n",
            "Requirement already satisfied: h5py in /usr/local/lib/python3.6/dist-packages (from keras-applications>=1.0.8->tensorflow-gpu==2.0.0) (2.10.0)\n",
            "Requirement already satisfied: google-auth-oauthlib<0.5,>=0.4.1 in /usr/local/lib/python3.6/dist-packages (from tensorboard<2.1.0,>=2.0.0->tensorflow-gpu==2.0.0) (0.4.1)\n",
            "Requirement already satisfied: markdown>=2.6.8 in /usr/local/lib/python3.6/dist-packages (from tensorboard<2.1.0,>=2.0.0->tensorflow-gpu==2.0.0) (3.2.2)\n",
            "Requirement already satisfied: requests<3,>=2.21.0 in /usr/local/lib/python3.6/dist-packages (from tensorboard<2.1.0,>=2.0.0->tensorflow-gpu==2.0.0) (2.23.0)\n",
            "Requirement already satisfied: google-auth<2,>=1.6.3 in /usr/local/lib/python3.6/dist-packages (from tensorboard<2.1.0,>=2.0.0->tensorflow-gpu==2.0.0) (1.17.2)\n",
            "Requirement already satisfied: werkzeug>=0.11.15 in /usr/local/lib/python3.6/dist-packages (from tensorboard<2.1.0,>=2.0.0->tensorflow-gpu==2.0.0) (1.0.1)\n",
            "Requirement already satisfied: requests-oauthlib>=0.7.0 in /usr/local/lib/python3.6/dist-packages (from google-auth-oauthlib<0.5,>=0.4.1->tensorboard<2.1.0,>=2.0.0->tensorflow-gpu==2.0.0) (1.3.0)\n",
            "Requirement already satisfied: importlib-metadata; python_version < \"3.8\" in /usr/local/lib/python3.6/dist-packages (from markdown>=2.6.8->tensorboard<2.1.0,>=2.0.0->tensorflow-gpu==2.0.0) (2.0.0)\n",
            "Requirement already satisfied: chardet<4,>=3.0.2 in /usr/local/lib/python3.6/dist-packages (from requests<3,>=2.21.0->tensorboard<2.1.0,>=2.0.0->tensorflow-gpu==2.0.0) (3.0.4)\n",
            "Requirement already satisfied: idna<3,>=2.5 in /usr/local/lib/python3.6/dist-packages (from requests<3,>=2.21.0->tensorboard<2.1.0,>=2.0.0->tensorflow-gpu==2.0.0) (2.10)\n",
            "Requirement already satisfied: urllib3!=1.25.0,!=1.25.1,<1.26,>=1.21.1 in /usr/local/lib/python3.6/dist-packages (from requests<3,>=2.21.0->tensorboard<2.1.0,>=2.0.0->tensorflow-gpu==2.0.0) (1.24.3)\n",
            "Requirement already satisfied: certifi>=2017.4.17 in /usr/local/lib/python3.6/dist-packages (from requests<3,>=2.21.0->tensorboard<2.1.0,>=2.0.0->tensorflow-gpu==2.0.0) (2020.6.20)\n",
            "Requirement already satisfied: pyasn1-modules>=0.2.1 in /usr/local/lib/python3.6/dist-packages (from google-auth<2,>=1.6.3->tensorboard<2.1.0,>=2.0.0->tensorflow-gpu==2.0.0) (0.2.8)\n",
            "Requirement already satisfied: cachetools<5.0,>=2.0.0 in /usr/local/lib/python3.6/dist-packages (from google-auth<2,>=1.6.3->tensorboard<2.1.0,>=2.0.0->tensorflow-gpu==2.0.0) (4.1.1)\n",
            "Requirement already satisfied: rsa<5,>=3.1.4; python_version >= \"3\" in /usr/local/lib/python3.6/dist-packages (from google-auth<2,>=1.6.3->tensorboard<2.1.0,>=2.0.0->tensorflow-gpu==2.0.0) (4.6)\n",
            "Requirement already satisfied: oauthlib>=3.0.0 in /usr/local/lib/python3.6/dist-packages (from requests-oauthlib>=0.7.0->google-auth-oauthlib<0.5,>=0.4.1->tensorboard<2.1.0,>=2.0.0->tensorflow-gpu==2.0.0) (3.1.0)\n",
            "Requirement already satisfied: zipp>=0.5 in /usr/local/lib/python3.6/dist-packages (from importlib-metadata; python_version < \"3.8\"->markdown>=2.6.8->tensorboard<2.1.0,>=2.0.0->tensorflow-gpu==2.0.0) (3.2.0)\n",
            "Requirement already satisfied: pyasn1<0.5.0,>=0.4.6 in /usr/local/lib/python3.6/dist-packages (from pyasn1-modules>=0.2.1->google-auth<2,>=1.6.3->tensorboard<2.1.0,>=2.0.0->tensorflow-gpu==2.0.0) (0.4.8)\n"
          ],
          "name": "stdout"
        }
      ]
    },
    {
      "cell_type": "code",
      "metadata": {
        "id": "BOjujz601HcS",
        "outputId": "dd90f4c6-e7e3-4ddd-c0f4-57d1fd5fb398",
        "colab": {
          "base_uri": "https://localhost:8080/",
          "height": 50
        }
      },
      "source": [
        "import tensorflow as tf\n",
        "import numpy as np\n",
        "import matplotlib.pyplot as plt\n",
        "print(tf.__version__)\n",
        "print(tf.test.is_gpu_available())"
      ],
      "execution_count": 3,
      "outputs": [
        {
          "output_type": "stream",
          "text": [
            "2.0.0\n",
            "True\n"
          ],
          "name": "stdout"
        }
      ]
    },
    {
      "cell_type": "code",
      "metadata": {
        "id": "Zswl7jRtGzkk",
        "outputId": "2cc24bdb-1674-43c0-c4d0-1951e3343488",
        "colab": {
          "base_uri": "https://localhost:8080/",
          "height": 279
        }
      },
      "source": [
        "def plot_series(time, series, format=\"-\", start=0, end=None):\n",
        "    plt.plot(time[start:end], series[start:end], format)\n",
        "    plt.xlabel(\"Time\")\n",
        "    plt.ylabel(\"Value\")\n",
        "    plt.grid(False)\n",
        "\n",
        "def trend(time, slope=0):\n",
        "    return slope * time\n",
        "\n",
        "def seasonal_pattern(season_time):\n",
        "    \"\"\"Just an arbitrary pattern, you can change it if you wish\"\"\"\n",
        "    return np.where(season_time < 0.1,\n",
        "                    np.cos(season_time * 6 * np.pi),\n",
        "                     2 / np.exp(9 * season_time))\n",
        "\n",
        "def seasonality(time, period, amplitude=1, phase=0):\n",
        "    \"\"\"Repeats the same pattern at each period\"\"\"\n",
        "    season_time = ((time + phase) % period) / period\n",
        "    return amplitude * seasonal_pattern(season_time)\n",
        "\n",
        "def noise(time, noise_level=1, seed=None):\n",
        "    rnd = np.random.RandomState(seed)\n",
        "    return rnd.randn(len(time)) * noise_level\n",
        "\n",
        "time = np.arange(10 * 365 + 1, dtype=\"float32\")\n",
        "baseline = 10\n",
        "series = trend(time, 0.1)  \n",
        "baseline = 10\n",
        "amplitude = 40\n",
        "slope = 0.005\n",
        "noise_level = 3\n",
        "\n",
        "# Create the series\n",
        "series = baseline + trend(time, slope) + seasonality(time, period=365, amplitude=amplitude)\n",
        "# Update with noise\n",
        "series += noise(time, noise_level, seed=51)\n",
        "\n",
        "split_time = 3000\n",
        "time_train = time[:split_time]\n",
        "x_train = series[:split_time]\n",
        "time_valid = time[split_time:]\n",
        "x_valid = series[split_time:]\n",
        "\n",
        "window_size = 20\n",
        "batch_size = 32\n",
        "shuffle_buffer_size = 1000\n",
        "\n",
        "plot_series(time, series)"
      ],
      "execution_count": 4,
      "outputs": [
        {
          "output_type": "display_data",
          "data": {
            "image/png": "[encoded data removed]",
            "text/plain": [
              "<Figure size 432x288 with 1 Axes>"
            ]
          },
          "metadata": {
            "tags": [],
            "needs_background": "light"
          }
        }
      ]
    },
    {
      "cell_type": "markdown",
      "metadata": {
        "id": "GfUTNqti_lNC"
      },
      "source": [
        "Desired output -- a chart that looks like this:\n",
        "\n",
        "![Chart showing upward trend and seasonailty](http://www.laurencemoroney.com/wp-content/uploads/2019/07/plot1.png)"
      ]
    },
    {
      "cell_type": "code",
      "metadata": {
        "id": "4sTTIOCbyShY"
      },
      "source": [
        "def windowed_dataset(series, window_size, batch_size, shuffle_buffer):\n",
        "  dataset = tf.data.Dataset.from_tensor_slices(series)\n",
        "  dataset = dataset.window(window_size + 1, shift=1, drop_remainder=True)\n",
        "  dataset = dataset.flat_map(lambda window: window.batch(window_size + 1))\n",
        "  dataset = dataset.shuffle(shuffle_buffer).map(lambda window: (window[:-1], window[-1]))\n",
        "  dataset = dataset.batch(batch_size).prefetch(1)\n",
        "  return dataset"
      ],
      "execution_count": 5,
      "outputs": []
    },
    {
      "cell_type": "code",
      "metadata": {
        "id": "TW-vT7eLYAdb",
        "outputId": "d216972e-fcbc-4e75-f31b-596b140315c5",
        "colab": {
          "base_uri": "https://localhost:8080/",
          "height": 1000
        }
      },
      "source": [
        "dataset = windowed_dataset(x_train, window_size, batch_size, shuffle_buffer_size)\n",
        "\n",
        "\n",
        "model = tf.keras.models.Sequential([\n",
        "    tf.keras.layers.Dense(500,input_shape = [window_size]),\n",
        "    tf.keras.layers.Dense(250, activation=\"relu\"), \n",
        "    tf.keras.layers.Dense(1)\n",
        "])\n",
        "\n",
        "#lr_scheduler = tf.keras.callbacks.LearningRateScheduler(lambda epoch: 1e-6 * 10**(epoch/20))\n",
        "model.compile(loss=tf.keras.losses.Huber(), optimizer=tf.keras.optimizers.Adam(1e-4))\n",
        "model.fit(dataset,epochs=100,callbacks=[])\n"
      ],
      "execution_count": 6,
      "outputs": [
        {
          "output_type": "stream",
          "text": [
            "Epoch 1/100\n",
            "94/94 [==============================] - 2s 21ms/step - loss: 4.3275\n",
            "Epoch 2/100\n",
            "94/94 [==============================] - 1s 10ms/step - loss: 2.8330\n",
            "Epoch 3/100\n",
            "94/94 [==============================] - 1s 10ms/step - loss: 2.7508\n",
            "Epoch 4/100\n",
            "94/94 [==============================] - 1s 9ms/step - loss: 2.7230\n",
            "Epoch 5/100\n",
            "94/94 [==============================] - 1s 9ms/step - loss: 2.7719\n",
            "Epoch 6/100\n",
            "94/94 [==============================] - 1s 10ms/step - loss: 2.7092\n",
            "Epoch 7/100\n",
            "94/94 [==============================] - 1s 9ms/step - loss: 2.6214\n",
            "Epoch 8/100\n",
            "94/94 [==============================] - 1s 9ms/step - loss: 2.5983\n",
            "Epoch 9/100\n",
            "94/94 [==============================] - 1s 9ms/step - loss: 2.5860\n",
            "Epoch 10/100\n",
            "94/94 [==============================] - 1s 9ms/step - loss: 2.5599\n",
            "Epoch 11/100\n",
            "94/94 [==============================] - 1s 9ms/step - loss: 2.5340\n",
            "Epoch 12/100\n",
            "94/94 [==============================] - 1s 9ms/step - loss: 2.5767\n",
            "Epoch 13/100\n",
            "94/94 [==============================] - 1s 9ms/step - loss: 2.5125\n",
            "Epoch 14/100\n",
            "94/94 [==============================] - 1s 10ms/step - loss: 2.5377\n",
            "Epoch 15/100\n",
            "94/94 [==============================] - 1s 10ms/step - loss: 2.5276\n",
            "Epoch 16/100\n",
            "94/94 [==============================] - 1s 9ms/step - loss: 2.5357\n",
            "Epoch 17/100\n",
            "94/94 [==============================] - 1s 10ms/step - loss: 2.4898\n",
            "Epoch 18/100\n",
            "94/94 [==============================] - 1s 9ms/step - loss: 2.4818\n",
            "Epoch 19/100\n",
            "94/94 [==============================] - 1s 10ms/step - loss: 2.4902\n",
            "Epoch 20/100\n",
            "94/94 [==============================] - 1s 9ms/step - loss: 2.4478\n",
            "Epoch 21/100\n",
            "94/94 [==============================] - 1s 10ms/step - loss: 2.4538\n",
            "Epoch 22/100\n",
            "94/94 [==============================] - 1s 11ms/step - loss: 2.4621\n",
            "Epoch 23/100\n",
            "94/94 [==============================] - 1s 10ms/step - loss: 2.5067\n",
            "Epoch 24/100\n",
            "94/94 [==============================] - 1s 10ms/step - loss: 2.4315\n",
            "Epoch 25/100\n",
            "94/94 [==============================] - 1s 10ms/step - loss: 2.4236\n",
            "Epoch 26/100\n",
            "94/94 [==============================] - 1s 10ms/step - loss: 2.4514\n",
            "Epoch 27/100\n",
            "94/94 [==============================] - 1s 10ms/step - loss: 2.4316\n",
            "Epoch 28/100\n",
            "94/94 [==============================] - 1s 10ms/step - loss: 2.4186\n",
            "Epoch 29/100\n",
            "94/94 [==============================] - 1s 9ms/step - loss: 2.3954\n",
            "Epoch 30/100\n",
            "94/94 [==============================] - 1s 10ms/step - loss: 2.5252\n",
            "Epoch 31/100\n",
            "94/94 [==============================] - 1s 10ms/step - loss: 2.4178\n",
            "Epoch 32/100\n",
            "94/94 [==============================] - 1s 10ms/step - loss: 2.4398\n",
            "Epoch 33/100\n",
            "94/94 [==============================] - 1s 9ms/step - loss: 2.4110\n",
            "Epoch 34/100\n",
            "94/94 [==============================] - 1s 10ms/step - loss: 2.4489\n",
            "Epoch 35/100\n",
            "94/94 [==============================] - 1s 9ms/step - loss: 2.4110\n",
            "Epoch 36/100\n",
            "94/94 [==============================] - 1s 10ms/step - loss: 2.4038\n",
            "Epoch 37/100\n",
            "94/94 [==============================] - 1s 10ms/step - loss: 2.3705\n",
            "Epoch 38/100\n",
            "94/94 [==============================] - 1s 9ms/step - loss: 2.3792\n",
            "Epoch 39/100\n",
            "94/94 [==============================] - 1s 10ms/step - loss: 2.4718\n",
            "Epoch 40/100\n",
            "94/94 [==============================] - 1s 11ms/step - loss: 2.4326\n",
            "Epoch 41/100\n",
            "94/94 [==============================] - 1s 10ms/step - loss: 2.3954\n",
            "Epoch 42/100\n",
            "94/94 [==============================] - 1s 10ms/step - loss: 2.3625\n",
            "Epoch 43/100\n",
            "94/94 [==============================] - 1s 10ms/step - loss: 2.4094\n",
            "Epoch 44/100\n",
            "94/94 [==============================] - 1s 10ms/step - loss: 2.3827\n",
            "Epoch 45/100\n",
            "94/94 [==============================] - 1s 10ms/step - loss: 2.4059\n",
            "Epoch 46/100\n",
            "94/94 [==============================] - 1s 9ms/step - loss: 2.3381\n",
            "Epoch 47/100\n",
            "94/94 [==============================] - 1s 9ms/step - loss: 2.3491\n",
            "Epoch 48/100\n",
            "94/94 [==============================] - 1s 10ms/step - loss: 2.3976\n",
            "Epoch 49/100\n",
            "94/94 [==============================] - 1s 10ms/step - loss: 2.4017\n",
            "Epoch 50/100\n",
            "94/94 [==============================] - 1s 8ms/step - loss: 2.3518\n",
            "Epoch 51/100\n",
            "94/94 [==============================] - 1s 9ms/step - loss: 2.3470\n",
            "Epoch 52/100\n",
            "94/94 [==============================] - 1s 10ms/step - loss: 2.4187\n",
            "Epoch 53/100\n",
            "94/94 [==============================] - 1s 9ms/step - loss: 2.3316\n",
            "Epoch 54/100\n",
            "94/94 [==============================] - 1s 9ms/step - loss: 2.3697\n",
            "Epoch 55/100\n",
            "94/94 [==============================] - 1s 10ms/step - loss: 2.3251\n",
            "Epoch 56/100\n",
            "94/94 [==============================] - 1s 10ms/step - loss: 2.3219\n",
            "Epoch 57/100\n",
            "94/94 [==============================] - 1s 10ms/step - loss: 2.3069\n",
            "Epoch 58/100\n",
            "94/94 [==============================] - 1s 9ms/step - loss: 2.3110\n",
            "Epoch 59/100\n",
            "94/94 [==============================] - 1s 10ms/step - loss: 2.3478\n",
            "Epoch 60/100\n",
            "94/94 [==============================] - 1s 10ms/step - loss: 2.3931\n",
            "Epoch 61/100\n",
            "94/94 [==============================] - 1s 10ms/step - loss: 2.3567\n",
            "Epoch 62/100\n",
            "94/94 [==============================] - 1s 9ms/step - loss: 2.3437\n",
            "Epoch 63/100\n",
            "94/94 [==============================] - 1s 10ms/step - loss: 2.3608\n",
            "Epoch 64/100\n",
            "94/94 [==============================] - 1s 9ms/step - loss: 2.2976\n",
            "Epoch 65/100\n",
            "94/94 [==============================] - 1s 9ms/step - loss: 2.3294\n",
            "Epoch 66/100\n",
            "94/94 [==============================] - 1s 10ms/step - loss: 2.4252\n",
            "Epoch 67/100\n",
            "94/94 [==============================] - 1s 9ms/step - loss: 2.3075\n",
            "Epoch 68/100\n",
            "94/94 [==============================] - 1s 10ms/step - loss: 2.3176\n",
            "Epoch 69/100\n",
            "94/94 [==============================] - 1s 10ms/step - loss: 2.2678\n",
            "Epoch 70/100\n",
            "94/94 [==============================] - 1s 10ms/step - loss: 2.2943\n",
            "Epoch 71/100\n",
            "94/94 [==============================] - 1s 10ms/step - loss: 2.3006\n",
            "Epoch 72/100\n",
            "94/94 [==============================] - 1s 9ms/step - loss: 2.3357\n",
            "Epoch 73/100\n",
            "94/94 [==============================] - 1s 10ms/step - loss: 2.3400\n",
            "Epoch 74/100\n",
            "94/94 [==============================] - 1s 10ms/step - loss: 2.2985\n",
            "Epoch 75/100\n",
            "94/94 [==============================] - 1s 10ms/step - loss: 2.2573\n",
            "Epoch 76/100\n",
            "94/94 [==============================] - 1s 10ms/step - loss: 2.3201\n",
            "Epoch 77/100\n",
            "94/94 [==============================] - 1s 9ms/step - loss: 2.2891\n",
            "Epoch 78/100\n",
            "94/94 [==============================] - 1s 10ms/step - loss: 2.2847\n",
            "Epoch 79/100\n",
            "94/94 [==============================] - 1s 10ms/step - loss: 2.2733\n",
            "Epoch 80/100\n",
            "94/94 [==============================] - 1s 9ms/step - loss: 2.3041\n",
            "Epoch 81/100\n",
            "94/94 [==============================] - 1s 10ms/step - loss: 2.2824\n",
            "Epoch 82/100\n",
            "94/94 [==============================] - 1s 9ms/step - loss: 2.3064\n",
            "Epoch 83/100\n",
            "94/94 [==============================] - 1s 9ms/step - loss: 2.2905\n",
            "Epoch 84/100\n",
            "94/94 [==============================] - 1s 10ms/step - loss: 2.3076\n",
            "Epoch 85/100\n",
            "94/94 [==============================] - 1s 10ms/step - loss: 2.2664\n",
            "Epoch 86/100\n",
            "94/94 [==============================] - 1s 9ms/step - loss: 2.2618\n",
            "Epoch 87/100\n",
            "94/94 [==============================] - 1s 10ms/step - loss: 2.2490\n",
            "Epoch 88/100\n",
            "94/94 [==============================] - 1s 10ms/step - loss: 2.2508\n",
            "Epoch 89/100\n",
            "94/94 [==============================] - 1s 10ms/step - loss: 2.2644\n",
            "Epoch 90/100\n",
            "94/94 [==============================] - 1s 10ms/step - loss: 2.3262\n",
            "Epoch 91/100\n",
            "94/94 [==============================] - 1s 10ms/step - loss: 2.2697\n",
            "Epoch 92/100\n",
            "94/94 [==============================] - 1s 10ms/step - loss: 2.2862\n",
            "Epoch 93/100\n",
            "94/94 [==============================] - 1s 10ms/step - loss: 2.2391\n",
            "Epoch 94/100\n",
            "94/94 [==============================] - 1s 10ms/step - loss: 2.2315\n",
            "Epoch 95/100\n",
            "94/94 [==============================] - 1s 10ms/step - loss: 2.2585\n",
            "Epoch 96/100\n",
            "94/94 [==============================] - 1s 10ms/step - loss: 2.2878\n",
            "Epoch 97/100\n",
            "94/94 [==============================] - 1s 10ms/step - loss: 2.2378\n",
            "Epoch 98/100\n",
            "94/94 [==============================] - 1s 10ms/step - loss: 2.2442\n",
            "Epoch 99/100\n",
            "94/94 [==============================] - 1s 9ms/step - loss: 2.2610\n",
            "Epoch 100/100\n",
            "94/94 [==============================] - 1s 10ms/step - loss: 2.2268\n"
          ],
          "name": "stdout"
        },
        {
          "output_type": "execute_result",
          "data": {
            "text/plain": [
              "<tensorflow.python.keras.callbacks.History at 0x7fd6c02c6160>"
            ]
          },
          "metadata": {
            "tags": []
          },
          "execution_count": 6
        }
      ]
    },
    {
      "cell_type": "code",
      "metadata": {
        "id": "WFSB_jeQ4pzU"
      },
      "source": [
        "# plt.semilogx(model.history.history['lr'],model.history.history['loss'])\n",
        "# plt.axis([1e-6,1e-1,2,15])"
      ],
      "execution_count": 7,
      "outputs": []
    },
    {
      "cell_type": "code",
      "metadata": {
        "id": "efhco2rYyIFF",
        "outputId": "922c4c0b-5a7e-41d8-d1de-5d6013b4e624",
        "colab": {
          "base_uri": "https://localhost:8080/",
          "height": 388
        }
      },
      "source": [
        "forecast = []\n",
        "for time in range(len(series) - window_size):\n",
        "  forecast.append(model.predict(np.expand_dims(series[time:time + window_size],axis=0)))\n",
        "\n",
        "forecast = forecast[split_time-window_size:]\n",
        "results = np.array(forecast)[:, 0, 0]\n",
        "\n",
        "\n",
        "plt.figure(figsize=(10, 6))\n",
        "\n",
        "plot_series(time_valid, x_valid)\n",
        "plot_series(time_valid, results)"
      ],
      "execution_count": 8,
      "outputs": [
        {
          "output_type": "display_data",
          "data": {
            "image/png": "[encoded data removed]",
            "text/plain": [
              "<Figure size 720x432 with 1 Axes>"
            ]
          },
          "metadata": {
            "tags": [],
            "needs_background": "light"
          }
        }
      ]
    },
    {
      "cell_type": "code",
      "metadata": {
        "id": "-kT6j186YO6K",
        "outputId": "616c72e9-ad3c-46ab-8896-b3b6e4908c28",
        "colab": {
          "base_uri": "https://localhost:8080/",
          "height": 34
        }
      },
      "source": [
        "tf.keras.metrics.mean_absolute_error(x_valid, results).numpy()\n",
        "# EXPECTED OUTPUT\n",
        "# A Value less than 3"
      ],
      "execution_count": 9,
      "outputs": [
        {
          "output_type": "execute_result",
          "data": {
            "text/plain": [
              "2.788055"
            ]
          },
          "metadata": {
            "tags": []
          },
          "execution_count": 9
        }
      ]
    },
    {
      "cell_type": "code",
      "metadata": {
        "id": "EophUdQTnVlP"
      },
      "source": [
        ""
      ],
      "execution_count": 9,
      "outputs": []
    }
  ]
}